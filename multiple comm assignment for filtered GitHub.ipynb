{
 "cells": [
  {
   "cell_type": "code",
   "execution_count": 17,
   "outputs": [],
   "source": [
    "import pandas as pd\n",
    "import matplotlib.pyplot as plt\n",
    "import networkx as nx\n",
    "import ndex2\n",
    "import ndex2.client\n",
    "from ndex2 import cx2\n"
   ],
   "metadata": {
    "collapsed": false,
    "ExecuteTime": {
     "end_time": "2025-03-15T04:20:18.357062Z",
     "start_time": "2025-03-15T04:20:18.283084Z"
    }
   },
   "id": "184e0d50dd3145f4"
  },
  {
   "cell_type": "code",
   "execution_count": 18,
   "outputs": [],
   "source": [
    "filtered_network=pd.read_table('/filtered_interaction_network_version2.tsv')\n"
   ],
   "metadata": {
    "collapsed": false,
    "ExecuteTime": {
     "end_time": "2025-03-15T04:20:19.427138Z",
     "start_time": "2025-03-15T04:20:19.344539Z"
    }
   },
   "id": "8eb147960537453c"
  },
  {
   "cell_type": "code",
   "execution_count": 19,
   "outputs": [
    {
     "data": {
      "text/plain": "<networkx.classes.graph.Graph at 0x17d5fab70>"
     },
     "execution_count": 19,
     "metadata": {},
     "output_type": "execute_result"
    }
   ],
   "source": [
    "import networkx as nx\n",
    "\n",
    "# Create a graph \n",
    "\n",
    "filtered_nxg = nx.Graph()\n",
    "\n",
    "# Add edges from DataFrame\n",
    "filtered_nxg.add_weighted_edges_from(filtered_network.itertuples(index=False, name=None))\n",
    "filtered_nxg\n"
   ],
   "metadata": {
    "collapsed": false,
    "ExecuteTime": {
     "end_time": "2025-03-15T04:20:21.431795Z",
     "start_time": "2025-03-15T04:20:21.418052Z"
    }
   },
   "id": "40381da6ad82f810"
  },
  {
   "cell_type": "code",
   "execution_count": 20,
   "outputs": [],
   "source": [
    "communities = nx.community.louvain_communities(filtered_nxg, resolution=5)\n"
   ],
   "metadata": {
    "collapsed": false,
    "ExecuteTime": {
     "end_time": "2025-03-15T04:20:55.568250Z",
     "start_time": "2025-03-15T04:20:55.176612Z"
    }
   },
   "id": "ef42d7a5078ac8b5"
  },
  {
   "cell_type": "code",
   "execution_count": 21,
   "outputs": [
    {
     "data": {
      "text/plain": "109"
     },
     "execution_count": 21,
     "metadata": {},
     "output_type": "execute_result"
    }
   ],
   "source": [
    "len(communities)"
   ],
   "metadata": {
    "collapsed": false,
    "ExecuteTime": {
     "end_time": "2025-03-15T04:20:56.583244Z",
     "start_time": "2025-03-15T04:20:56.541688Z"
    }
   },
   "id": "d8608e610d501f78"
  },
  {
   "cell_type": "code",
   "execution_count": 22,
   "outputs": [
    {
     "data": {
      "text/plain": "66"
     },
     "execution_count": 22,
     "metadata": {},
     "output_type": "execute_result"
    },
    {
     "data": {
      "text/plain": "<Figure size 640x480 with 1 Axes>",
      "image/png": "[encoded data removed]"
     },
     "metadata": {},
     "output_type": "display_data"
    }
   ],
   "source": [
    "\n",
    "\n",
    "com_size = []\n",
    "ones = 0\n",
    "for community in communities:\n",
    "    com_size.append(len(community))\n",
    "    if len(community) == 1:\n",
    "        ones += 1\n",
    "plt.hist(com_size)\n",
    "\n",
    "ones"
   ],
   "metadata": {
    "collapsed": false,
    "ExecuteTime": {
     "end_time": "2025-03-15T04:20:58.641644Z",
     "start_time": "2025-03-15T04:20:58.543236Z"
    }
   },
   "id": "4b54f5a25c339993"
  },
  {
   "cell_type": "code",
   "execution_count": 23,
   "outputs": [],
   "source": [
    "label_list = []\n",
    "nodes_list = []\n",
    "general_label_list=[]\n",
    "label = 1\n",
    "for community in communities:\n",
    "    for nod in community:\n",
    "        label_list.append(\"community \" + str(label))\n",
    "        nodes_list.append(nod)\n",
    "    general_label_list.append(label)\n",
    "    label += 1"
   ],
   "metadata": {
    "collapsed": false,
    "ExecuteTime": {
     "end_time": "2025-03-15T04:21:06.458945Z",
     "start_time": "2025-03-15T04:21:06.399015Z"
    }
   },
   "id": "aa7040b68eab4597"
  },
  {
   "cell_type": "code",
   "execution_count": 24,
   "outputs": [],
   "source": [
    "output_21_for_overlap_filtered = pd.DataFrame({\"comm_id\": general_label_list,\n",
    "                             \"comm\": communities}\n",
    "                             )\n"
   ],
   "metadata": {
    "collapsed": false,
    "ExecuteTime": {
     "end_time": "2025-03-15T04:21:13.690545Z",
     "start_time": "2025-03-15T04:21:13.625075Z"
    }
   },
   "id": "f1d317e292e1024c"
  },
  {
   "cell_type": "code",
   "execution_count": 25,
   "outputs": [
    {
     "data": {
      "text/plain": "[1,\n 2,\n 3,\n 4,\n 5,\n 6,\n 7,\n 8,\n 9,\n 10,\n 11,\n 12,\n 13,\n 14,\n 15,\n 16,\n 17,\n 18,\n 19,\n 20,\n 21,\n 22,\n 23,\n 24,\n 25,\n 26,\n 27,\n 28,\n 29,\n 30,\n 31,\n 32,\n 33,\n 34,\n 35,\n 36,\n 37,\n 38,\n 39,\n 40,\n 41,\n 42,\n 43,\n 44,\n 45,\n 46,\n 47,\n 48,\n 49,\n 50,\n 51,\n 52,\n 53,\n 54,\n 55,\n 56,\n 57,\n 58,\n 59,\n 60,\n 61,\n 62,\n 63,\n 64,\n 65,\n 66,\n 67,\n 68,\n 69,\n 70,\n 71,\n 72,\n 73,\n 74,\n 75,\n 76,\n 77,\n 78,\n 79,\n 80,\n 81,\n 82,\n 83,\n 84,\n 85,\n 86,\n 87,\n 88,\n 89,\n 90,\n 91,\n 92,\n 93,\n 94,\n 95,\n 96,\n 97,\n 98,\n 99,\n 100,\n 101,\n 102,\n 103,\n 104,\n 105,\n 106,\n 107,\n 108,\n 109]"
     },
     "execution_count": 25,
     "metadata": {},
     "output_type": "execute_result"
    }
   ],
   "source": [
    "#sanity check\n",
    "general_label_list"
   ],
   "metadata": {
    "collapsed": false,
    "ExecuteTime": {
     "end_time": "2025-03-15T04:21:17.428592Z",
     "start_time": "2025-03-15T04:21:17.354587Z"
    }
   },
   "id": "b13ef45c7f093662"
  },
  {
   "cell_type": "code",
   "execution_count": 26,
   "outputs": [
    {
     "data": {
      "text/plain": "109"
     },
     "execution_count": 26,
     "metadata": {},
     "output_type": "execute_result"
    }
   ],
   "source": [
    "len(general_label_list)\n"
   ],
   "metadata": {
    "collapsed": false,
    "ExecuteTime": {
     "end_time": "2025-03-15T04:21:18.797551Z",
     "start_time": "2025-03-15T04:21:18.746124Z"
    }
   },
   "id": "f2030c7dec9471fc"
  },
  {
   "cell_type": "code",
   "execution_count": 27,
   "outputs": [
    {
     "data": {
      "text/plain": "     comm_id                                               comm\n0          1  {YWRQWOGXY, 7Y4OK6WUE, AQ69R055Z, 6L185X52Y, D...\n1          2                                        {GRBZP9AMN}\n2          3                                        {X13HPGM1A}\n3          4                                        {5SXEP0WKI}\n4          5                                        {B1YGO6HY5}\n..       ...                                                ...\n104      105                                        {S8JIH40OC}\n105      106                                        {AU6WSDEUP}\n106      107                                        {2NSKWGEB8}\n107      108  {TER22Y23C, U8EMJ67QR, AZB66ZE59, HOGJPGIZZ, Y...\n108      109                                        {8TPQ9WRR1}\n\n[109 rows x 2 columns]",
      "text/html": "<div>\n<style scoped>\n    .dataframe tbody tr th:only-of-type {\n        vertical-align: middle;\n    }\n\n    .dataframe tbody tr th {\n        vertical-align: top;\n    }\n\n    .dataframe thead th {\n        text-align: right;\n    }\n</style>\n<table border=\"1\" class=\"dataframe\">\n  <thead>\n    <tr style=\"text-align: right;\">\n      <th></th>\n      <th>comm_id</th>\n      <th>comm</th>\n    </tr>\n  </thead>\n  <tbody>\n    <tr>\n      <th>0</th>\n      <td>1</td>\n      <td>{YWRQWOGXY, 7Y4OK6WUE, AQ69R055Z, 6L185X52Y, D...</td>\n    </tr>\n    <tr>\n      <th>1</th>\n      <td>2</td>\n      <td>{GRBZP9AMN}</td>\n    </tr>\n    <tr>\n      <th>2</th>\n      <td>3</td>\n      <td>{X13HPGM1A}</td>\n    </tr>\n    <tr>\n      <th>3</th>\n      <td>4</td>\n      <td>{5SXEP0WKI}</td>\n    </tr>\n    <tr>\n      <th>4</th>\n      <td>5</td>\n      <td>{B1YGO6HY5}</td>\n    </tr>\n    <tr>\n      <th>...</th>\n      <td>...</td>\n      <td>...</td>\n    </tr>\n    <tr>\n      <th>104</th>\n      <td>105</td>\n      <td>{S8JIH40OC}</td>\n    </tr>\n    <tr>\n      <th>105</th>\n      <td>106</td>\n      <td>{AU6WSDEUP}</td>\n    </tr>\n    <tr>\n      <th>106</th>\n      <td>107</td>\n      <td>{2NSKWGEB8}</td>\n    </tr>\n    <tr>\n      <th>107</th>\n      <td>108</td>\n      <td>{TER22Y23C, U8EMJ67QR, AZB66ZE59, HOGJPGIZZ, Y...</td>\n    </tr>\n    <tr>\n      <th>108</th>\n      <td>109</td>\n      <td>{8TPQ9WRR1}</td>\n    </tr>\n  </tbody>\n</table>\n<p>109 rows × 2 columns</p>\n</div>"
     },
     "execution_count": 27,
     "metadata": {},
     "output_type": "execute_result"
    }
   ],
   "source": [
    "output_21_for_overlap_filtered"
   ],
   "metadata": {
    "collapsed": false,
    "ExecuteTime": {
     "end_time": "2025-03-15T04:21:24.780166Z",
     "start_time": "2025-03-15T04:21:24.700545Z"
    }
   },
   "id": "93490a1b8ebdf2d8"
  },
  {
   "cell_type": "code",
   "execution_count": 28,
   "outputs": [],
   "source": [
    "output_21_for_overlap_filtered.to_csv(\"output_21 comm list filtered prime.csv\", index=False)"
   ],
   "metadata": {
    "collapsed": false,
    "ExecuteTime": {
     "end_time": "2025-03-15T04:21:46.715957Z",
     "start_time": "2025-03-15T04:21:46.615796Z"
    }
   },
   "id": "7d13aa61d7b9fef2"
  },
  {
   "cell_type": "code",
   "execution_count": null,
   "outputs": [],
   "source": [],
   "metadata": {
    "collapsed": false
   },
   "id": "2a58f860c28babce"
  },
  {
   "cell_type": "code",
   "execution_count": 29,
   "outputs": [],
   "source": [
    "output_21 = pd.DataFrame({\"id\": range(len(nodes_list)),\n",
    "                             \"xxx\": nodes_list,\n",
    "                             \"prediction\": label_list})\n"
   ],
   "metadata": {
    "collapsed": false,
    "ExecuteTime": {
     "end_time": "2025-03-15T04:22:22.157915Z",
     "start_time": "2025-03-15T04:22:22.043368Z"
    }
   },
   "id": "190388cb031841b1"
  },
  {
   "cell_type": "code",
   "execution_count": null,
   "outputs": [],
   "source": [
    "#second commmunity set with random initialization\n"
   ],
   "metadata": {
    "collapsed": false
   },
   "id": "2fc324507722c665"
  },
  {
   "cell_type": "code",
   "execution_count": null,
   "outputs": [],
   "source": [
    "communities = nx.community.louvain_communities(filtered_nxg, resolution=5)\n"
   ],
   "metadata": {
    "collapsed": false
   },
   "id": "c200bbf62ae8000c"
  },
  {
   "cell_type": "code",
   "execution_count": null,
   "outputs": [],
   "source": [
    "label_list = []\n",
    "nodes_list = []\n",
    "general_label_list = []\n",
    "label = 1\n",
    "for community in communities:\n",
    "    for nod in community:\n",
    "        label_list.append(\"community \" + str(label))\n",
    "        nodes_list.append(nod)\n",
    "    general_label_list.append(label)\n",
    "    label += 1\n"
   ],
   "metadata": {
    "collapsed": false
   },
   "id": "a4943e9d99b9269c"
  },
  {
   "cell_type": "code",
   "execution_count": null,
   "outputs": [],
   "source": [
    "output_21_for_overlap_filtered = pd.DataFrame({\"comm_id\": general_label_list,\n",
    "                                               \"comm\": communities}\n",
    "                                              )\n"
   ],
   "metadata": {
    "collapsed": false
   },
   "id": "c4330d00db278108"
  },
  {
   "cell_type": "code",
   "execution_count": null,
   "outputs": [],
   "source": [
    "output_21 = pd.DataFrame({\"id\": range(len(nodes_list)),\n",
    "                             \"xxx\": nodes_list,\n",
    "                             \"prediction\": label_list})\n"
   ],
   "metadata": {
    "collapsed": false
   },
   "id": "2a8d97e18a086d29"
  },
  {
   "cell_type": "code",
   "execution_count": 30,
   "outputs": [],
   "source": [
    "\n",
    "output_21.to_csv(\"/output_21 prime.csv\", index=False)\n"
   ],
   "metadata": {
    "collapsed": false,
    "ExecuteTime": {
     "end_time": "2025-03-15T04:22:43.048660Z",
     "start_time": "2025-03-15T04:22:42.996043Z"
    }
   },
   "id": "adbfcb611c042103"
  },
  {
   "cell_type": "code",
   "execution_count": null,
   "outputs": [],
   "source": [],
   "metadata": {
    "collapsed": false
   },
   "id": "740c5adf155feb97"
  },
  {
   "cell_type": "code",
   "execution_count": null,
   "outputs": [],
   "source": [],
   "metadata": {
    "collapsed": false
   },
   "id": "40e9537918f8272b"
  },
  {
   "cell_type": "code",
   "execution_count": 31,
   "outputs": [],
   "source": [
    "# Define Jaccard Similarity Function\n",
    "def jaccard_similarity(set1, set2):\n",
    "    return len(set1 & set2) / len(set1 | set2) if len(set1 | set2) > 0 else 0\n"
   ],
   "metadata": {
    "collapsed": false,
    "ExecuteTime": {
     "end_time": "2025-03-15T04:22:55.225879Z",
     "start_time": "2025-03-15T04:22:55.163693Z"
    }
   },
   "id": "3f0b9ff9c39e583"
  },
  {
   "cell_type": "code",
   "execution_count": null,
   "outputs": [],
   "source": [],
   "metadata": {
    "collapsed": false
   },
   "id": "7c1918f5029fd906"
  },
  {
   "cell_type": "code",
   "execution_count": 33,
   "outputs": [
    {
     "data": {
      "text/plain": "     comm_id                                               comm\n0          1  {'YWRQWOGXY', '7Y4OK6WUE', 'AQ69R055Z', '6L185...\n1          2                                      {'GRBZP9AMN'}\n2          3                                      {'X13HPGM1A'}\n3          4                                      {'5SXEP0WKI'}\n4          5                                      {'B1YGO6HY5'}\n..       ...                                                ...\n104      105                                      {'S8JIH40OC'}\n105      106                                      {'AU6WSDEUP'}\n106      107                                      {'2NSKWGEB8'}\n107      108  {'TER22Y23C', 'U8EMJ67QR', 'AZB66ZE59', 'HOGJP...\n108      109                                      {'8TPQ9WRR1'}\n\n[109 rows x 2 columns]",
      "text/html": "<div>\n<style scoped>\n    .dataframe tbody tr th:only-of-type {\n        vertical-align: middle;\n    }\n\n    .dataframe tbody tr th {\n        vertical-align: top;\n    }\n\n    .dataframe thead th {\n        text-align: right;\n    }\n</style>\n<table border=\"1\" class=\"dataframe\">\n  <thead>\n    <tr style=\"text-align: right;\">\n      <th></th>\n      <th>comm_id</th>\n      <th>comm</th>\n    </tr>\n  </thead>\n  <tbody>\n    <tr>\n      <th>0</th>\n      <td>1</td>\n      <td>{'YWRQWOGXY', '7Y4OK6WUE', 'AQ69R055Z', '6L185...</td>\n    </tr>\n    <tr>\n      <th>1</th>\n      <td>2</td>\n      <td>{'GRBZP9AMN'}</td>\n    </tr>\n    <tr>\n      <th>2</th>\n      <td>3</td>\n      <td>{'X13HPGM1A'}</td>\n    </tr>\n    <tr>\n      <th>3</th>\n      <td>4</td>\n      <td>{'5SXEP0WKI'}</td>\n    </tr>\n    <tr>\n      <th>4</th>\n      <td>5</td>\n      <td>{'B1YGO6HY5'}</td>\n    </tr>\n    <tr>\n      <th>...</th>\n      <td>...</td>\n      <td>...</td>\n    </tr>\n    <tr>\n      <th>104</th>\n      <td>105</td>\n      <td>{'S8JIH40OC'}</td>\n    </tr>\n    <tr>\n      <th>105</th>\n      <td>106</td>\n      <td>{'AU6WSDEUP'}</td>\n    </tr>\n    <tr>\n      <th>106</th>\n      <td>107</td>\n      <td>{'2NSKWGEB8'}</td>\n    </tr>\n    <tr>\n      <th>107</th>\n      <td>108</td>\n      <td>{'TER22Y23C', 'U8EMJ67QR', 'AZB66ZE59', 'HOGJP...</td>\n    </tr>\n    <tr>\n      <th>108</th>\n      <td>109</td>\n      <td>{'8TPQ9WRR1'}</td>\n    </tr>\n  </tbody>\n</table>\n<p>109 rows × 2 columns</p>\n</div>"
     },
     "execution_count": 33,
     "metadata": {},
     "output_type": "execute_result"
    }
   ],
   "source": [
    "#  two different community set\n",
    "partition1 = pd.read_csv(\"output_21 comm list filtered.csv\")\n",
    "partition2 =pd.read_csv(\"output_21 comm list filtered prime.csv\")\n",
    "partition2"
   ],
   "metadata": {
    "collapsed": false,
    "ExecuteTime": {
     "end_time": "2025-03-15T04:23:52.851347Z",
     "start_time": "2025-03-15T04:23:52.797994Z"
    }
   },
   "id": "728e60a22f67464d"
  },
  {
   "cell_type": "code",
   "execution_count": 34,
   "outputs": [],
   "source": [
    "import numpy as np"
   ],
   "metadata": {
    "collapsed": false,
    "ExecuteTime": {
     "end_time": "2025-03-15T04:23:57.748468Z",
     "start_time": "2025-03-15T04:23:57.667313Z"
    }
   },
   "id": "b52128d48b488625"
  },
  {
   "cell_type": "code",
   "execution_count": 36,
   "outputs": [],
   "source": [
    "\n",
    "# Convert  for easy comparison\n",
    "comm1_sets_pre = [comm for comm in partition1[\"comm\"]]\n",
    "comm2_sets_pre = [comm for comm in partition2[\"comm\"]]\n"
   ],
   "metadata": {
    "collapsed": false,
    "ExecuteTime": {
     "end_time": "2025-03-15T04:24:33.123723Z",
     "start_time": "2025-03-15T04:24:33.075575Z"
    }
   },
   "id": "c2aec0a43b7b661"
  },
  {
   "cell_type": "code",
   "execution_count": 37,
   "outputs": [],
   "source": [
    "# communities are as strings I need to convert them to list or set "
   ],
   "metadata": {
    "collapsed": false,
    "ExecuteTime": {
     "end_time": "2025-03-15T04:24:34.481181Z",
     "start_time": "2025-03-15T04:24:34.395760Z"
    }
   },
   "id": "8f98133b48315d31"
  },
  {
   "cell_type": "code",
   "execution_count": 39,
   "outputs": [
    {
     "data": {
      "text/plain": "113"
     },
     "execution_count": 39,
     "metadata": {},
     "output_type": "execute_result"
    }
   ],
   "source": [
    "comm1_sets_polished=[comm.translate(str.maketrans(\"\",\"\",\"{}\")) for comm in comm1_sets_pre ]\n",
    "#sanity check\n",
    "#comm1_sets_polished[0]\n",
    "len(comm1_sets_polished)"
   ],
   "metadata": {
    "collapsed": false,
    "ExecuteTime": {
     "end_time": "2025-03-15T04:24:49.965277Z",
     "start_time": "2025-03-15T04:24:49.894205Z"
    }
   },
   "id": "69eeda95a979a8bd"
  },
  {
   "cell_type": "code",
   "execution_count": 41,
   "outputs": [
    {
     "data": {
      "text/plain": "\"'YWRQWOGXY', '7Y4OK6WUE', 'AQ69R055Z', '6L185X52Y', 'DS78QQXGW', 'JE80YJ1IN', 'VA4SXLLR5', '7Q1COC0ZE', 'DBP7NP5YE', '9IIOSGCMD', 'Q4JG9LJV1', 'VPGEFD68Q', 'OY6QMFL84', 'YF41U5FY6', '21QW58OKO', '014RTH812', '4WK5AWN01', 'IXK1CISFX', '563I60QTS', 'ZBLZIXJDM', '7HHTPPF4Y', 'U95UK89JI', '2TS5RQWDI', 'WPCIJLU3N', 'JNZ6OMRZO', 'A9D8K3P9O', '35N5502MV', '5TAREL6KW', 'OBT4O2J17', 'CSVH2PL9J', 'O893081J5', '4GZKRJA02', '5TWG6M09W', 'DWW5SV8NM', '53TVZQWLY', 'ADMGIKK1Z', 'PJGEJG64N', 'HQX7RUCJH'\""
     },
     "execution_count": 41,
     "metadata": {},
     "output_type": "execute_result"
    }
   ],
   "source": [
    "comm2_sets_polished=[comm.translate(str.maketrans(\"\",\"\",\"{}\")) for comm in comm2_sets_pre ]\n",
    "#sanity check\n",
    "comm2_sets_polished[0]\n",
    "#len(comm1_sets_polished)"
   ],
   "metadata": {
    "collapsed": false,
    "ExecuteTime": {
     "end_time": "2025-03-15T04:25:12.899854Z",
     "start_time": "2025-03-15T04:25:12.823996Z"
    }
   },
   "id": "1bf201004267404"
  },
  {
   "cell_type": "code",
   "execution_count": 42,
   "outputs": [
    {
     "data": {
      "text/plain": "[{'2TS5RQWDI',\n  '35N5502MV',\n  '4GZKRJA02',\n  '4WK5AWN01',\n  '53TVZQWLY',\n  '563I60QTS',\n  '5TAREL6KW',\n  '5TWG6M09W',\n  '6L185X52Y',\n  '7HHTPPF4Y',\n  '7Q1COC0ZE',\n  '7Y4OK6WUE',\n  '9IIOSGCMD',\n  'ADMGIKK1Z',\n  'AQ69R055Z',\n  'CSVH2PL9J',\n  'DBP7NP5YE',\n  'DS78QQXGW',\n  'DWW5SV8NM',\n  'HQX7RUCJH',\n  'IXK1CISFX',\n  'JE80YJ1IN',\n  'JNZ6OMRZO',\n  'OBT4O2J17',\n  'OY6QMFL84',\n  'Q4JG9LJV1',\n  'U95UK89JI',\n  'VA4SXLLR5',\n  'VPGEFD68Q',\n  'WPCIJLU3N',\n  'YF41U5FY6',\n  'YWRQWOGXY',\n  'ZBLZIXJDM'},\n {'G1E1VI9PT'},\n {'X13HPGM1A'},\n {'J9W1YQQVX'},\n {'20CKF3ZWL',\n  '2Z2IKU9RE',\n  '5NWE9939I',\n  '88LHNKT82',\n  '8P4EDJX9M',\n  '9JISZW2D3',\n  'B216RPXJ7',\n  'BE7XGNEPB',\n  'DQGR15TYR',\n  'EO4PZE0AL',\n  'HXEDAYCK4',\n  'IIO55NSRS',\n  'MEKD7VKBL',\n  'O4UQAQWKH',\n  'ORGS022F3',\n  'Q5EHPLYEH',\n  'RNFE2L77J'},\n {'7EOSTUJE2'},\n {'EMFURT241'},\n {'3GJPR4QJK'},\n {'8NAX0KMZL'},\n {'9T5KNHU4E'},\n {'C7SAB7SNT'},\n {'282HYXY0Z',\n  '85GKX35QF',\n  '92HJ1N39X',\n  '9DQ2WADQP',\n  'EUDIR1RMW',\n  'GXETTZVTV',\n  'H63E8IF3T',\n  'ILFD302RC',\n  'J3B9JRMCQ',\n  'P0AY216J3',\n  'VQLA6L4E6',\n  'XBZYWRJI0'},\n {'6M16PPENP'},\n {'WDJZYI0Y6'},\n {'ZE04CY3OG'},\n {'ADMQFHZK2'},\n {'2NSKWGEB8', 'IGYQ0TFFJ'},\n {'0PS3UG706',\n  '0TS3YTURI',\n  '1GOFXT1OV',\n  '356B3X6AX',\n  '3AOMVJBWC',\n  '5BXYP93AX',\n  '8M0098QBY',\n  'A4NUZ22PL',\n  'BCFIYP6KF',\n  'CMUEVJW0P',\n  'D9RBDIOL0',\n  'L8TOW6TNA',\n  'LH6DFB5F6',\n  'M79RIKP8D',\n  'NRZO6E5PR',\n  'OL4DZ8JZR',\n  'WCCA61EH1',\n  'X9T27A6KS',\n  'ZR7S7G4XE'},\n {'PNN04VV8I'},\n {'3S2B35GDS',\n  '4B6RV5N8W',\n  '4NFGG35RI',\n  '6SGKV8V8U',\n  '80XZVQD55',\n  '81Z5QZ9HC',\n  '8BIJBG28L',\n  '8DPCQY3O3',\n  '8M658OJUY',\n  '94Y435G2Q',\n  '9AR0R3FV9',\n  '9N7FV77E0',\n  'A8ZDJ5PDE',\n  'AB50GU0I7',\n  'ATAY2N4IY',\n  'AY5XSBYCA',\n  'C1A6VHMXI',\n  'CR4DLZ6DM',\n  'D78KKG0TF',\n  'DF65JRUMD',\n  'E4PALJWI4',\n  'GA45I7N1S',\n  'GLRGWFBWL',\n  'H9F0NUHZL',\n  'HW00BSNH2',\n  'ILCPGBT05',\n  'J5MY1UZCZ',\n  'JRA8NQELS',\n  'K4P9SRW3A',\n  'LHLYUFCTU',\n  'M9KTG9BP0',\n  'MWXMABNZK',\n  'MZV7A5KTQ',\n  'N6ITNW4PA',\n  'OSE9JC7KL',\n  'PZ7V9JAXA',\n  'QPW71MW7T',\n  'QRRN7CSHX',\n  'SHBB7UABV',\n  'SUO1FNYVL',\n  'SXSKUMS84',\n  'T273G1Q6I',\n  'TEADIOMZH',\n  'XHXF5YXJE',\n  'Y95FQN0II',\n  'YAGZ4YXFN',\n  'YGURXOOAR',\n  'YZ8KWNRK5',\n  'ZEQ0VL9LO'},\n {'0PMUNN0JV',\n  '0W3X17NT9',\n  '1W6LJ9DT2',\n  '32XQH8YEQ',\n  '40SNWBK5A',\n  '4V329RJJQ',\n  '6NISA79S0',\n  'C169GYLI7',\n  'CMVG1CP88',\n  'CRPUQ97OJ',\n  'EX3RN5RW3',\n  'FBWRVYJTV',\n  'FJUNS4X8V',\n  'IA09AYWK1',\n  'IORN88PWY',\n  'JGE2HRFPU',\n  'P92KHSCR9',\n  'QLXZEGRSL',\n  'TD5GSWE30',\n  'W1VNSW6KX',\n  'ZWOG1G0E4'},\n {'09144M14F',\n  '2AD7RUBNV',\n  '2CXRAOMMR',\n  '2JIU81QBO',\n  '3H6LG8I9R',\n  '3U3JRVHSM',\n  '53AYU9YKY',\n  '8OOZT94SC',\n  'AWGC5SU5W',\n  'DNHJI3YC7',\n  'KE0CSLK6N',\n  'NPD8NBR6O',\n  'PXE0DNS9F',\n  'QY8VOMWGS',\n  'RKCT07C4Y',\n  'RQCAYNN76',\n  'TRN942L56',\n  'YV94FB1QZ'},\n {'0E8P6F42T',\n  '0LOFBXUAD',\n  '0QNEJ6921',\n  '2X8WUM7WU',\n  '6MXSGOUV1',\n  'BY6CET79Y',\n  'FPH47KAPA',\n  'GD5JEBNLG',\n  'H02007F2P',\n  'H1P772POB',\n  'HB5OY2IT3',\n  'HZQZC0B4V',\n  'L6MHDE4QK',\n  'MJW2G0JDF',\n  'MPI6QYLRO',\n  'MS0470NPU',\n  'NUGX79UF8',\n  'O94KZFED0',\n  'OKKNXFVU3',\n  'OR8882JPW',\n  'Q4KUCIVNO',\n  'TG1JUIHIT',\n  'TRFTF4BO0',\n  'U20T1HOBI',\n  'URKNTTCHQ',\n  'XX3HP5XZH',\n  'Y5KXCTNCC'},\n {'3BHYBK3PE', '3GRGFIRRE'},\n {'2FJH5GHUO',\n  '75K6EWA63',\n  '8WS3MV0OU',\n  'B5I8ZG5HT',\n  'C4YJ2FZWX',\n  'LSWIEUH5F',\n  'N7XPCVVBV',\n  'NZGS8524L',\n  'O0P2DXO1D',\n  'OWNVFSGEN',\n  'QV99CFKKN',\n  'W1LDR5U99',\n  'ZNE8CX26J'},\n {'VAHRUDUJ6'},\n {'6QFBAOK7W', '9GORYNJUQ', 'GPFHLUZOQ'},\n {'1J2M5GPOX',\n  '3FTBUMIFB',\n  '40V3VXC61',\n  '55YYXPY68',\n  '5T8X4AEHT',\n  '8LQBCSJW0',\n  '91EKDHH8W',\n  'C7D87FBF8',\n  'H66AUDKPD',\n  'H6LGVLQGV',\n  'HT6R8TZVN',\n  'HX89G50GS',\n  'ILPPF2Q5O',\n  'INXWQHS6V',\n  'J0RX9SBDE',\n  'KRGP4PXL9',\n  'LWJ5KRSFO',\n  'P8FGL0H6D',\n  'QG3JVQ9GU',\n  'TH749UJX1',\n  'W3B739UFB',\n  'WAN2SS5YD',\n  'WPP9ZOG5E',\n  'YN8A37CFR'},\n {'XYLU5VLWW'},\n {'BIPK5ZAR1'},\n {'VFUIAWE31'},\n {'0P09TUI04'},\n {'FBUQXJ4SJ'},\n {'KYTIFAIAQ'},\n {'GRBZP9AMN'},\n {'0AI9JIZ2W',\n  '0FZ4NDK1V',\n  '0TQ8LVL6A',\n  '100UDECF2',\n  '1522ZTYU2',\n  '1SIOSK3RQ',\n  '1TIT6QD69',\n  '233S4VIJO',\n  '2IUMVXWR8',\n  '2RA8MCQPG',\n  '3674XT7SS',\n  '3ALH6OGW7',\n  '45AMGIS8L',\n  '48G629OPD',\n  '4G7VWTPRJ',\n  '52EEXN2DV',\n  '55DNOTPPG',\n  '5Y8J20547',\n  '6A808LLJM',\n  '7MK1U2IF6',\n  '7WEV0ZEB8',\n  '8FLYHFAX2',\n  '9HC7101P7',\n  '9WYECR5DV',\n  'A7TW4V5CD',\n  'AE97CRRAR',\n  'AMZMVXFW8',\n  'ANV3SXQ4P',\n  'B6FEXDXUO',\n  'BABD9B734',\n  'BEFAMCMBL',\n  'BKS6SKZYM',\n  'CQ5MRTVRC',\n  'CYPL6AY9G',\n  'E3D8DMUQ8',\n  'E486I4H0T',\n  'E87HE5EWW',\n  'EJVIWVZ5R',\n  'ER2TROSSO',\n  'FZB0LZY0C',\n  'GAWBPSFFD',\n  'GKRC20GJD',\n  'HEXIYT3HQ',\n  'IXX3IKOLV',\n  'J20JO79EW',\n  'JQBGKP6W8',\n  'JWTKF61NC',\n  'K4XQI78Z2',\n  'M69GV4PBZ',\n  'ND16QJ4X3',\n  'NL6GPHWMS',\n  'OV9SDQUZX',\n  'P6OD3RGKS',\n  'P72N65WXO',\n  'PAIE2YCZJ',\n  'PMYWGHUJG',\n  'PYTKK0WJJ',\n  'QDXK2JS22',\n  'R2XGPA6X9',\n  'REM2E9E3X',\n  'S79GK1YW1',\n  'SHF4EBY5K',\n  'SN8IXBGNC',\n  'SXY37C8KJ',\n  'TDEV4PXK7',\n  'UY8PKVPO0',\n  'V26ELUPRX',\n  'VCUF1DQ0X',\n  'WQ4RMKEH8',\n  'WQD8F0OC3',\n  'XMG240E95',\n  'YH74W3DOQ',\n  'YRBTIVKDS',\n  'ZB51RNYDZ',\n  'ZJ3Z5EF6F'},\n {'0GX24IEE5',\n  '4AMC75PTB',\n  '8VXQLFMEW',\n  '9WM21XO5C',\n  'BNOOK6QGT',\n  'E0JF2BQ8X',\n  'HFCIK3UXG',\n  'IYMKO9LF4',\n  'P2X3RW4FP',\n  'QZ6XT2PKV',\n  'R4OO5FKFT',\n  'UU5Q37C1D',\n  'VHSHC61I8',\n  'WRXGWXBSN',\n  'ZS91Y46I3'},\n {'437HR0O4H',\n  '60I7H2B6D',\n  '7L2CBZMMZ',\n  'PFBYZQV4E',\n  'PJGEJG64N',\n  'QUTX8OZW3',\n  'SZT4TDQDU',\n  'YAGWP5YJB',\n  'Z5LWLCLGQ'},\n {'PVAK1RD6J'},\n {'01L6VT7DN',\n  '1Q3Q90SV2',\n  '2I9I6MHND',\n  '2MCBRC1DJ',\n  '3ABA286V3',\n  '487Q5O8JW',\n  '5RGGF4TYL',\n  '7B3SHSNF3',\n  'B3O94VEPH',\n  'B5LA7P290',\n  'BHGZ9GJ6M',\n  'BIAFRGAMC',\n  'BVGVZAPY8',\n  'COVZ4R0CO',\n  'DTKH8QTCA',\n  'FD34W9WKY',\n  'FVYHRK21K',\n  'G32DNATLX',\n  'GFS6AK0LS',\n  'GTI2GZ6XF',\n  'KMSV9L2XW',\n  'LBXY2XIQG',\n  'LMGZ9KFB9',\n  'M7TRE6B9L',\n  'MET0LO2VH',\n  'OQNZ7MT3K',\n  'Q5USF5XSD',\n  'R4G98WU41',\n  'RVNP6KNO4',\n  'S112UXT5G',\n  'T500BIM8W',\n  'TTBELUESF',\n  'UQB9OT0OP',\n  'VNB5K3HKO',\n  'XISFL3YUG'},\n {'960H3ORVN',\n  'LXYEB8KVT',\n  'MKA8MAKIE',\n  'MLDCFFL0X',\n  'N5UOS56KQ',\n  'O5YRQSNWR',\n  'VEKCFL5VR'},\n {'184Q1P3KK',\n  '1O7GLLIT8',\n  '1S6ZLSGJS',\n  '2Q87KTVG0',\n  '45JAJQR0T',\n  '4N9A32TWT',\n  '4Z3W2RMJG',\n  '5NJUNEM55',\n  '5SW2OYSDM',\n  '62E6KTMYD',\n  '6PNOSRLW5',\n  '7HPYSOOLT',\n  '8WYV44HVQ',\n  '9JZRKJWQF',\n  'BZY2PLVEA',\n  'EV8EY8E26',\n  'HIX8J8CW5',\n  'IEOR1SXLA',\n  'JVE1OMBAJ',\n  'K0SFSG83G',\n  'L08ZG932H',\n  'L2D8CUCVK',\n  'L4G6AVLHK',\n  'O893081J5',\n  'OCVZ3I5SI',\n  'RQH6LZ1DN',\n  'RX3AOHSHS',\n  'S1MK0KQ5O',\n  'S4GLOFWWO',\n  'S8P71RGIF',\n  'SU3FHIVRL',\n  'T4H5XJDSA'},\n {'TXINM8RH6'},\n {'2PDBI37G1'},\n {'0X5BKRSLA',\n  '50RTA78XQ',\n  '7259I6NCQ',\n  'AKZF7OC2N',\n  'AMM053W06',\n  'FKOJPWUQE',\n  'MSTMHYBD5',\n  'P89UNXKHE',\n  'QCG6FU21M',\n  'QW3NRQD61',\n  'ZB4E0WLFM',\n  'ZFAS23QLR'},\n {'S8JIH40OC'},\n {'P9T3GAF6P'},\n {'8R9PYNMQ2'},\n {'37O1U32LI',\n  '5JXUMYW6W',\n  '86RUBRW9F',\n  '94J6OKYJ2',\n  'DHMYPMCDU',\n  'LJ3POS60G',\n  'M3K3G0HHX',\n  'MO4PZXJ8Y',\n  'MUF93AH55',\n  'PAA49EBGO',\n  'PIKAQ0438',\n  'QRJX9T4KM',\n  'VY1IQK701',\n  'XWK2BVVNJ'},\n {'1BZG1KE0Y'},\n {'4E4S5QF2T', 'ZRE65F504'},\n {'BPS1XI2OD'},\n {'0RTFSIQT0',\n  '1USVWBEQM',\n  '22SF7NNU2',\n  '25SR1WIMW',\n  '52TXJZGR3',\n  '5IHJMBG5D',\n  '93QYQUHI9',\n  'AQDRAUC0Y',\n  'DZR84R00R',\n  'EOZ9R1YE2',\n  'EUG4PK2AG',\n  'HYHKBYFA8',\n  'J8ZVMAM1F',\n  'JUHO9C7TO',\n  'KTQQXTMCE',\n  'PQSETLS5J',\n  'RX2001QL6',\n  'UA9ALMGUE',\n  'V11DSNP45',\n  'V3CIRS933'},\n {'0EHOVL3F8',\n  '0WBE8JFIW',\n  '28QNVWHGS',\n  '2K2C2KVHE',\n  '2OOGRPW7I',\n  '57V1M5M89',\n  '5M75UPLYH',\n  '7F5W3F1OX',\n  '8U6UQDQIY',\n  'BTUIX6VOW',\n  'BX48GOZDP',\n  'C9USI74UA',\n  'CG3WLRJAX',\n  'CH1K8ER54',\n  'DN6XW72NA',\n  'DPYSN7JLN',\n  'F0AKTDLH4',\n  'FCEBA6IMH',\n  'FOEYL5VB8',\n  'FTQS4WZEI',\n  'FUM1OK9W6',\n  'FWVCCCNHW',\n  'GJFNQHU5H',\n  'H10VP2ZJO',\n  'HR2U9KPW6',\n  'HU5LTUPUB',\n  'IO819H46B',\n  'JRQANLB7T',\n  'K5PYKHSK7',\n  'MRP5VAJJ0',\n  'NCSKL2DYQ',\n  'NGRC0OTK8',\n  'OSVG1CERG',\n  'PCMZEMW5O',\n  'PEBQG1VOE',\n  'Q5K7GGHPN',\n  'QFH3715U1',\n  'QFRSR06RO',\n  'R0JDVT05C',\n  'R0OENM5B3',\n  'RDCR8K03W',\n  'T2MKQ79FV',\n  'TSD65RCZ5',\n  'URMJB1TG3',\n  'VELHKTP64',\n  'VITI6YYG5',\n  'VK0D7KPVG',\n  'XE32R4ZCI',\n  'XKAJ06NMX',\n  'Y1ALZ9RCA',\n  'ZIT8LJPOQ'},\n {'M5YB4H9ZB'},\n {'4R2EL15QS'},\n {'2DU54AUSC', '3FX5CP8G6'},\n {'455ENEIP0',\n  '8YROK63YG',\n  'K1VC9HHNU',\n  'L3NG1JIPA',\n  'P8P954GXN',\n  'YGWF8BZ0Q'},\n {'EPKWQTJCD'},\n {'BGUFELJ2L'},\n {'OE8J8D5YU'},\n {'37NA61AAI'},\n {'6XP6OZKZ8', 'EJGLSR732', 'LVMT8UTVW', 'SQXMNVXC6'},\n {'L2TT1DM9J', 'O3Q8VAY4F'},\n {'J2QRFW5I1'},\n {'0RETU2IQZ',\n  '4KNM7U86A',\n  '58QFP6IBB',\n  '71K8MDKF5',\n  '79IK65LHE',\n  'CEQXULY5U',\n  'CY6V88Q8U',\n  'E0UZQH1FW',\n  'KVI9WUCXC',\n  'LDPU5ODDE',\n  'M9FLOWVQ1',\n  'QKQCHAJWK',\n  'X6YXGOANF',\n  'XF2SW6SXA',\n  'YQHW5JB3S'},\n {'0WVP8I17C',\n  '2AV2BWNYL',\n  'A9D8K3P9O',\n  'GBE0U6T83',\n  'I8IUF9O21',\n  'LDN37CDIQ',\n  'LF4ZASO36',\n  'N1WEK9H71',\n  'SERJEBNAH',\n  'SF5Z8M52N',\n  'W7RKGQI1V'},\n {'P2TZRS49C'},\n {'F7O7JP657'},\n {'AU6WSDEUP'},\n {'21QW58OKO',\n  '4QOGQBU7G',\n  'ASB70JT03',\n  'B5SVURC6I',\n  'BV2HR57AJ',\n  'EC8NO2K6T',\n  'J8PANKDB0',\n  'JCOEU04X6',\n  'L9A2UBMV1',\n  'LUYUP9ZCK',\n  'M4DXAGNGQ',\n  'MYI6H8VUT',\n  'ZRMCEEM8Q'},\n {'02OAXUDJX',\n  '0SN4HYKQJ',\n  '14DU9AMYQ',\n  '2CWQPKMAH',\n  '4JXE6A4NR',\n  '55ZO4CT0N',\n  '66BZIVHMQ',\n  '860H86ITI',\n  '8WWQYBOF3',\n  'AGQEHUNRX',\n  'AZXLPGDE6',\n  'CXMGWAJYV',\n  'GHC4Y3U9D',\n  'GXDRJ4TRK',\n  'GZ8IPL53J',\n  'ISJRFYV8V',\n  'LN842KM7D',\n  'M22UJGYIL',\n  'MN78V0SH2',\n  'O6R9BU1AE',\n  'PJ1PMZKCG',\n  'PSVL9IGP4',\n  'V7NKL671S',\n  'W0IY378IE',\n  'XF21U000I',\n  'Y3GJF5Y41',\n  'Z6Q11HCQY'},\n {'R6G3W05BD'},\n {'EA87RASFM', 'FMNC45UG6', 'YPJSQB1NK'},\n {'DWSBVSYS1'},\n {'014RTH812',\n  '0B82D7G57',\n  '1FV2F2834',\n  '1G7S047H0',\n  '1GCK8TU9H',\n  '2C6KNA6EJ',\n  '2U1M5T5WK',\n  '4KYDN84EO',\n  '5MROBRYMU',\n  '62J7MXC2B',\n  '8H70N2069',\n  '90XHISVT2',\n  '914Y0S91B',\n  '9J8PQZ17Q',\n  'BXUZHRY8G',\n  'EA6BCEMKX',\n  'EPWNLZUIU',\n  'EY3KP5F01',\n  'FGJMKVP9H',\n  'G67UHNIAU',\n  'I4FY2TL2Y',\n  'IDCSB0YRL',\n  'J4GN0JLOP',\n  'J6T3XR6FN',\n  'JK4AAAKB3',\n  'JXYPTWNMF',\n  'LBMB0NC3A',\n  'LCAR4C2AC',\n  'LFZF5Q57M',\n  'ORTU9035E',\n  'Q494N6FBH',\n  'SH5MDSJ4N',\n  'TIEIGUGDF',\n  'TINFYIC7L',\n  'TIYJAIXHO',\n  'TU1SLMR17',\n  'U7H3YXT6R',\n  'VSJ3PM8SE',\n  'VXGFRB5WD',\n  'W4NLROMOW',\n  'WOSNKWG1Y',\n  'Z0OFIRP1B',\n  'ZU6DIC1W4'},\n {'2NSKJRKBR',\n  '5KJWNAY41',\n  '8G5ES3JED',\n  '93QRG8MC3',\n  'E2QJKN6TN',\n  'ICVX6ORN3',\n  'LD5XLTHUG',\n  'MT2RHGD80',\n  'TMV0ASWC5',\n  'USZWE3AUZ',\n  'W962SS9B7'},\n {'7TR6A1MX5',\n  'CDBZE0LTM',\n  'Q5MSSH44F',\n  'VTAK1OW52',\n  'VVFAM0N2S',\n  'Y1THA71IK'},\n {'KIEBJRDDM'},\n {'2KHI20P5A',\n  '52UMYZ0AQ',\n  '5L4613R0F',\n  '6FY7WQAZ0',\n  '8SSABDSF2',\n  '97TTMR49G',\n  'B6QVWTDA9',\n  'B971G4H6S',\n  'CPDDFKY5G',\n  'EWT67SH1S',\n  'F6P8CZ5UF',\n  'JG27BNM5H',\n  'KOBD1ACGV',\n  'LRV44BD5W',\n  'N53884DUO',\n  'PRM8V76R3',\n  'Q6J70EUF3',\n  'QLKMDFD8J',\n  'SCE3X6T4Z',\n  'SRDPEWS6T',\n  'U6QXRAPBY',\n  'UZFZPNAGD',\n  'V3Y242ECC',\n  'VF0A5M8KL'},\n {'C5TY8KO0M'},\n {'1UHQXTIZH', 'RW9XKYP0A'},\n {'B1YGO6HY5'},\n {'HYDRDQX13', 'RTAM4EG9S'},\n {'N2YG5HP59'},\n {'5CCZ5W2PG'},\n {'8A69AAWEV'},\n {'INY4B5OPF'},\n {'V9GHUVRBU'},\n {'UCSE57GD7'},\n {'D8QAFWQOD'},\n {'RW533BDLF'},\n {'53SUYI9JV',\n  '63POERV3P',\n  '9ICALHNP4',\n  'B8RBE7THP',\n  'BQ1BYKOC5',\n  'GPBMDFOBB',\n  'J1W8M52IQ',\n  'JUX1BZ6HY',\n  'LUQFI5EOG',\n  'MWX6VP7YQ',\n  'NRKTLCX24',\n  'RN0P2YXM8',\n  'VY1DWBJ4I',\n  'WQN2R7MUX'},\n {'K1MBWILKR'},\n {'DXLP0Y284'},\n {'1XY85SCY9',\n  '438YCL6BW',\n  '4BJMEMKZK',\n  'J8R1TIFOU',\n  'LKA554BEI',\n  'MN97P3QRD',\n  'RDCY4GQ21',\n  'RYXCO0OU2'},\n {'H9Y1CT6IB'},\n {'2AS1JDWNN',\n  '2FSSRVL3Y',\n  '4Y9506OEQ',\n  '7BHS5LCJG',\n  '7J5OVVBUS',\n  '7PL28AX8V',\n  '8ZNO8BIHL',\n  'AGONNB8P1',\n  'AZAQ6AU88',\n  'B5N64H8ZF',\n  'BUOA5O63N',\n  'C6KG77TQ4',\n  'DTWBKR22K',\n  'E2XXBG9SD',\n  'GCP8I5V5Z',\n  'H3BSKLPG3',\n  'HJL9II3CK',\n  'HK5RA8VN2',\n  'JHU69XW38',\n  'KU8W4234J',\n  'LFNL8U9MD',\n  'OSMTKUZHP',\n  'Q3YYEHNL1',\n  'Q7AE33JY2',\n  'RPSQ8IK5A',\n  'SR0LO6B6O',\n  'T6NO95PQV',\n  'VVVGYCKIM',\n  'WA7J07X2J',\n  'XATC2NQYV',\n  'YA54L81JN',\n  'ZJNR277W0',\n  'ZMG62TFTN'},\n {'3JU9FAUU3',\n  'AZB66ZE59',\n  'HF6FBYY47',\n  'HOGJPGIZZ',\n  'IJZWVEFQV',\n  'U5O7QSXSB',\n  'U8EMJ67QR',\n  'XX4GJRQPR'},\n {'S5PMWAB4V'},\n {'7LLKQZUAR', 'C0GNKM5PH', 'N07YB249X', 'X7PXMKK58'},\n {'8TPQ9WRR1'},\n {'5SXEP0WKI'},\n {'2N3JT554R',\n  'LEQ02URM2',\n  'MGVWP8JXP',\n  'NZBH2GA0C',\n  'PT3P8SXJY',\n  'YQSX2SZ4A'},\n {'ITHGU8SBT'},\n {'1WUGH0AHU',\n  'HCCKRGJ5X',\n  'LCWGFSO4L',\n  'TER22Y23C',\n  'W4EFPUG6F',\n  'YXSWVY18V'},\n {'29VY3IBY8'},\n {'1VULI5G25'},\n {'R2T87O3FO'},\n {'J5XGQ0VWB'},\n {'0NX5HBGSX',\n  '68VVPRF5O',\n  '75RAEPRC3',\n  '854ZOA1HA',\n  'BI906IJ6Y',\n  'CBL5VF3IL',\n  'CFSFIH899',\n  'G4DG2KL3W',\n  'H8C8V4AOO',\n  'IZ2NNPL1R',\n  'KCHOBK8DZ',\n  'NGBS4GB0H',\n  'XO2IP210Q'},\n {'KFFYJ83IG'},\n {'7CPMP6BDN'}]"
     },
     "execution_count": 42,
     "metadata": {},
     "output_type": "execute_result"
    }
   ],
   "source": [
    "comm1_sets = [set(s.replace(\"'\", \"\").split(\", \")) for s in comm1_sets_polished ] # Remove single quotes and split\n",
    "comm1_sets"
   ],
   "metadata": {
    "collapsed": false,
    "ExecuteTime": {
     "end_time": "2025-03-15T04:25:23.328500Z",
     "start_time": "2025-03-15T04:25:23.154210Z"
    }
   },
   "id": "2a84b8e388e1f1e9"
  },
  {
   "cell_type": "code",
   "execution_count": 43,
   "outputs": [
    {
     "data": {
      "text/plain": "set"
     },
     "execution_count": 43,
     "metadata": {},
     "output_type": "execute_result"
    }
   ],
   "source": [
    "type(comm1_sets[0])"
   ],
   "metadata": {
    "collapsed": false,
    "ExecuteTime": {
     "end_time": "2025-03-15T04:25:29.081179Z",
     "start_time": "2025-03-15T04:25:29.007899Z"
    }
   },
   "id": "1e71863b6fb381a5"
  },
  {
   "cell_type": "code",
   "execution_count": 44,
   "outputs": [
    {
     "data": {
      "text/plain": "[{'014RTH812',\n  '21QW58OKO',\n  '2TS5RQWDI',\n  '35N5502MV',\n  '4GZKRJA02',\n  '4WK5AWN01',\n  '53TVZQWLY',\n  '563I60QTS',\n  '5TAREL6KW',\n  '5TWG6M09W',\n  '6L185X52Y',\n  '7HHTPPF4Y',\n  '7Q1COC0ZE',\n  '7Y4OK6WUE',\n  '9IIOSGCMD',\n  'A9D8K3P9O',\n  'ADMGIKK1Z',\n  'AQ69R055Z',\n  'CSVH2PL9J',\n  'DBP7NP5YE',\n  'DS78QQXGW',\n  'DWW5SV8NM',\n  'HQX7RUCJH',\n  'IXK1CISFX',\n  'JE80YJ1IN',\n  'JNZ6OMRZO',\n  'O893081J5',\n  'OBT4O2J17',\n  'OY6QMFL84',\n  'PJGEJG64N',\n  'Q4JG9LJV1',\n  'U95UK89JI',\n  'VA4SXLLR5',\n  'VPGEFD68Q',\n  'WPCIJLU3N',\n  'YF41U5FY6',\n  'YWRQWOGXY',\n  'ZBLZIXJDM'},\n {'GRBZP9AMN'},\n {'X13HPGM1A'},\n {'5SXEP0WKI'},\n {'B1YGO6HY5'},\n {'BGUFELJ2L', 'HYDRDQX13', 'YXSWVY18V'},\n {'UCSE57GD7'},\n {'7EOSTUJE2'},\n {'EMFURT241'},\n {'02OAXUDJX',\n  '0SN4HYKQJ',\n  '14DU9AMYQ',\n  '2CWQPKMAH',\n  '4JXE6A4NR',\n  '55ZO4CT0N',\n  '66BZIVHMQ',\n  '860H86ITI',\n  '8WWQYBOF3',\n  'AGQEHUNRX',\n  'AZXLPGDE6',\n  'CXMGWAJYV',\n  'GHC4Y3U9D',\n  'GXDRJ4TRK',\n  'GZ8IPL53J',\n  'ISJRFYV8V',\n  'LBXY2XIQG',\n  'LN842KM7D',\n  'M22UJGYIL',\n  'MN78V0SH2',\n  'O6R9BU1AE',\n  'PSVL9IGP4',\n  'V7NKL671S',\n  'W0IY378IE',\n  'XF21U000I',\n  'Y3GJF5Y41'},\n {'0X5BKRSLA',\n  '37NA61AAI',\n  '50RTA78XQ',\n  '5NWE9939I',\n  '7259I6NCQ',\n  '88LHNKT82',\n  '8P4EDJX9M',\n  '9JISZW2D3',\n  'AKZF7OC2N',\n  'B216RPXJ7',\n  'FKOJPWUQE',\n  'MEKD7VKBL',\n  'MSTMHYBD5',\n  'O4UQAQWKH',\n  'P89UNXKHE',\n  'QCG6FU21M',\n  'ZB4E0WLFM',\n  'ZFAS23QLR'},\n {'ZE04CY3OG'},\n {'0NX5HBGSX',\n  '68VVPRF5O',\n  '75RAEPRC3',\n  '854ZOA1HA',\n  'BI906IJ6Y',\n  'CBL5VF3IL',\n  'G4DG2KL3W',\n  'H8C8V4AOO',\n  'IZ2NNPL1R',\n  'KCHOBK8DZ',\n  'NGBS4GB0H',\n  'XO2IP210Q'},\n {'C7SAB7SNT'},\n {'282HYXY0Z',\n  '85GKX35QF',\n  '92HJ1N39X',\n  '9DQ2WADQP',\n  'B5N64H8ZF',\n  'B5SVURC6I',\n  'EUDIR1RMW',\n  'GXETTZVTV',\n  'H63E8IF3T',\n  'HJL9II3CK',\n  'ILFD302RC',\n  'J3B9JRMCQ',\n  'LFNL8U9MD',\n  'P0AY216J3',\n  'Q7AE33JY2',\n  'VQLA6L4E6',\n  'VVVGYCKIM',\n  'WA7J07X2J',\n  'XBZYWRJI0'},\n {'0AI9JIZ2W',\n  '0FZ4NDK1V',\n  '0TQ8LVL6A',\n  '100UDECF2',\n  '1522ZTYU2',\n  '1SIOSK3RQ',\n  '1TIT6QD69',\n  '233S4VIJO',\n  '2IUMVXWR8',\n  '2RA8MCQPG',\n  '3674XT7SS',\n  '3ALH6OGW7',\n  '45AMGIS8L',\n  '48G629OPD',\n  '4G7VWTPRJ',\n  '52EEXN2DV',\n  '55DNOTPPG',\n  '5Y8J20547',\n  '6A808LLJM',\n  '7MK1U2IF6',\n  '7WEV0ZEB8',\n  '8FLYHFAX2',\n  '9HC7101P7',\n  '9WYECR5DV',\n  'A7TW4V5CD',\n  'AE97CRRAR',\n  'AMZMVXFW8',\n  'ANV3SXQ4P',\n  'B6FEXDXUO',\n  'BABD9B734',\n  'BEFAMCMBL',\n  'BKS6SKZYM',\n  'CQ5MRTVRC',\n  'CYPL6AY9G',\n  'E3D8DMUQ8',\n  'E486I4H0T',\n  'E87HE5EWW',\n  'EJVIWVZ5R',\n  'ER2TROSSO',\n  'FZB0LZY0C',\n  'GAWBPSFFD',\n  'GKRC20GJD',\n  'IXX3IKOLV',\n  'J20JO79EW',\n  'JQBGKP6W8',\n  'JWTKF61NC',\n  'K4XQI78Z2',\n  'M69GV4PBZ',\n  'ND16QJ4X3',\n  'NL6GPHWMS',\n  'OV9SDQUZX',\n  'P6OD3RGKS',\n  'P72N65WXO',\n  'PAIE2YCZJ',\n  'PMYWGHUJG',\n  'PYTKK0WJJ',\n  'QDXK2JS22',\n  'R2XGPA6X9',\n  'REM2E9E3X',\n  'S79GK1YW1',\n  'SHF4EBY5K',\n  'SN8IXBGNC',\n  'SXY37C8KJ',\n  'TDEV4PXK7',\n  'UY8PKVPO0',\n  'V26ELUPRX',\n  'VCUF1DQ0X',\n  'WQ4RMKEH8',\n  'WQD8F0OC3',\n  'YH74W3DOQ',\n  'YRBTIVKDS',\n  'ZB51RNYDZ',\n  'ZJ3Z5EF6F'},\n {'6M16PPENP'},\n {'0EHOVL3F8',\n  '0WBE8JFIW',\n  '28QNVWHGS',\n  '2K2C2KVHE',\n  '2OOGRPW7I',\n  '57V1M5M89',\n  '5M75UPLYH',\n  '7F5W3F1OX',\n  '8U6UQDQIY',\n  'BTUIX6VOW',\n  'BX48GOZDP',\n  'C9USI74UA',\n  'CG3WLRJAX',\n  'CH1K8ER54',\n  'DN6XW72NA',\n  'F0AKTDLH4',\n  'FCEBA6IMH',\n  'FOEYL5VB8',\n  'FTQS4WZEI',\n  'FUM1OK9W6',\n  'FWVCCCNHW',\n  'GJFNQHU5H',\n  'H10VP2ZJO',\n  'HR2U9KPW6',\n  'HU5LTUPUB',\n  'IO819H46B',\n  'JRQANLB7T',\n  'K5PYKHSK7',\n  'MRP5VAJJ0',\n  'NCSKL2DYQ',\n  'NGRC0OTK8',\n  'OSVG1CERG',\n  'P2X3RW4FP',\n  'PCMZEMW5O',\n  'PEBQG1VOE',\n  'Q5K7GGHPN',\n  'QFH3715U1',\n  'QFRSR06RO',\n  'R0JDVT05C',\n  'R0OENM5B3',\n  'RDCR8K03W',\n  'T2MKQ79FV',\n  'TSD65RCZ5',\n  'URMJB1TG3',\n  'VELHKTP64',\n  'VITI6YYG5',\n  'VK0D7KPVG',\n  'XE32R4ZCI',\n  'XKAJ06NMX',\n  'Y1ALZ9RCA',\n  'ZIT8LJPOQ'},\n {'KIEBJRDDM'},\n {'PVAK1RD6J'},\n {'3ABA286V3',\n  '3GRGFIRRE',\n  '8BIJBG28L',\n  '8DPCQY3O3',\n  '8M658OJUY',\n  '94Y435G2Q',\n  '9AR0R3FV9',\n  'AB50GU0I7',\n  'ATAY2N4IY',\n  'CR4DLZ6DM',\n  'D78KKG0TF',\n  'DF65JRUMD',\n  'E4PALJWI4',\n  'GA45I7N1S',\n  'HEXIYT3HQ',\n  'J5MY1UZCZ',\n  'JRA8NQELS',\n  'MWXMABNZK',\n  'N6ITNW4PA',\n  'QPW71MW7T',\n  'T273G1Q6I',\n  'TEADIOMZH',\n  'XMG240E95'},\n {'0RETU2IQZ',\n  '4QOGQBU7G',\n  '86RUBRW9F',\n  'ASB70JT03',\n  'BV2HR57AJ',\n  'CEQXULY5U',\n  'E0UZQH1FW',\n  'EC8NO2K6T',\n  'J8PANKDB0',\n  'JCOEU04X6',\n  'KVI9WUCXC',\n  'L9A2UBMV1',\n  'LUYUP9ZCK',\n  'M4DXAGNGQ',\n  'MYI6H8VUT',\n  'PNN04VV8I',\n  'QKQCHAJWK',\n  'ZRMCEEM8Q'},\n {'M5YB4H9ZB'},\n {'2FJH5GHUO',\n  '75K6EWA63',\n  '8SSABDSF2',\n  '8WS3MV0OU',\n  'B5I8ZG5HT',\n  'BE7XGNEPB',\n  'IIO55NSRS',\n  'LSWIEUH5F',\n  'N7XPCVVBV',\n  'NZGS8524L',\n  'O0P2DXO1D',\n  'ORGS022F3',\n  'OWNVFSGEN',\n  'Q5EHPLYEH',\n  'QV99CFKKN',\n  'W1LDR5U99',\n  'ZNE8CX26J'},\n {'8NAX0KMZL'},\n {'J5XGQ0VWB'},\n {'01L6VT7DN',\n  '1Q3Q90SV2',\n  '3S2B35GDS',\n  '5RGGF4TYL',\n  '7B3SHSNF3',\n  '7PL28AX8V',\n  '81Z5QZ9HC',\n  'B3O94VEPH',\n  'B5LA7P290',\n  'BIAFRGAMC',\n  'BVGVZAPY8',\n  'COVZ4R0CO',\n  'DTKH8QTCA',\n  'FD34W9WKY',\n  'FVYHRK21K',\n  'G32DNATLX',\n  'GFS6AK0LS',\n  'LMGZ9KFB9',\n  'M7TRE6B9L',\n  'MET0LO2VH',\n  'Q5USF5XSD',\n  'R4G98WU41',\n  'RVNP6KNO4',\n  'T500BIM8W',\n  'UQB9OT0OP',\n  'VNB5K3HKO'},\n {'1GCK8TU9H',\n  '1UHQXTIZH',\n  '2C6KNA6EJ',\n  '2U1M5T5WK',\n  '3BHYBK3PE',\n  '4BJMEMKZK',\n  '5MROBRYMU',\n  'EA6BCEMKX',\n  'EY3KP5F01',\n  'FGJMKVP9H',\n  'G67UHNIAU',\n  'I4FY2TL2Y',\n  'IDCSB0YRL',\n  'JXYPTWNMF',\n  'LBMB0NC3A',\n  'LCAR4C2AC',\n  'MUF93AH55',\n  'ORTU9035E',\n  'TINFYIC7L',\n  'TIYJAIXHO',\n  'U7H3YXT6R',\n  'VXGFRB5WD',\n  'W4NLROMOW',\n  'WOSNKWG1Y',\n  'Z0OFIRP1B',\n  'ZU6DIC1W4'},\n {'09144M14F',\n  '2AD7RUBNV',\n  '2CXRAOMMR',\n  '2JIU81QBO',\n  '3H6LG8I9R',\n  '3U3JRVHSM',\n  '53AYU9YKY',\n  '7L2CBZMMZ',\n  '8OOZT94SC',\n  'AWGC5SU5W',\n  'DNHJI3YC7',\n  'KE0CSLK6N',\n  'NPD8NBR6O',\n  'OSMTKUZHP',\n  'PXE0DNS9F',\n  'QRRN7CSHX',\n  'QY8VOMWGS',\n  'RQCAYNN76',\n  'TRN942L56',\n  'YV94FB1QZ'},\n {'DHMYPMCDU'},\n {'YQSX2SZ4A'},\n {'20CKF3ZWL', '2Z2IKU9RE', 'DQGR15TYR', 'V9GHUVRBU'},\n {'ITHGU8SBT'},\n {'VAHRUDUJ6'},\n {'1J2M5GPOX',\n  '3FTBUMIFB',\n  '40V3VXC61',\n  '55YYXPY68',\n  '5T8X4AEHT',\n  '8LQBCSJW0',\n  '91EKDHH8W',\n  'C7D87FBF8',\n  'H66AUDKPD',\n  'H6LGVLQGV',\n  'HT6R8TZVN',\n  'HX89G50GS',\n  'ILPPF2Q5O',\n  'INXWQHS6V',\n  'J0RX9SBDE',\n  'KRGP4PXL9',\n  'LWJ5KRSFO',\n  'P8FGL0H6D',\n  'QG3JVQ9GU',\n  'TH749UJX1',\n  'W3B739UFB',\n  'WAN2SS5YD',\n  'WPP9ZOG5E',\n  'YN8A37CFR'},\n {'H9Y1CT6IB'},\n {'P2TZRS49C'},\n {'4AMC75PTB',\n  '8VXQLFMEW',\n  '9WM21XO5C',\n  'BNOOK6QGT',\n  'IYMKO9LF4',\n  'QZ6XT2PKV',\n  'R4OO5FKFT',\n  'UU5Q37C1D',\n  'VHSHC61I8',\n  'ZS91Y46I3'},\n {'SZT4TDQDU', 'YAGWP5YJB'},\n {'INY4B5OPF'},\n {'2N3JT554R',\n  'LEQ02URM2',\n  'MGVWP8JXP',\n  'NZBH2GA0C',\n  'PT3P8SXJY',\n  'PZ7V9JAXA'},\n {'1BZG1KE0Y'},\n {'2I9I6MHND',\n  '438YCL6BW',\n  '960H3ORVN',\n  'BHGZ9GJ6M',\n  'GTI2GZ6XF',\n  'LKA554BEI',\n  'LXYEB8KVT',\n  'N5UOS56KQ',\n  'O5YRQSNWR',\n  'SERJEBNAH',\n  'VEKCFL5VR',\n  'VFUIAWE31'},\n {'N2YG5HP59'},\n {'4R2EL15QS'},\n {'F7O7JP657'},\n {'2DU54AUSC',\n  '2NSKJRKBR',\n  '4E4S5QF2T',\n  '5KJWNAY41',\n  '8G5ES3JED',\n  '93QRG8MC3',\n  'ICVX6ORN3',\n  'TMV0ASWC5',\n  'W962SS9B7',\n  'ZRE65F504'},\n {'FBUQXJ4SJ'},\n {'GPFHLUZOQ'},\n {'0E8P6F42T',\n  '0LOFBXUAD',\n  '0QNEJ6921',\n  '2X8WUM7WU',\n  '6MXSGOUV1',\n  'BY6CET79Y',\n  'FPH47KAPA',\n  'GD5JEBNLG',\n  'H02007F2P',\n  'H1P772POB',\n  'HB5OY2IT3',\n  'HZQZC0B4V',\n  'L6MHDE4QK',\n  'MJW2G0JDF',\n  'MS0470NPU',\n  'NUGX79UF8',\n  'O94KZFED0',\n  'OKKNXFVU3',\n  'OR8882JPW',\n  'Q494N6FBH',\n  'Q4KUCIVNO',\n  'TG1JUIHIT',\n  'TRFTF4BO0',\n  'U20T1HOBI',\n  'URKNTTCHQ',\n  'XX3HP5XZH',\n  'Y5KXCTNCC'},\n {'5JXUMYW6W',\n  '94J6OKYJ2',\n  'BIPK5ZAR1',\n  'LJ3POS60G',\n  'PIKAQ0438',\n  'RYXCO0OU2',\n  'XWK2BVVNJ'},\n {'6NISA79S0', '7CPMP6BDN', 'QRJX9T4KM', 'X7PXMKK58'},\n {'0PMUNN0JV',\n  '0W3X17NT9',\n  '1W6LJ9DT2',\n  '2MCBRC1DJ',\n  '32XQH8YEQ',\n  '40SNWBK5A',\n  '487Q5O8JW',\n  '4NFGG35RI',\n  '4V329RJJQ',\n  '62J7MXC2B',\n  '9N7FV77E0',\n  'AY5XSBYCA',\n  'BXUZHRY8G',\n  'C0GNKM5PH',\n  'C169GYLI7',\n  'C4YJ2FZWX',\n  'CMVG1CP88',\n  'CRPUQ97OJ',\n  'FBWRVYJTV',\n  'FJUNS4X8V',\n  'H9F0NUHZL',\n  'IA09AYWK1',\n  'ILCPGBT05',\n  'IORN88PWY',\n  'JGE2HRFPU',\n  'K4P9SRW3A',\n  'KMSV9L2XW',\n  'M3K3G0HHX',\n  'N07YB249X',\n  'OQNZ7MT3K',\n  'OSE9JC7KL',\n  'P92KHSCR9',\n  'PJ1PMZKCG',\n  'QLXZEGRSL',\n  'RKCT07C4Y',\n  'S112UXT5G',\n  'SHBB7UABV',\n  'TD5GSWE30',\n  'TTBELUESF',\n  'W1VNSW6KX',\n  'XHXF5YXJE',\n  'XISFL3YUG',\n  'YAGZ4YXFN',\n  'ZEQ0VL9LO'},\n {'0RTFSIQT0', '6FY7WQAZ0', 'E2QJKN6TN', 'MT2RHGD80'},\n {'RTAM4EG9S'},\n {'4B6RV5N8W',\n  '63POERV3P',\n  '6SGKV8V8U',\n  '80XZVQD55',\n  'A8ZDJ5PDE',\n  'C1A6VHMXI',\n  'E2XXBG9SD',\n  'GLRGWFBWL',\n  'HW00BSNH2',\n  'IGYQ0TFFJ',\n  'LHLYUFCTU',\n  'LVMT8UTVW',\n  'M9KTG9BP0',\n  'MLDCFFL0X',\n  'MZV7A5KTQ',\n  'SQXMNVXC6',\n  'SUO1FNYVL',\n  'SXSKUMS84',\n  'T6NO95PQV',\n  'Y95FQN0II',\n  'YGURXOOAR',\n  'YZ8KWNRK5',\n  'Z6Q11HCQY',\n  'ZJNR277W0'},\n {'KFFYJ83IG'},\n {'6XP6OZKZ8',\n  'CDBZE0LTM',\n  'EJGLSR732',\n  'IJZWVEFQV',\n  'J2QRFW5I1',\n  'L2TT1DM9J',\n  'LD5XLTHUG',\n  'Q5MSSH44F',\n  'USZWE3AUZ',\n  'XX4GJRQPR',\n  'Y1THA71IK'},\n {'G1E1VI9PT'},\n {'DXLP0Y284'},\n {'R2T87O3FO'},\n {'2PDBI37G1',\n  '4KNM7U86A',\n  '58QFP6IBB',\n  '71K8MDKF5',\n  '79IK65LHE',\n  'CY6V88Q8U',\n  'LDPU5ODDE',\n  'M9FLOWVQ1',\n  'PFBYZQV4E',\n  'X6YXGOANF',\n  'XF2SW6SXA',\n  'YQHW5JB3S'},\n {'0WVP8I17C',\n  '2AV2BWNYL',\n  '7LLKQZUAR',\n  'GBE0U6T83',\n  'I8IUF9O21',\n  'LDN37CDIQ',\n  'LF4ZASO36',\n  'SF5Z8M52N',\n  'W7RKGQI1V'},\n {'EPKWQTJCD'},\n {'0GX24IEE5',\n  '1USVWBEQM',\n  '22SF7NNU2',\n  '2AS1JDWNN',\n  '437HR0O4H',\n  '52TXJZGR3',\n  '5IHJMBG5D',\n  '5L4613R0F',\n  '7BHS5LCJG',\n  '7J5OVVBUS',\n  '93QYQUHI9',\n  '97TTMR49G',\n  'AQDRAUC0Y',\n  'BUOA5O63N',\n  'DZR84R00R',\n  'EOZ9R1YE2',\n  'EUG4PK2AG',\n  'EX3RN5RW3',\n  'GCP8I5V5Z',\n  'HFCIK3UXG',\n  'HXEDAYCK4',\n  'HYHKBYFA8',\n  'J8ZVMAM1F',\n  'JUHO9C7TO',\n  'KTQQXTMCE',\n  'LRV44BD5W',\n  'N1WEK9H71',\n  'N53884DUO',\n  'PQSETLS5J',\n  'PRM8V76R3',\n  'QLKMDFD8J',\n  'RNFE2L77J',\n  'RX2001QL6',\n  'SCE3X6T4Z',\n  'UA9ALMGUE',\n  'UZFZPNAGD',\n  'V11DSNP45',\n  'V3CIRS933',\n  'V3Y242ECC',\n  'WRXGWXBSN'},\n {'WDJZYI0Y6'},\n {'XYLU5VLWW'},\n {'DWSBVSYS1'},\n {'YPJSQB1NK'},\n {'8A69AAWEV'},\n {'52UMYZ0AQ', '9GORYNJUQ', 'E0JF2BQ8X', 'KOBD1ACGV', 'U6QXRAPBY'},\n {'TXINM8RH6'},\n {'0P09TUI04'},\n {'C5TY8KO0M'},\n {'5CCZ5W2PG'},\n {'ADMQFHZK2'},\n {'0PS3UG706',\n  '0TS3YTURI',\n  '1GOFXT1OV',\n  '356B3X6AX',\n  '3AOMVJBWC',\n  '8M0098QBY',\n  'A4NUZ22PL',\n  'BCFIYP6KF',\n  'CMUEVJW0P',\n  'D9RBDIOL0',\n  'L8TOW6TNA',\n  'LH6DFB5F6',\n  'M79RIKP8D',\n  'MPI6QYLRO',\n  'NRZO6E5PR',\n  'OL4DZ8JZR',\n  'WCCA61EH1',\n  'ZR7S7G4XE'},\n {'0B82D7G57',\n  '1FV2F2834',\n  '1G7S047H0',\n  '2FSSRVL3Y',\n  '4KYDN84EO',\n  '4Y9506OEQ',\n  '6QFBAOK7W',\n  '8H70N2069',\n  '8ZNO8BIHL',\n  '90XHISVT2',\n  '914Y0S91B',\n  '9J8PQZ17Q',\n  'AGONNB8P1',\n  'AZAQ6AU88',\n  'B6QVWTDA9',\n  'C6KG77TQ4',\n  'CFSFIH899',\n  'DPYSN7JLN',\n  'DTWBKR22K',\n  'EPWNLZUIU',\n  'HK5RA8VN2',\n  'J4GN0JLOP',\n  'J6T3XR6FN',\n  'JHU69XW38',\n  'KU8W4234J',\n  'LFZF5Q57M',\n  'Q3YYEHNL1',\n  'RPSQ8IK5A',\n  'SH5MDSJ4N',\n  'SR0LO6B6O',\n  'TIEIGUGDF',\n  'TU1SLMR17',\n  'VSJ3PM8SE',\n  'XATC2NQYV',\n  'ZMG62TFTN',\n  'ZWOG1G0E4'},\n {'25SR1WIMW',\n  '455ENEIP0',\n  '60I7H2B6D',\n  '8YROK63YG',\n  'H3BSKLPG3',\n  'YGWF8BZ0Q',\n  'Z5LWLCLGQ'},\n {'D8QAFWQOD'},\n {'3FX5CP8G6'},\n {'53SUYI9JV',\n  '9ICALHNP4',\n  'B8RBE7THP',\n  'BQ1BYKOC5',\n  'J1W8M52IQ',\n  'J8R1TIFOU',\n  'JUX1BZ6HY',\n  'LUQFI5EOG',\n  'MN97P3QRD',\n  'MWX6VP7YQ',\n  'NRKTLCX24',\n  'RDCY4GQ21',\n  'RN0P2YXM8',\n  'VY1DWBJ4I',\n  'WQN2R7MUX'},\n {'OE8J8D5YU'},\n {'HCCKRGJ5X', 'W4EFPUG6F'},\n {'BPS1XI2OD'},\n {'7TR6A1MX5', 'VVFAM0N2S'},\n {'1VULI5G25'},\n {'1XY85SCY9',\n  'K1VC9HHNU',\n  'KYTIFAIAQ',\n  'L3NG1JIPA',\n  'MKA8MAKIE',\n  'QW3NRQD61',\n  'RW9XKYP0A'},\n {'R6G3W05BD'},\n {'2KHI20P5A',\n  '5BXYP93AX',\n  'AMM053W06',\n  'B971G4H6S',\n  'CPDDFKY5G',\n  'EWT67SH1S',\n  'F6P8CZ5UF',\n  'JG27BNM5H',\n  'LCWGFSO4L',\n  'MO4PZXJ8Y',\n  'P8P954GXN',\n  'PAA49EBGO',\n  'Q6J70EUF3',\n  'QUTX8OZW3',\n  'SRDPEWS6T',\n  'U5O7QSXSB',\n  'VF0A5M8KL',\n  'VTAK1OW52',\n  'VY1IQK701',\n  'X9T27A6KS'},\n {'S5PMWAB4V'},\n {'RW533BDLF'},\n {'K1MBWILKR'},\n {'J9W1YQQVX'},\n {'P9T3GAF6P'},\n {'1WUGH0AHU', '37O1U32LI', 'EA87RASFM', 'FMNC45UG6', 'JK4AAAKB3'},\n {'184Q1P3KK',\n  '1O7GLLIT8',\n  '1S6ZLSGJS',\n  '2Q87KTVG0',\n  '45JAJQR0T',\n  '4N9A32TWT',\n  '4Z3W2RMJG',\n  '5NJUNEM55',\n  '5SW2OYSDM',\n  '62E6KTMYD',\n  '6PNOSRLW5',\n  '7HPYSOOLT',\n  '8WYV44HVQ',\n  '9JZRKJWQF',\n  'BZY2PLVEA',\n  'EV8EY8E26',\n  'HIX8J8CW5',\n  'IEOR1SXLA',\n  'JVE1OMBAJ',\n  'K0SFSG83G',\n  'L08ZG932H',\n  'L2D8CUCVK',\n  'L4G6AVLHK',\n  'OCVZ3I5SI',\n  'RQH6LZ1DN',\n  'RX3AOHSHS',\n  'S1MK0KQ5O',\n  'S4GLOFWWO',\n  'S8P71RGIF',\n  'SU3FHIVRL',\n  'T4H5XJDSA'},\n {'9T5KNHU4E'},\n {'3GJPR4QJK'},\n {'EO4PZE0AL'},\n {'29VY3IBY8'},\n {'GPBMDFOBB'},\n {'O3Q8VAY4F'},\n {'8R9PYNMQ2'},\n {'S8JIH40OC'},\n {'AU6WSDEUP'},\n {'2NSKWGEB8'},\n {'3JU9FAUU3',\n  'AZB66ZE59',\n  'HF6FBYY47',\n  'HOGJPGIZZ',\n  'TER22Y23C',\n  'U8EMJ67QR',\n  'YA54L81JN'},\n {'8TPQ9WRR1'}]"
     },
     "execution_count": 44,
     "metadata": {},
     "output_type": "execute_result"
    }
   ],
   "source": [
    "comm2_sets = [set(s.replace(\"'\", \"\").split(\", \")) for s in comm2_sets_polished ] # Remove single quotes and split\n",
    "comm2_sets"
   ],
   "metadata": {
    "collapsed": false,
    "ExecuteTime": {
     "end_time": "2025-03-15T04:25:36.581613Z",
     "start_time": "2025-03-15T04:25:36.521172Z"
    }
   },
   "id": "a1153fed2d085a2e"
  },
  {
   "cell_type": "code",
   "execution_count": null,
   "outputs": [],
   "source": [
    "#it's to correct lists correct them here"
   ],
   "metadata": {
    "collapsed": false
   },
   "id": "2755e60498e0501c"
  },
  {
   "cell_type": "code",
   "execution_count": 45,
   "outputs": [],
   "source": [
    "partition1[\"comm\"]=comm1_sets"
   ],
   "metadata": {
    "collapsed": false,
    "ExecuteTime": {
     "end_time": "2025-03-15T04:25:43.289600Z",
     "start_time": "2025-03-15T04:25:43.206900Z"
    }
   },
   "id": "c9c9b96d84705385"
  },
  {
   "cell_type": "code",
   "execution_count": 46,
   "outputs": [],
   "source": [
    "partition2[\"comm\"]=comm2_sets"
   ],
   "metadata": {
    "collapsed": false,
    "ExecuteTime": {
     "end_time": "2025-03-15T04:25:44.228303Z",
     "start_time": "2025-03-15T04:25:44.153144Z"
    }
   },
   "id": "63054a237f5d11d7"
  },
  {
   "cell_type": "code",
   "execution_count": 47,
   "outputs": [],
   "source": [
    "# Compute Jaccard similarity matrix\n",
    "similarity_matrix = np.array([[jaccard_similarity(c1, c2) for c2 in comm2_sets] for c1 in comm1_sets])\n"
   ],
   "metadata": {
    "collapsed": false,
    "ExecuteTime": {
     "end_time": "2025-03-15T04:25:53.870021Z",
     "start_time": "2025-03-15T04:25:53.815366Z"
    }
   },
   "id": "a8cde6580f4206d5"
  },
  {
   "cell_type": "code",
   "execution_count": 48,
   "outputs": [
    {
     "data": {
      "text/plain": "array([[0.86842105, 0.        , 0.        , ..., 0.        , 0.        ,\n        0.        ],\n       [0.        , 0.        , 0.        , ..., 0.        , 0.        ,\n        0.        ],\n       [0.        , 0.        , 1.        , ..., 0.        , 0.        ,\n        0.        ],\n       ...,\n       [0.        , 0.        , 0.        , ..., 0.        , 0.        ,\n        0.        ],\n       [0.        , 0.        , 0.        , ..., 0.        , 0.        ,\n        0.        ],\n       [0.        , 0.        , 0.        , ..., 0.        , 0.        ,\n        0.        ]])"
     },
     "execution_count": 48,
     "metadata": {},
     "output_type": "execute_result"
    }
   ],
   "source": [
    "similarity_matrix"
   ],
   "metadata": {
    "collapsed": false,
    "ExecuteTime": {
     "end_time": "2025-03-15T04:25:56.953692Z",
     "start_time": "2025-03-15T04:25:56.883083Z"
    }
   },
   "id": "ae5f48eb83f5ffb4"
  },
  {
   "cell_type": "code",
   "execution_count": 49,
   "outputs": [],
   "source": [
    "\n",
    "# Find best match for each community in Partition 1\n",
    "best_matches = np.argmax(similarity_matrix, axis=1)\n"
   ],
   "metadata": {
    "collapsed": false,
    "ExecuteTime": {
     "end_time": "2025-03-15T04:26:04.379860Z",
     "start_time": "2025-03-15T04:26:04.300987Z"
    }
   },
   "id": "2e73ac6890d4ad1f"
  },
  {
   "cell_type": "code",
   "execution_count": 50,
   "outputs": [
    {
     "data": {
      "text/plain": "array([0.86842105, 1.        , 1.        , 1.        , 0.25      ,\n       1.        , 1.        , 1.        , 1.        , 1.        ,\n       1.        , 0.63157895, 1.        , 1.        , 1.        ,\n       1.        , 0.5       , 0.85      , 0.05555556, 0.35849057,\n       0.38297872, 0.80952381, 0.92857143, 0.04166667, 0.66666667,\n       1.        , 0.33333333, 1.        , 1.        , 0.14285714,\n       0.08333333, 1.        , 1.        , 0.14285714, 1.        ,\n       0.97333333, 0.66666667, 0.22222222, 1.        , 0.60526316,\n       0.35714286, 0.96875   , 1.        , 0.08333333, 0.5       ,\n       1.        , 1.        , 1.        , 0.3125    , 1.        ,\n       0.2       , 1.        , 0.42857143, 0.96153846, 1.        ,\n       1.        , 0.5       , 0.3       , 1.        , 0.33333333,\n       1.        , 0.05555556, 0.15384615, 0.5       , 0.09090909,\n       0.58823529, 0.66666667, 1.        , 1.        , 1.        ,\n       0.55      , 0.89285714, 1.        , 0.33333333, 1.        ,\n       0.46808511, 0.5       , 0.33333333, 1.        , 0.25714286,\n       1.        , 0.125     , 1.        , 0.5       , 1.        ,\n       1.        , 1.        , 1.        , 0.25      , 1.        ,\n       1.        , 1.        , 0.70588235, 1.        , 1.        ,\n       0.15      , 1.        , 0.27777778, 0.5       , 1.        ,\n       0.14285714, 1.        , 1.        , 0.71428571, 1.        ,\n       0.33333333, 1.        , 1.        , 1.        , 1.        ,\n       0.92307692, 1.        , 0.25      ])"
     },
     "execution_count": 50,
     "metadata": {},
     "output_type": "execute_result"
    }
   ],
   "source": [
    "np.max(similarity_matrix, axis=1)\n",
    "#checking that  it's not only 0 and 1"
   ],
   "metadata": {
    "collapsed": false,
    "ExecuteTime": {
     "end_time": "2025-03-15T04:26:19.870365Z",
     "start_time": "2025-03-15T04:26:19.798473Z"
    }
   },
   "id": "c4f2d699182281da"
  },
  {
   "cell_type": "code",
   "execution_count": 51,
   "outputs": [
    {
     "data": {
      "text/plain": "array([  0,  58,   2,  93,  10,   7,   8,  98,  24,  97,  13,  14,  16,\n        65,  11,  75, 106,  76,  21,  20,  52,  28,  49,  20,  23,  33,\n        48,  34,  66,  50,  42,  72,  47,  87,   1,  15,  37,  38,  19,\n        26,  42,  96,  71,  61,  10, 104,  94, 103,  50,  41,  46,  84,\n        64,  17,  22,  44,  80,  78,  63,   5,  82,  10,  57, 102,  57,\n        61,  62,  36,  45, 105,  21,   9,  88,  68,  67,  27,  46,  85,\n        18,  89,  73,  87,   4,  54,  43,  74,  69,  39,  31,   6,  79,\n        91,  81,  92,  59,  81,  35,  77, 107,  90,  51, 108,   3,  40,\n        32,  83, 100,  86,  60,  25,  12,  56,  51])"
     },
     "execution_count": 51,
     "metadata": {},
     "output_type": "execute_result"
    }
   ],
   "source": [
    "best_matches"
   ],
   "metadata": {
    "collapsed": false,
    "ExecuteTime": {
     "end_time": "2025-03-15T04:26:35.168017Z",
     "start_time": "2025-03-15T04:26:35.091168Z"
    }
   },
   "id": "d09cba4ceaa74d7a"
  },
  {
   "cell_type": "code",
   "execution_count": null,
   "outputs": [],
   "source": [],
   "metadata": {
    "collapsed": false
   },
   "id": "35d1624c4e861bf7"
  },
  {
   "cell_type": "code",
   "execution_count": 146,
   "outputs": [
    {
     "data": {
      "text/plain": "221"
     },
     "execution_count": 146,
     "metadata": {},
     "output_type": "execute_result"
    }
   ],
   "source": [
    "len(set (best_matches))\n",
    "#some of htem have same best match"
   ],
   "metadata": {
    "collapsed": false,
    "ExecuteTime": {
     "end_time": "2025-03-14T21:04:52.638347Z",
     "start_time": "2025-03-14T21:04:52.582532Z"
    }
   },
   "id": "ebb9412fe1ce31c9"
  },
  {
   "cell_type": "code",
   "execution_count": 52,
   "outputs": [
    {
     "name": "stdout",
     "output_type": "stream",
     "text": [
      "Community 1 in Partition 1 best matches with Community 1 in Partition 2 (Jaccard = 0.87)\n",
      "Community 2 in Partition 1 best matches with Community 59 in Partition 2 (Jaccard = 1.00)\n",
      "Community 3 in Partition 1 best matches with Community 3 in Partition 2 (Jaccard = 1.00)\n",
      "Community 4 in Partition 1 best matches with Community 94 in Partition 2 (Jaccard = 1.00)\n",
      "Community 5 in Partition 1 best matches with Community 11 in Partition 2 (Jaccard = 0.25)\n",
      "Community 6 in Partition 1 best matches with Community 8 in Partition 2 (Jaccard = 1.00)\n",
      "Community 7 in Partition 1 best matches with Community 9 in Partition 2 (Jaccard = 1.00)\n",
      "Community 8 in Partition 1 best matches with Community 99 in Partition 2 (Jaccard = 1.00)\n",
      "Community 9 in Partition 1 best matches with Community 25 in Partition 2 (Jaccard = 1.00)\n",
      "Community 10 in Partition 1 best matches with Community 98 in Partition 2 (Jaccard = 1.00)\n",
      "Community 11 in Partition 1 best matches with Community 14 in Partition 2 (Jaccard = 1.00)\n",
      "Community 12 in Partition 1 best matches with Community 15 in Partition 2 (Jaccard = 0.63)\n",
      "Community 13 in Partition 1 best matches with Community 17 in Partition 2 (Jaccard = 1.00)\n",
      "Community 14 in Partition 1 best matches with Community 66 in Partition 2 (Jaccard = 1.00)\n",
      "Community 15 in Partition 1 best matches with Community 12 in Partition 2 (Jaccard = 1.00)\n",
      "Community 16 in Partition 1 best matches with Community 76 in Partition 2 (Jaccard = 1.00)\n",
      "Community 17 in Partition 1 best matches with Community 107 in Partition 2 (Jaccard = 0.50)\n",
      "Community 18 in Partition 1 best matches with Community 77 in Partition 2 (Jaccard = 0.85)\n",
      "Community 19 in Partition 1 best matches with Community 22 in Partition 2 (Jaccard = 0.06)\n",
      "Community 20 in Partition 1 best matches with Community 21 in Partition 2 (Jaccard = 0.36)\n",
      "Community 21 in Partition 1 best matches with Community 53 in Partition 2 (Jaccard = 0.38)\n",
      "Community 22 in Partition 1 best matches with Community 29 in Partition 2 (Jaccard = 0.81)\n",
      "Community 23 in Partition 1 best matches with Community 50 in Partition 2 (Jaccard = 0.93)\n",
      "Community 24 in Partition 1 best matches with Community 21 in Partition 2 (Jaccard = 0.04)\n",
      "Community 25 in Partition 1 best matches with Community 24 in Partition 2 (Jaccard = 0.67)\n",
      "Community 26 in Partition 1 best matches with Community 34 in Partition 2 (Jaccard = 1.00)\n",
      "Community 27 in Partition 1 best matches with Community 49 in Partition 2 (Jaccard = 0.33)\n",
      "Community 28 in Partition 1 best matches with Community 35 in Partition 2 (Jaccard = 1.00)\n",
      "Community 29 in Partition 1 best matches with Community 67 in Partition 2 (Jaccard = 1.00)\n",
      "Community 30 in Partition 1 best matches with Community 51 in Partition 2 (Jaccard = 0.14)\n",
      "Community 31 in Partition 1 best matches with Community 43 in Partition 2 (Jaccard = 0.08)\n",
      "Community 32 in Partition 1 best matches with Community 73 in Partition 2 (Jaccard = 1.00)\n",
      "Community 33 in Partition 1 best matches with Community 48 in Partition 2 (Jaccard = 1.00)\n",
      "Community 34 in Partition 1 best matches with Community 88 in Partition 2 (Jaccard = 0.14)\n",
      "Community 35 in Partition 1 best matches with Community 2 in Partition 2 (Jaccard = 1.00)\n",
      "Community 36 in Partition 1 best matches with Community 16 in Partition 2 (Jaccard = 0.97)\n",
      "Community 37 in Partition 1 best matches with Community 38 in Partition 2 (Jaccard = 0.67)\n",
      "Community 38 in Partition 1 best matches with Community 39 in Partition 2 (Jaccard = 0.22)\n",
      "Community 39 in Partition 1 best matches with Community 20 in Partition 2 (Jaccard = 1.00)\n",
      "Community 40 in Partition 1 best matches with Community 27 in Partition 2 (Jaccard = 0.61)\n",
      "Community 41 in Partition 1 best matches with Community 43 in Partition 2 (Jaccard = 0.36)\n",
      "Community 42 in Partition 1 best matches with Community 97 in Partition 2 (Jaccard = 0.97)\n",
      "Community 43 in Partition 1 best matches with Community 72 in Partition 2 (Jaccard = 1.00)\n",
      "Community 44 in Partition 1 best matches with Community 62 in Partition 2 (Jaccard = 0.08)\n",
      "Community 45 in Partition 1 best matches with Community 11 in Partition 2 (Jaccard = 0.50)\n",
      "Community 46 in Partition 1 best matches with Community 105 in Partition 2 (Jaccard = 1.00)\n",
      "Community 47 in Partition 1 best matches with Community 95 in Partition 2 (Jaccard = 1.00)\n",
      "Community 48 in Partition 1 best matches with Community 104 in Partition 2 (Jaccard = 1.00)\n",
      "Community 49 in Partition 1 best matches with Community 51 in Partition 2 (Jaccard = 0.31)\n",
      "Community 50 in Partition 1 best matches with Community 42 in Partition 2 (Jaccard = 1.00)\n",
      "Community 51 in Partition 1 best matches with Community 47 in Partition 2 (Jaccard = 0.20)\n",
      "Community 52 in Partition 1 best matches with Community 85 in Partition 2 (Jaccard = 1.00)\n",
      "Community 53 in Partition 1 best matches with Community 65 in Partition 2 (Jaccard = 0.43)\n",
      "Community 54 in Partition 1 best matches with Community 18 in Partition 2 (Jaccard = 0.96)\n",
      "Community 55 in Partition 1 best matches with Community 23 in Partition 2 (Jaccard = 1.00)\n",
      "Community 56 in Partition 1 best matches with Community 45 in Partition 2 (Jaccard = 1.00)\n",
      "Community 57 in Partition 1 best matches with Community 81 in Partition 2 (Jaccard = 0.50)\n",
      "Community 58 in Partition 1 best matches with Community 79 in Partition 2 (Jaccard = 0.30)\n",
      "Community 59 in Partition 1 best matches with Community 64 in Partition 2 (Jaccard = 1.00)\n",
      "Community 60 in Partition 1 best matches with Community 6 in Partition 2 (Jaccard = 0.33)\n",
      "Community 61 in Partition 1 best matches with Community 83 in Partition 2 (Jaccard = 1.00)\n",
      "Community 62 in Partition 1 best matches with Community 11 in Partition 2 (Jaccard = 0.06)\n",
      "Community 63 in Partition 1 best matches with Community 58 in Partition 2 (Jaccard = 0.15)\n",
      "Community 64 in Partition 1 best matches with Community 103 in Partition 2 (Jaccard = 0.50)\n",
      "Community 65 in Partition 1 best matches with Community 58 in Partition 2 (Jaccard = 0.09)\n",
      "Community 66 in Partition 1 best matches with Community 62 in Partition 2 (Jaccard = 0.59)\n",
      "Community 67 in Partition 1 best matches with Community 63 in Partition 2 (Jaccard = 0.67)\n",
      "Community 68 in Partition 1 best matches with Community 37 in Partition 2 (Jaccard = 1.00)\n",
      "Community 69 in Partition 1 best matches with Community 46 in Partition 2 (Jaccard = 1.00)\n",
      "Community 70 in Partition 1 best matches with Community 106 in Partition 2 (Jaccard = 1.00)\n",
      "Community 71 in Partition 1 best matches with Community 22 in Partition 2 (Jaccard = 0.55)\n",
      "Community 72 in Partition 1 best matches with Community 10 in Partition 2 (Jaccard = 0.89)\n",
      "Community 73 in Partition 1 best matches with Community 89 in Partition 2 (Jaccard = 1.00)\n",
      "Community 74 in Partition 1 best matches with Community 69 in Partition 2 (Jaccard = 0.33)\n",
      "Community 75 in Partition 1 best matches with Community 68 in Partition 2 (Jaccard = 1.00)\n",
      "Community 76 in Partition 1 best matches with Community 28 in Partition 2 (Jaccard = 0.47)\n",
      "Community 77 in Partition 1 best matches with Community 47 in Partition 2 (Jaccard = 0.50)\n",
      "Community 78 in Partition 1 best matches with Community 86 in Partition 2 (Jaccard = 0.33)\n",
      "Community 79 in Partition 1 best matches with Community 19 in Partition 2 (Jaccard = 1.00)\n",
      "Community 80 in Partition 1 best matches with Community 90 in Partition 2 (Jaccard = 0.26)\n",
      "Community 81 in Partition 1 best matches with Community 74 in Partition 2 (Jaccard = 1.00)\n",
      "Community 82 in Partition 1 best matches with Community 88 in Partition 2 (Jaccard = 0.12)\n",
      "Community 83 in Partition 1 best matches with Community 5 in Partition 2 (Jaccard = 1.00)\n",
      "Community 84 in Partition 1 best matches with Community 55 in Partition 2 (Jaccard = 0.50)\n",
      "Community 85 in Partition 1 best matches with Community 44 in Partition 2 (Jaccard = 1.00)\n",
      "Community 86 in Partition 1 best matches with Community 75 in Partition 2 (Jaccard = 1.00)\n",
      "Community 87 in Partition 1 best matches with Community 70 in Partition 2 (Jaccard = 1.00)\n",
      "Community 88 in Partition 1 best matches with Community 40 in Partition 2 (Jaccard = 1.00)\n",
      "Community 89 in Partition 1 best matches with Community 32 in Partition 2 (Jaccard = 0.25)\n",
      "Community 90 in Partition 1 best matches with Community 7 in Partition 2 (Jaccard = 1.00)\n",
      "Community 91 in Partition 1 best matches with Community 80 in Partition 2 (Jaccard = 1.00)\n",
      "Community 92 in Partition 1 best matches with Community 92 in Partition 2 (Jaccard = 1.00)\n",
      "Community 93 in Partition 1 best matches with Community 82 in Partition 2 (Jaccard = 0.71)\n",
      "Community 94 in Partition 1 best matches with Community 93 in Partition 2 (Jaccard = 1.00)\n",
      "Community 95 in Partition 1 best matches with Community 60 in Partition 2 (Jaccard = 1.00)\n",
      "Community 96 in Partition 1 best matches with Community 82 in Partition 2 (Jaccard = 0.15)\n",
      "Community 97 in Partition 1 best matches with Community 36 in Partition 2 (Jaccard = 1.00)\n",
      "Community 98 in Partition 1 best matches with Community 78 in Partition 2 (Jaccard = 0.28)\n",
      "Community 99 in Partition 1 best matches with Community 108 in Partition 2 (Jaccard = 0.50)\n",
      "Community 100 in Partition 1 best matches with Community 91 in Partition 2 (Jaccard = 1.00)\n",
      "Community 101 in Partition 1 best matches with Community 52 in Partition 2 (Jaccard = 0.14)\n",
      "Community 102 in Partition 1 best matches with Community 109 in Partition 2 (Jaccard = 1.00)\n",
      "Community 103 in Partition 1 best matches with Community 4 in Partition 2 (Jaccard = 1.00)\n",
      "Community 104 in Partition 1 best matches with Community 41 in Partition 2 (Jaccard = 0.71)\n",
      "Community 105 in Partition 1 best matches with Community 33 in Partition 2 (Jaccard = 1.00)\n",
      "Community 106 in Partition 1 best matches with Community 84 in Partition 2 (Jaccard = 0.33)\n",
      "Community 107 in Partition 1 best matches with Community 101 in Partition 2 (Jaccard = 1.00)\n",
      "Community 108 in Partition 1 best matches with Community 87 in Partition 2 (Jaccard = 1.00)\n",
      "Community 109 in Partition 1 best matches with Community 61 in Partition 2 (Jaccard = 1.00)\n",
      "Community 110 in Partition 1 best matches with Community 26 in Partition 2 (Jaccard = 1.00)\n",
      "Community 111 in Partition 1 best matches with Community 13 in Partition 2 (Jaccard = 0.92)\n",
      "Community 112 in Partition 1 best matches with Community 57 in Partition 2 (Jaccard = 1.00)\n",
      "Community 113 in Partition 1 best matches with Community 52 in Partition 2 (Jaccard = 0.25)\n"
     ]
    }
   ],
   "source": [
    "\n",
    "\n",
    "# Print matching results\n",
    "match_of_1_in_2=[]\n",
    "Jaccard_list=[]\n",
    "for i, best_match in enumerate(best_matches):\n",
    "    print(f\"Community {i+1} in Partition 1 best matches with Community {best_match+1} in Partition 2 (Jaccard = {similarity_matrix[i, best_match]:.2f})\")# i+1 to match my comm_ id in csv file\n",
    "    match_of_1_in_2.append(best_match+1)\n",
    "    Jaccard_list.append(similarity_matrix[i, best_match])"
   ],
   "metadata": {
    "collapsed": false,
    "ExecuteTime": {
     "end_time": "2025-03-15T04:26:53.357187Z",
     "start_time": "2025-03-15T04:26:53.281647Z"
    }
   },
   "id": "87427592e31cc334"
  },
  {
   "cell_type": "code",
   "execution_count": 53,
   "outputs": [
    {
     "data": {
      "text/plain": "[1,\n 59,\n 3,\n 94,\n 11,\n 8,\n 9,\n 99,\n 25,\n 98,\n 14,\n 15,\n 17,\n 66,\n 12,\n 76,\n 107,\n 77,\n 22,\n 21,\n 53,\n 29,\n 50,\n 21,\n 24,\n 34,\n 49,\n 35,\n 67,\n 51,\n 43,\n 73,\n 48,\n 88,\n 2,\n 16,\n 38,\n 39,\n 20,\n 27,\n 43,\n 97,\n 72,\n 62,\n 11,\n 105,\n 95,\n 104,\n 51,\n 42,\n 47,\n 85,\n 65,\n 18,\n 23,\n 45,\n 81,\n 79,\n 64,\n 6,\n 83,\n 11,\n 58,\n 103,\n 58,\n 62,\n 63,\n 37,\n 46,\n 106,\n 22,\n 10,\n 89,\n 69,\n 68,\n 28,\n 47,\n 86,\n 19,\n 90,\n 74,\n 88,\n 5,\n 55,\n 44,\n 75,\n 70,\n 40,\n 32,\n 7,\n 80,\n 92,\n 82,\n 93,\n 60,\n 82,\n 36,\n 78,\n 108,\n 91,\n 52,\n 109,\n 4,\n 41,\n 33,\n 84,\n 101,\n 87,\n 61,\n 26,\n 13,\n 57,\n 52]"
     },
     "execution_count": 53,
     "metadata": {},
     "output_type": "execute_result"
    }
   ],
   "source": [
    "match_of_1_in_2"
   ],
   "metadata": {
    "collapsed": false,
    "ExecuteTime": {
     "end_time": "2025-03-15T04:27:01.589696Z",
     "start_time": "2025-03-15T04:27:01.523111Z"
    }
   },
   "id": "2ab1029ce36771bd"
  },
  {
   "cell_type": "code",
   "execution_count": 83,
   "outputs": [
    {
     "data": {
      "text/plain": "[0.868421052631579,\n 1.0,\n 1.0,\n 1.0,\n 0.25,\n 1.0,\n 1.0,\n 1.0,\n 1.0,\n 1.0,\n 1.0,\n 0.631578947368421,\n 1.0,\n 1.0,\n 1.0,\n 1.0,\n 0.5,\n 0.85,\n 0.05555555555555555,\n 0.3584905660377358,\n 0.3829787234042553,\n 0.8095238095238095,\n 0.9285714285714286,\n 0.041666666666666664,\n 0.6666666666666666,\n 1.0,\n 0.3333333333333333,\n 1.0,\n 1.0,\n 0.14285714285714285,\n 0.08333333333333333,\n 1.0,\n 1.0,\n 0.14285714285714285,\n 1.0,\n 0.9733333333333334,\n 0.6666666666666666,\n 0.2222222222222222,\n 1.0,\n 0.6052631578947368,\n 0.35714285714285715,\n 0.96875,\n 1.0,\n 0.08333333333333333,\n 0.5,\n 1.0,\n 1.0,\n 1.0,\n 0.3125,\n 1.0,\n 0.2,\n 1.0,\n 0.42857142857142855,\n 0.9615384615384616,\n 1.0,\n 1.0,\n 0.5,\n 0.3,\n 1.0,\n 0.3333333333333333,\n 1.0,\n 0.05555555555555555,\n 0.15384615384615385,\n 0.5,\n 0.09090909090909091,\n 0.5882352941176471,\n 0.6666666666666666,\n 1.0,\n 1.0,\n 1.0,\n 0.55,\n 0.8928571428571429,\n 1.0,\n 0.3333333333333333,\n 1.0,\n 0.46808510638297873,\n 0.5,\n 0.3333333333333333,\n 1.0,\n 0.2571428571428571,\n 1.0,\n 0.125,\n 1.0,\n 0.5,\n 1.0,\n 1.0,\n 1.0,\n 1.0,\n 0.25,\n 1.0,\n 1.0,\n 1.0,\n 0.7058823529411765,\n 1.0,\n 1.0,\n 0.15,\n 1.0,\n 0.2777777777777778,\n 0.5,\n 1.0,\n 0.14285714285714285,\n 1.0,\n 1.0,\n 0.7142857142857143,\n 1.0,\n 0.3333333333333333,\n 1.0,\n 1.0,\n 1.0,\n 1.0,\n 0.9230769230769231,\n 1.0,\n 0.25]"
     },
     "execution_count": 83,
     "metadata": {},
     "output_type": "execute_result"
    }
   ],
   "source": [
    "Jaccard_list"
   ],
   "metadata": {
    "collapsed": false,
    "ExecuteTime": {
     "end_time": "2025-03-18T15:25:52.751285Z",
     "start_time": "2025-03-18T15:25:52.719719Z"
    }
   },
   "id": "8884b15541c2094e"
  },
  {
   "cell_type": "code",
   "execution_count": 97,
   "outputs": [
    {
     "data": {
      "text/plain": "Text(0.5, 1.0, 'Jaccard value distribution for matched communities')"
     },
     "execution_count": 97,
     "metadata": {},
     "output_type": "execute_result"
    },
    {
     "data": {
      "text/plain": "<Figure size 640x480 with 1 Axes>",
      "image/png": "[encoded data removed]"
     },
     "metadata": {},
     "output_type": "display_data"
    }
   ],
   "source": [
    "plt.hist(Jaccard_list,color=\"orange\")\n",
    "plt.xlabel(\"Jaccard value\")\n",
    "plt.ylabel(\"Frequency\")\n",
    "plt.title(\"Jaccard value distribution for matched communities\")"
   ],
   "metadata": {
    "collapsed": false,
    "ExecuteTime": {
     "end_time": "2025-03-18T18:57:43.921571Z",
     "start_time": "2025-03-18T18:57:43.630243Z"
    }
   },
   "id": "256f67ce6cf34a6c"
  },
  {
   "cell_type": "code",
   "execution_count": 55,
   "outputs": [],
   "source": [
    "partition1[\"match_of_1_in_2\"]=match_of_1_in_2"
   ],
   "metadata": {
    "collapsed": false,
    "ExecuteTime": {
     "end_time": "2025-03-15T04:27:09.741603Z",
     "start_time": "2025-03-15T04:27:09.664545Z"
    }
   },
   "id": "2116e1b01b6bfea5"
  },
  {
   "cell_type": "code",
   "execution_count": 56,
   "outputs": [],
   "source": [
    "partition1[\"Jaccard\"]=Jaccard_list"
   ],
   "metadata": {
    "collapsed": false,
    "ExecuteTime": {
     "end_time": "2025-03-15T04:27:10.855916Z",
     "start_time": "2025-03-15T04:27:10.757304Z"
    }
   },
   "id": "44c3f115303997bb"
  },
  {
   "cell_type": "code",
   "execution_count": 66,
   "outputs": [
    {
     "data": {
      "text/plain": "101"
     },
     "execution_count": 66,
     "metadata": {},
     "output_type": "execute_result"
    }
   ],
   "source": [
    "len(set(match_of_1_in_2))"
   ],
   "metadata": {
    "collapsed": false,
    "ExecuteTime": {
     "end_time": "2025-03-15T04:39:55.179737Z",
     "start_time": "2025-03-15T04:39:55.098220Z"
    }
   },
   "id": "b49312230de78117"
  },
  {
   "cell_type": "code",
   "execution_count": 57,
   "outputs": [
    {
     "data": {
      "text/plain": "     comm_id                                               comm  \\\n0          1  {YWRQWOGXY, 7Y4OK6WUE, AQ69R055Z, 6L185X52Y, D...   \n1          2                                        {G1E1VI9PT}   \n2          3                                        {X13HPGM1A}   \n3          4                                        {J9W1YQQVX}   \n4          5  {HXEDAYCK4, DQGR15TYR, 8P4EDJX9M, Q5EHPLYEH, E...   \n..       ...                                                ...   \n108      109                                        {R2T87O3FO}   \n109      110                                        {J5XGQ0VWB}   \n110      111  {G4DG2KL3W, KCHOBK8DZ, H8C8V4AOO, XO2IP210Q, B...   \n111      112                                        {KFFYJ83IG}   \n112      113                                        {7CPMP6BDN}   \n\n     match_of_1_in_2   Jaccard  \n0                  1  0.868421  \n1                 59  1.000000  \n2                  3  1.000000  \n3                 94  1.000000  \n4                 11  0.250000  \n..               ...       ...  \n108               61  1.000000  \n109               26  1.000000  \n110               13  0.923077  \n111               57  1.000000  \n112               52  0.250000  \n\n[113 rows x 4 columns]",
      "text/html": "<div>\n<style scoped>\n    .dataframe tbody tr th:only-of-type {\n        vertical-align: middle;\n    }\n\n    .dataframe tbody tr th {\n        vertical-align: top;\n    }\n\n    .dataframe thead th {\n        text-align: right;\n    }\n</style>\n<table border=\"1\" class=\"dataframe\">\n  <thead>\n    <tr style=\"text-align: right;\">\n      <th></th>\n      <th>comm_id</th>\n      <th>comm</th>\n      <th>match_of_1_in_2</th>\n      <th>Jaccard</th>\n    </tr>\n  </thead>\n  <tbody>\n    <tr>\n      <th>0</th>\n      <td>1</td>\n      <td>{YWRQWOGXY, 7Y4OK6WUE, AQ69R055Z, 6L185X52Y, D...</td>\n      <td>1</td>\n      <td>0.868421</td>\n    </tr>\n    <tr>\n      <th>1</th>\n      <td>2</td>\n      <td>{G1E1VI9PT}</td>\n      <td>59</td>\n      <td>1.000000</td>\n    </tr>\n    <tr>\n      <th>2</th>\n      <td>3</td>\n      <td>{X13HPGM1A}</td>\n      <td>3</td>\n      <td>1.000000</td>\n    </tr>\n    <tr>\n      <th>3</th>\n      <td>4</td>\n      <td>{J9W1YQQVX}</td>\n      <td>94</td>\n      <td>1.000000</td>\n    </tr>\n    <tr>\n      <th>4</th>\n      <td>5</td>\n      <td>{HXEDAYCK4, DQGR15TYR, 8P4EDJX9M, Q5EHPLYEH, E...</td>\n      <td>11</td>\n      <td>0.250000</td>\n    </tr>\n    <tr>\n      <th>...</th>\n      <td>...</td>\n      <td>...</td>\n      <td>...</td>\n      <td>...</td>\n    </tr>\n    <tr>\n      <th>108</th>\n      <td>109</td>\n      <td>{R2T87O3FO}</td>\n      <td>61</td>\n      <td>1.000000</td>\n    </tr>\n    <tr>\n      <th>109</th>\n      <td>110</td>\n      <td>{J5XGQ0VWB}</td>\n      <td>26</td>\n      <td>1.000000</td>\n    </tr>\n    <tr>\n      <th>110</th>\n      <td>111</td>\n      <td>{G4DG2KL3W, KCHOBK8DZ, H8C8V4AOO, XO2IP210Q, B...</td>\n      <td>13</td>\n      <td>0.923077</td>\n    </tr>\n    <tr>\n      <th>111</th>\n      <td>112</td>\n      <td>{KFFYJ83IG}</td>\n      <td>57</td>\n      <td>1.000000</td>\n    </tr>\n    <tr>\n      <th>112</th>\n      <td>113</td>\n      <td>{7CPMP6BDN}</td>\n      <td>52</td>\n      <td>0.250000</td>\n    </tr>\n  </tbody>\n</table>\n<p>113 rows × 4 columns</p>\n</div>"
     },
     "execution_count": 57,
     "metadata": {},
     "output_type": "execute_result"
    }
   ],
   "source": [
    "partition1"
   ],
   "metadata": {
    "collapsed": false,
    "ExecuteTime": {
     "end_time": "2025-03-15T04:27:12.004861Z",
     "start_time": "2025-03-15T04:27:11.920494Z"
    }
   },
   "id": "576ac8179b95d2ec"
  },
  {
   "cell_type": "code",
   "execution_count": 58,
   "outputs": [
    {
     "data": {
      "text/plain": "     comm_id                                               comm\n0          1  {YWRQWOGXY, 7Y4OK6WUE, AQ69R055Z, 6L185X52Y, D...\n1          2                                        {GRBZP9AMN}\n2          3                                        {X13HPGM1A}\n3          4                                        {5SXEP0WKI}\n4          5                                        {B1YGO6HY5}\n..       ...                                                ...\n104      105                                        {S8JIH40OC}\n105      106                                        {AU6WSDEUP}\n106      107                                        {2NSKWGEB8}\n107      108  {AZB66ZE59, YA54L81JN, HF6FBYY47, TER22Y23C, U...\n108      109                                        {8TPQ9WRR1}\n\n[109 rows x 2 columns]",
      "text/html": "<div>\n<style scoped>\n    .dataframe tbody tr th:only-of-type {\n        vertical-align: middle;\n    }\n\n    .dataframe tbody tr th {\n        vertical-align: top;\n    }\n\n    .dataframe thead th {\n        text-align: right;\n    }\n</style>\n<table border=\"1\" class=\"dataframe\">\n  <thead>\n    <tr style=\"text-align: right;\">\n      <th></th>\n      <th>comm_id</th>\n      <th>comm</th>\n    </tr>\n  </thead>\n  <tbody>\n    <tr>\n      <th>0</th>\n      <td>1</td>\n      <td>{YWRQWOGXY, 7Y4OK6WUE, AQ69R055Z, 6L185X52Y, D...</td>\n    </tr>\n    <tr>\n      <th>1</th>\n      <td>2</td>\n      <td>{GRBZP9AMN}</td>\n    </tr>\n    <tr>\n      <th>2</th>\n      <td>3</td>\n      <td>{X13HPGM1A}</td>\n    </tr>\n    <tr>\n      <th>3</th>\n      <td>4</td>\n      <td>{5SXEP0WKI}</td>\n    </tr>\n    <tr>\n      <th>4</th>\n      <td>5</td>\n      <td>{B1YGO6HY5}</td>\n    </tr>\n    <tr>\n      <th>...</th>\n      <td>...</td>\n      <td>...</td>\n    </tr>\n    <tr>\n      <th>104</th>\n      <td>105</td>\n      <td>{S8JIH40OC}</td>\n    </tr>\n    <tr>\n      <th>105</th>\n      <td>106</td>\n      <td>{AU6WSDEUP}</td>\n    </tr>\n    <tr>\n      <th>106</th>\n      <td>107</td>\n      <td>{2NSKWGEB8}</td>\n    </tr>\n    <tr>\n      <th>107</th>\n      <td>108</td>\n      <td>{AZB66ZE59, YA54L81JN, HF6FBYY47, TER22Y23C, U...</td>\n    </tr>\n    <tr>\n      <th>108</th>\n      <td>109</td>\n      <td>{8TPQ9WRR1}</td>\n    </tr>\n  </tbody>\n</table>\n<p>109 rows × 2 columns</p>\n</div>"
     },
     "execution_count": 58,
     "metadata": {},
     "output_type": "execute_result"
    }
   ],
   "source": [
    "partition2"
   ],
   "metadata": {
    "collapsed": false,
    "ExecuteTime": {
     "end_time": "2025-03-15T04:27:17.405062Z",
     "start_time": "2025-03-15T04:27:17.328455Z"
    }
   },
   "id": "3ad377ac2ca19a7e"
  },
  {
   "cell_type": "code",
   "execution_count": 59,
   "outputs": [],
   "source": [
    "partition2 = partition2.set_index('comm_id')\n"
   ],
   "metadata": {
    "collapsed": false,
    "ExecuteTime": {
     "end_time": "2025-03-15T04:27:24.364402Z",
     "start_time": "2025-03-15T04:27:24.296393Z"
    }
   },
   "id": "43d73e908bcac8d8"
  },
  {
   "cell_type": "code",
   "execution_count": 153,
   "outputs": [
    {
     "data": {
      "text/plain": "                                                      comm\ncomm_id                                                   \n1        {'MBVY8ZOXM', '8M8AMIVK1', '27FLMZ4FU', 'S1K1G...\n2        {'0SPFULQB2', 'XKAJ06NMX', 'LBTT9SRNJ', 'DYH3U...\n3        {'YOD8YZGSW', '5NWE9939I', 'JZ6Q6V0R5', 'T250B...\n4        {'XHULOFY37', '21WBF7ZRC', '55ZLDFLEC', 'FDNF8...\n5                  {'U95UK89JI', 'V6CEHJHO2', 'YWRQWOGXY'}\n...                                                    ...\n220      {'FVPISM9IW', '9N7FV77E0', 'HVDYNMC2W', 'W1VV8...\n221      {'L0AH57QDM', 'K24MFVA0C', 'UU7FP1N2N', 'NWVZW...\n222      {'T1DE1F1EQ', 'DQCQXJ95E', 'G19FYGBGX', '4MUO7...\n223      {'8BFHH12MB', 'C7P6UFCWU', 'K57QSFTDR', '0GWBO...\n224      {'TFI08FFRX', 'ICVX6ORN3', '4GZKRJA02', '65BPO...\n\n[224 rows x 1 columns]",
      "text/html": "<div>\n<style scoped>\n    .dataframe tbody tr th:only-of-type {\n        vertical-align: middle;\n    }\n\n    .dataframe tbody tr th {\n        vertical-align: top;\n    }\n\n    .dataframe thead th {\n        text-align: right;\n    }\n</style>\n<table border=\"1\" class=\"dataframe\">\n  <thead>\n    <tr style=\"text-align: right;\">\n      <th></th>\n      <th>comm</th>\n    </tr>\n    <tr>\n      <th>comm_id</th>\n      <th></th>\n    </tr>\n  </thead>\n  <tbody>\n    <tr>\n      <th>1</th>\n      <td>{'MBVY8ZOXM', '8M8AMIVK1', '27FLMZ4FU', 'S1K1G...</td>\n    </tr>\n    <tr>\n      <th>2</th>\n      <td>{'0SPFULQB2', 'XKAJ06NMX', 'LBTT9SRNJ', 'DYH3U...</td>\n    </tr>\n    <tr>\n      <th>3</th>\n      <td>{'YOD8YZGSW', '5NWE9939I', 'JZ6Q6V0R5', 'T250B...</td>\n    </tr>\n    <tr>\n      <th>4</th>\n      <td>{'XHULOFY37', '21WBF7ZRC', '55ZLDFLEC', 'FDNF8...</td>\n    </tr>\n    <tr>\n      <th>5</th>\n      <td>{'U95UK89JI', 'V6CEHJHO2', 'YWRQWOGXY'}</td>\n    </tr>\n    <tr>\n      <th>...</th>\n      <td>...</td>\n    </tr>\n    <tr>\n      <th>220</th>\n      <td>{'FVPISM9IW', '9N7FV77E0', 'HVDYNMC2W', 'W1VV8...</td>\n    </tr>\n    <tr>\n      <th>221</th>\n      <td>{'L0AH57QDM', 'K24MFVA0C', 'UU7FP1N2N', 'NWVZW...</td>\n    </tr>\n    <tr>\n      <th>222</th>\n      <td>{'T1DE1F1EQ', 'DQCQXJ95E', 'G19FYGBGX', '4MUO7...</td>\n    </tr>\n    <tr>\n      <th>223</th>\n      <td>{'8BFHH12MB', 'C7P6UFCWU', 'K57QSFTDR', '0GWBO...</td>\n    </tr>\n    <tr>\n      <th>224</th>\n      <td>{'TFI08FFRX', 'ICVX6ORN3', '4GZKRJA02', '65BPO...</td>\n    </tr>\n  </tbody>\n</table>\n<p>224 rows × 1 columns</p>\n</div>"
     },
     "execution_count": 153,
     "metadata": {},
     "output_type": "execute_result"
    }
   ],
   "source": [
    "partition2"
   ],
   "metadata": {
    "collapsed": false,
    "ExecuteTime": {
     "end_time": "2025-03-14T21:10:49.891060Z",
     "start_time": "2025-03-14T21:10:49.851217Z"
    }
   },
   "id": "e31ce75193f612aa"
  },
  {
   "cell_type": "code",
   "execution_count": 60,
   "outputs": [],
   "source": [
    "partition1 = partition1.set_index('comm_id')"
   ],
   "metadata": {
    "collapsed": false,
    "ExecuteTime": {
     "end_time": "2025-03-15T04:27:32.666866Z",
     "start_time": "2025-03-15T04:27:32.606119Z"
    }
   },
   "id": "cf3da9c19db720f4"
  },
  {
   "cell_type": "code",
   "execution_count": null,
   "outputs": [],
   "source": [],
   "metadata": {
    "collapsed": false
   },
   "id": "6d5a1b5b6c05bf00"
  },
  {
   "cell_type": "code",
   "execution_count": 62,
   "outputs": [
    {
     "data": {
      "text/plain": "            id     prediction\nxxx                          \nYWRQWOGXY    0    community 1\n7Y4OK6WUE    1    community 1\nAQ69R055Z    2    community 1\n6L185X52Y    3    community 1\nDS78QQXGW    4    community 1\n...        ...            ...\nHOGJPGIZZ  836  community 108\nYA54L81JN  837  community 108\nHF6FBYY47  838  community 108\n3JU9FAUU3  839  community 108\n8TPQ9WRR1  840  community 109\n\n[841 rows x 2 columns]",
      "text/html": "<div>\n<style scoped>\n    .dataframe tbody tr th:only-of-type {\n        vertical-align: middle;\n    }\n\n    .dataframe tbody tr th {\n        vertical-align: top;\n    }\n\n    .dataframe thead th {\n        text-align: right;\n    }\n</style>\n<table border=\"1\" class=\"dataframe\">\n  <thead>\n    <tr style=\"text-align: right;\">\n      <th></th>\n      <th>id</th>\n      <th>prediction</th>\n    </tr>\n    <tr>\n      <th>xxx</th>\n      <th></th>\n      <th></th>\n    </tr>\n  </thead>\n  <tbody>\n    <tr>\n      <th>YWRQWOGXY</th>\n      <td>0</td>\n      <td>community 1</td>\n    </tr>\n    <tr>\n      <th>7Y4OK6WUE</th>\n      <td>1</td>\n      <td>community 1</td>\n    </tr>\n    <tr>\n      <th>AQ69R055Z</th>\n      <td>2</td>\n      <td>community 1</td>\n    </tr>\n    <tr>\n      <th>6L185X52Y</th>\n      <td>3</td>\n      <td>community 1</td>\n    </tr>\n    <tr>\n      <th>DS78QQXGW</th>\n      <td>4</td>\n      <td>community 1</td>\n    </tr>\n    <tr>\n      <th>...</th>\n      <td>...</td>\n      <td>...</td>\n    </tr>\n    <tr>\n      <th>HOGJPGIZZ</th>\n      <td>836</td>\n      <td>community 108</td>\n    </tr>\n    <tr>\n      <th>YA54L81JN</th>\n      <td>837</td>\n      <td>community 108</td>\n    </tr>\n    <tr>\n      <th>HF6FBYY47</th>\n      <td>838</td>\n      <td>community 108</td>\n    </tr>\n    <tr>\n      <th>3JU9FAUU3</th>\n      <td>839</td>\n      <td>community 108</td>\n    </tr>\n    <tr>\n      <th>8TPQ9WRR1</th>\n      <td>840</td>\n      <td>community 109</td>\n    </tr>\n  </tbody>\n</table>\n<p>841 rows × 2 columns</p>\n</div>"
     },
     "execution_count": 62,
     "metadata": {},
     "output_type": "execute_result"
    }
   ],
   "source": [
    "output_prime_for_finding_community=pd.read_csv(\"/output_21 prime.csv\", index_col=\"xxx\")\n",
    "output_prime_for_finding_community"
   ],
   "metadata": {
    "collapsed": false,
    "ExecuteTime": {
     "end_time": "2025-03-15T04:28:02.422921Z",
     "start_time": "2025-03-15T04:28:02.084334Z"
    }
   },
   "id": "d855c15ef2b7f4f1"
  },
  {
   "cell_type": "code",
   "execution_count": 69,
   "outputs": [],
   "source": [
    "label_list = []\n",
    "nodes_list = []\n",
    "\n",
    "community_assignment={}\n",
    "label = 1\n",
    "\n",
    "for i in partition1.index:\n",
    "    #print(i)    \n",
    "    for nod in partition1.loc[i][\"comm\"]:\n",
    "        community_assignment[nod]=[\"community \" + str(i)] #str(i+1) is the comm id in csv file\n",
    " \n",
    "for i in partition1.index:\n",
    "        \n",
    "    if partition1.loc[i][\"Jaccard\"]!=1:\n",
    "        match_id_in2=partition1.loc[i][\"match_of_1_in_2\"]\n",
    "        if (len(partition1.loc[i][\"comm\"]))>(len(partition2.loc[match_id_in2][\"comm\"])):\n",
    "            for protein in partition1.loc[match_id_in2][\"comm\"]:\n",
    "                if protein not in partition2.loc[match_id_in2][\"comm\"]:  \n",
    "                    #check if protein exist in the other community set\n",
    "                    if protein in output_prime_for_finding_community.index:\n",
    "                        \n",
    "                        p2_comm_raw=output_prime_for_finding_community.loc[protein][\"prediction\"] #out put format : community 105\n",
    "                        #keep the number part\n",
    "                        p2_comm=int(p2_comm_raw.replace(\"community \",\"\"))\n",
    "                        #what does it match to in partiton 1\n",
    "                        try:\n",
    "                            matching_p1_comm=partition1.loc[partition1['match_of_1_in_2'] == p2_comm].index[0]\n",
    "                        except IndexError:\n",
    "                            pass\n",
    "                        #add it as another community for \"protein\"\n",
    "                        community_assignment[protein].append(\"community \" + str(matching_p1_comm))\n",
    "                        \n",
    "                    else:\n",
    "                        pass\n",
    "                          \n",
    "           \n",
    "            \n",
    "        if (len(partition1.loc[i][\"comm\"]))<(len(partition2.loc[match_id_in2][\"comm\"])):\n",
    "            for protein in partition2.loc[match_id_in2][\"comm\"]:\n",
    "                if protein not in partition1.loc[i][\"comm\"]:\n",
    "                    try:\n",
    "                        community_assignment[protein].append(\"community \" + str(i))\n",
    "                    except KeyError:\n",
    "                        pass\n",
    "                  \n",
    "            pass\n"
   ],
   "metadata": {
    "collapsed": false,
    "ExecuteTime": {
     "end_time": "2025-03-15T04:48:33.050869Z",
     "start_time": "2025-03-15T04:48:32.983298Z"
    }
   },
   "id": "cdd4ae3ff5d05243"
  },
  {
   "cell_type": "code",
   "execution_count": 70,
   "outputs": [
    {
     "data": {
      "text/plain": "841"
     },
     "execution_count": 70,
     "metadata": {},
     "output_type": "execute_result"
    }
   ],
   "source": [
    "len(community_assignment)"
   ],
   "metadata": {
    "collapsed": false,
    "ExecuteTime": {
     "end_time": "2025-03-15T04:48:39.997620Z",
     "start_time": "2025-03-15T04:48:39.732032Z"
    }
   },
   "id": "c3a5a08a69086b6"
  },
  {
   "cell_type": "code",
   "execution_count": 201,
   "outputs": [
    {
     "data": {
      "text/plain": "                                                      comm  match_of_1_in_2  \\\ncomm_id                                                                       \n1             {0SPFULQB2, XKAJ06NMX, DYH3UPRT6, LBTT9SRNJ}                2   \n2             {5NWE9939I, YOD8YZGSW, JZ6Q6V0R5, T250BTXXU}                3   \n3        {DBFCCYYS4, 5L4613R0F, Q37JRFXTW, K35JWESH7, 4...                8   \n4        {D3DJPOV8E, LUISMZKLL, PZNPQ46RS, 4KYDN84EO, 7...              114   \n5        {QLKMDFD8J, QJ5DSH3NY, PTIN3BKVO, VWYSAPVHO, A...              188   \n...                                                    ...              ...   \n220      {NWVZWPHGI, K24MFVA0C, UU7FP1N2N, XDJ0ZXD2Y, L...              221   \n221      {DZR84R00R, OFHM78QPM, 0NZC796D1, Q02MDGL7X, 0...              180   \n222      {45HJJTZOK, BEHVOEKQA, RGQG98XAC, 6JD23QDD9, 2...              187   \n223      {19FBZ40NF, TIPNQ27UW, 0PMUNN0JV, 188TL6NB1, I...               50   \n224      {KAVSQ04R4, T6E5VASGM, LMGZ9KFB9, 5IJT4U9ZD, B...              121   \n\n         Jaccard  \ncomm_id           \n1            1.0  \n2            1.0  \n3            1.0  \n4            0.8  \n5            1.0  \n...          ...  \n220          1.0  \n221          0.8  \n222          1.0  \n223          1.0  \n224          1.0  \n\n[224 rows x 3 columns]",
      "text/html": "<div>\n<style scoped>\n    .dataframe tbody tr th:only-of-type {\n        vertical-align: middle;\n    }\n\n    .dataframe tbody tr th {\n        vertical-align: top;\n    }\n\n    .dataframe thead th {\n        text-align: right;\n    }\n</style>\n<table border=\"1\" class=\"dataframe\">\n  <thead>\n    <tr style=\"text-align: right;\">\n      <th></th>\n      <th>comm</th>\n      <th>match_of_1_in_2</th>\n      <th>Jaccard</th>\n    </tr>\n    <tr>\n      <th>comm_id</th>\n      <th></th>\n      <th></th>\n      <th></th>\n    </tr>\n  </thead>\n  <tbody>\n    <tr>\n      <th>1</th>\n      <td>{0SPFULQB2, XKAJ06NMX, DYH3UPRT6, LBTT9SRNJ}</td>\n      <td>2</td>\n      <td>1.0</td>\n    </tr>\n    <tr>\n      <th>2</th>\n      <td>{5NWE9939I, YOD8YZGSW, JZ6Q6V0R5, T250BTXXU}</td>\n      <td>3</td>\n      <td>1.0</td>\n    </tr>\n    <tr>\n      <th>3</th>\n      <td>{DBFCCYYS4, 5L4613R0F, Q37JRFXTW, K35JWESH7, 4...</td>\n      <td>8</td>\n      <td>1.0</td>\n    </tr>\n    <tr>\n      <th>4</th>\n      <td>{D3DJPOV8E, LUISMZKLL, PZNPQ46RS, 4KYDN84EO, 7...</td>\n      <td>114</td>\n      <td>0.8</td>\n    </tr>\n    <tr>\n      <th>5</th>\n      <td>{QLKMDFD8J, QJ5DSH3NY, PTIN3BKVO, VWYSAPVHO, A...</td>\n      <td>188</td>\n      <td>1.0</td>\n    </tr>\n    <tr>\n      <th>...</th>\n      <td>...</td>\n      <td>...</td>\n      <td>...</td>\n    </tr>\n    <tr>\n      <th>220</th>\n      <td>{NWVZWPHGI, K24MFVA0C, UU7FP1N2N, XDJ0ZXD2Y, L...</td>\n      <td>221</td>\n      <td>1.0</td>\n    </tr>\n    <tr>\n      <th>221</th>\n      <td>{DZR84R00R, OFHM78QPM, 0NZC796D1, Q02MDGL7X, 0...</td>\n      <td>180</td>\n      <td>0.8</td>\n    </tr>\n    <tr>\n      <th>222</th>\n      <td>{45HJJTZOK, BEHVOEKQA, RGQG98XAC, 6JD23QDD9, 2...</td>\n      <td>187</td>\n      <td>1.0</td>\n    </tr>\n    <tr>\n      <th>223</th>\n      <td>{19FBZ40NF, TIPNQ27UW, 0PMUNN0JV, 188TL6NB1, I...</td>\n      <td>50</td>\n      <td>1.0</td>\n    </tr>\n    <tr>\n      <th>224</th>\n      <td>{KAVSQ04R4, T6E5VASGM, LMGZ9KFB9, 5IJT4U9ZD, B...</td>\n      <td>121</td>\n      <td>1.0</td>\n    </tr>\n  </tbody>\n</table>\n<p>224 rows × 3 columns</p>\n</div>"
     },
     "execution_count": 201,
     "metadata": {},
     "output_type": "execute_result"
    }
   ],
   "source": [
    "partition1"
   ],
   "metadata": {
    "collapsed": false,
    "ExecuteTime": {
     "end_time": "2025-03-15T00:27:00.700688Z",
     "start_time": "2025-03-15T00:27:00.541788Z"
    }
   },
   "id": "d372c32463690ba5"
  },
  {
   "cell_type": "code",
   "execution_count": 71,
   "outputs": [
    {
     "data": {
      "text/plain": "{'YWRQWOGXY': ['community 1'],\n '7Y4OK6WUE': ['community 1'],\n 'AQ69R055Z': ['community 1'],\n '6L185X52Y': ['community 1'],\n 'DS78QQXGW': ['community 1'],\n 'JE80YJ1IN': ['community 1'],\n 'VA4SXLLR5': ['community 1'],\n '7Q1COC0ZE': ['community 1'],\n 'DBP7NP5YE': ['community 1'],\n 'Q4JG9LJV1': ['community 1'],\n '9IIOSGCMD': ['community 1'],\n 'VPGEFD68Q': ['community 1'],\n 'OY6QMFL84': ['community 1'],\n 'YF41U5FY6': ['community 1'],\n '4WK5AWN01': ['community 1'],\n 'IXK1CISFX': ['community 1'],\n '7HHTPPF4Y': ['community 1'],\n '563I60QTS': ['community 1'],\n 'ZBLZIXJDM': ['community 1'],\n 'U95UK89JI': ['community 1'],\n '2TS5RQWDI': ['community 1'],\n 'WPCIJLU3N': ['community 1'],\n 'JNZ6OMRZO': ['community 1'],\n '35N5502MV': ['community 1'],\n '5TAREL6KW': ['community 1'],\n 'OBT4O2J17': ['community 1'],\n 'CSVH2PL9J': ['community 1'],\n '4GZKRJA02': ['community 1'],\n '5TWG6M09W': ['community 1'],\n '53TVZQWLY': ['community 1'],\n 'DWW5SV8NM': ['community 1'],\n 'ADMGIKK1Z': ['community 1'],\n 'HQX7RUCJH': ['community 1'],\n 'G1E1VI9PT': ['community 2'],\n 'X13HPGM1A': ['community 3'],\n 'J9W1YQQVX': ['community 4'],\n 'HXEDAYCK4': ['community 5', 'community 53'],\n 'DQGR15TYR': ['community 5', 'community 89'],\n '8P4EDJX9M': ['community 5', 'community 45', 'community 62'],\n 'Q5EHPLYEH': ['community 5', 'community 25'],\n 'EO4PZE0AL': ['community 5'],\n 'BE7XGNEPB': ['community 5', 'community 25'],\n '20CKF3ZWL': ['community 5', 'community 89'],\n 'RNFE2L77J': ['community 5', 'community 53'],\n '9JISZW2D3': ['community 5', 'community 45', 'community 62'],\n '88LHNKT82': ['community 5', 'community 45', 'community 62'],\n '5NWE9939I': ['community 5', 'community 45', 'community 62'],\n 'O4UQAQWKH': ['community 5', 'community 45', 'community 62'],\n 'ORGS022F3': ['community 5', 'community 25'],\n 'B216RPXJ7': ['community 5', 'community 45', 'community 62'],\n 'IIO55NSRS': ['community 5', 'community 25'],\n 'MEKD7VKBL': ['community 5', 'community 45', 'community 62'],\n '2Z2IKU9RE': ['community 5', 'community 89'],\n '7EOSTUJE2': ['community 6'],\n 'EMFURT241': ['community 7'],\n '3GJPR4QJK': ['community 8'],\n '8NAX0KMZL': ['community 9'],\n '9T5KNHU4E': ['community 10', 'community 10'],\n 'C7SAB7SNT': ['community 11'],\n 'ILFD302RC': ['community 12'],\n 'EUDIR1RMW': ['community 12'],\n '85GKX35QF': ['community 12'],\n '9DQ2WADQP': ['community 12'],\n 'H63E8IF3T': ['community 12'],\n 'XBZYWRJI0': ['community 12'],\n 'GXETTZVTV': ['community 12'],\n '282HYXY0Z': ['community 12'],\n '92HJ1N39X': ['community 12'],\n 'VQLA6L4E6': ['community 12'],\n 'J3B9JRMCQ': ['community 12'],\n 'P0AY216J3': ['community 12'],\n '6M16PPENP': ['community 13', 'community 13'],\n 'WDJZYI0Y6': ['community 14'],\n 'ZE04CY3OG': ['community 15'],\n 'ADMQFHZK2': ['community 16', 'community 16'],\n '2NSKWGEB8': ['community 17'],\n 'IGYQ0TFFJ': ['community 17'],\n '0TS3YTURI': ['community 18'],\n 'X9T27A6KS': ['community 18'],\n '0PS3UG706': ['community 18'],\n '356B3X6AX': ['community 18'],\n '8M0098QBY': ['community 18'],\n 'L8TOW6TNA': ['community 18'],\n '3AOMVJBWC': ['community 18'],\n 'M79RIKP8D': ['community 18'],\n 'OL4DZ8JZR': ['community 18'],\n 'A4NUZ22PL': ['community 18'],\n 'NRZO6E5PR': ['community 18'],\n 'CMUEVJW0P': ['community 18'],\n 'BCFIYP6KF': ['community 18'],\n '1GOFXT1OV': ['community 18'],\n 'WCCA61EH1': ['community 18'],\n '5BXYP93AX': ['community 18'],\n 'D9RBDIOL0': ['community 18'],\n 'LH6DFB5F6': ['community 18'],\n 'ZR7S7G4XE': ['community 18'],\n 'PNN04VV8I': ['community 19', 'community 71'],\n 'E4PALJWI4': ['community 20', 'community 24'],\n '4B6RV5N8W': ['community 20'],\n 'N6ITNW4PA': ['community 20', 'community 24'],\n 'PZ7V9JAXA': ['community 20'],\n 'QRRN7CSHX': ['community 20', 'community 22'],\n 'A8ZDJ5PDE': ['community 20'],\n 'YZ8KWNRK5': ['community 20'],\n 'ATAY2N4IY': ['community 20', 'community 24'],\n 'M9KTG9BP0': ['community 20'],\n 'CR4DLZ6DM': ['community 20', 'community 24'],\n 'D78KKG0TF': ['community 20', 'community 24'],\n '8DPCQY3O3': ['community 20', 'community 24'],\n '9AR0R3FV9': ['community 20', 'community 24'],\n 'MZV7A5KTQ': ['community 20'],\n 'GA45I7N1S': ['community 20', 'community 24'],\n '9N7FV77E0': ['community 20', 'community 21'],\n 'OSE9JC7KL': ['community 20', 'community 21'],\n 'SUO1FNYVL': ['community 20'],\n 'GLRGWFBWL': ['community 20'],\n 'LHLYUFCTU': ['community 20'],\n '3S2B35GDS': ['community 20'],\n '80XZVQD55': ['community 20'],\n 'ILCPGBT05': ['community 20', 'community 21'],\n 'T273G1Q6I': ['community 20', 'community 24'],\n 'K4P9SRW3A': ['community 20', 'community 21'],\n 'Y95FQN0II': ['community 20'],\n 'H9F0NUHZL': ['community 20', 'community 21'],\n 'ZEQ0VL9LO': ['community 20', 'community 21'],\n 'HW00BSNH2': ['community 20'],\n 'AY5XSBYCA': ['community 20', 'community 21'],\n 'MWXMABNZK': ['community 20', 'community 24'],\n '8M658OJUY': ['community 20', 'community 24'],\n 'J5MY1UZCZ': ['community 20', 'community 24'],\n 'XHXF5YXJE': ['community 20', 'community 21'],\n 'TEADIOMZH': ['community 20', 'community 24'],\n 'YGURXOOAR': ['community 20'],\n 'YAGZ4YXFN': ['community 20', 'community 21'],\n 'SHBB7UABV': ['community 20', 'community 21'],\n '6SGKV8V8U': ['community 20'],\n 'QPW71MW7T': ['community 20', 'community 24'],\n 'DF65JRUMD': ['community 20', 'community 24'],\n '94Y435G2Q': ['community 20', 'community 24'],\n 'SXSKUMS84': ['community 20'],\n 'AB50GU0I7': ['community 20', 'community 24'],\n '81Z5QZ9HC': ['community 20'],\n '8BIJBG28L': ['community 20', 'community 24'],\n '4NFGG35RI': ['community 20', 'community 21'],\n 'JRA8NQELS': ['community 20', 'community 24'],\n 'C1A6VHMXI': ['community 20'],\n 'JGE2HRFPU': ['community 21', 'community 21'],\n 'CRPUQ97OJ': ['community 21', 'community 21'],\n '4V329RJJQ': ['community 21', 'community 21'],\n 'EX3RN5RW3': ['community 21', 'community 53', 'community 53'],\n 'QLXZEGRSL': ['community 21', 'community 21'],\n 'FJUNS4X8V': ['community 21', 'community 21'],\n '0PMUNN0JV': ['community 21', 'community 21'],\n 'FBWRVYJTV': ['community 21', 'community 21'],\n 'IORN88PWY': ['community 21', 'community 21'],\n 'CMVG1CP88': ['community 21', 'community 21'],\n 'TD5GSWE30': ['community 21', 'community 21'],\n '40SNWBK5A': ['community 21', 'community 21'],\n '32XQH8YEQ': ['community 21', 'community 21'],\n '6NISA79S0': ['community 21', 'community 101', 'community 113'],\n 'IA09AYWK1': ['community 21', 'community 21'],\n 'P92KHSCR9': ['community 21', 'community 21'],\n 'ZWOG1G0E4': ['community 21', 'community 98', 'community 98'],\n '0W3X17NT9': ['community 21', 'community 21'],\n '1W6LJ9DT2': ['community 21', 'community 21'],\n 'C169GYLI7': ['community 21', 'community 21'],\n 'W1VNSW6KX': ['community 21', 'community 21'],\n '3H6LG8I9R': ['community 22'],\n '53AYU9YKY': ['community 22'],\n 'YV94FB1QZ': ['community 22'],\n 'RKCT07C4Y': ['community 22', 'community 21'],\n '2AD7RUBNV': ['community 22'],\n 'AWGC5SU5W': ['community 22'],\n 'KE0CSLK6N': ['community 22'],\n '2JIU81QBO': ['community 22'],\n 'RQCAYNN76': ['community 22'],\n '3U3JRVHSM': ['community 22'],\n 'PXE0DNS9F': ['community 22'],\n '2CXRAOMMR': ['community 22'],\n '8OOZT94SC': ['community 22'],\n 'QY8VOMWGS': ['community 22'],\n '09144M14F': ['community 22'],\n 'NPD8NBR6O': ['community 22'],\n 'DNHJI3YC7': ['community 22'],\n 'TRN942L56': ['community 22'],\n '6MXSGOUV1': ['community 23'],\n 'L6MHDE4QK': ['community 23'],\n 'MJW2G0JDF': ['community 23'],\n 'Y5KXCTNCC': ['community 23'],\n 'BY6CET79Y': ['community 23'],\n 'U20T1HOBI': ['community 23'],\n 'H02007F2P': ['community 23'],\n 'HZQZC0B4V': ['community 23'],\n 'NUGX79UF8': ['community 23'],\n 'HB5OY2IT3': ['community 23'],\n 'O94KZFED0': ['community 23'],\n 'MS0470NPU': ['community 23'],\n 'Q4KUCIVNO': ['community 23'],\n 'XX3HP5XZH': ['community 23'],\n 'MPI6QYLRO': ['community 23'],\n 'TRFTF4BO0': ['community 23'],\n '2X8WUM7WU': ['community 23'],\n 'URKNTTCHQ': ['community 23'],\n 'OR8882JPW': ['community 23'],\n '0QNEJ6921': ['community 23'],\n 'H1P772POB': ['community 23'],\n '0E8P6F42T': ['community 23'],\n 'FPH47KAPA': ['community 23'],\n 'OKKNXFVU3': ['community 23'],\n 'GD5JEBNLG': ['community 23'],\n '0LOFBXUAD': ['community 23'],\n 'TG1JUIHIT': ['community 23'],\n '3GRGFIRRE': ['community 24'],\n '3BHYBK3PE': ['community 24'],\n 'O0P2DXO1D': ['community 25'],\n 'LSWIEUH5F': ['community 25'],\n 'QV99CFKKN': ['community 25'],\n 'NZGS8524L': ['community 25'],\n 'W1LDR5U99': ['community 25'],\n 'ZNE8CX26J': ['community 25'],\n '75K6EWA63': ['community 25'],\n 'OWNVFSGEN': ['community 25'],\n '8WS3MV0OU': ['community 25'],\n 'B5I8ZG5HT': ['community 25'],\n 'N7XPCVVBV': ['community 25'],\n 'C4YJ2FZWX': ['community 25', 'community 21'],\n '2FJH5GHUO': ['community 25'],\n 'VAHRUDUJ6': ['community 26'],\n 'GPFHLUZOQ': ['community 27', 'community 27'],\n '9GORYNJUQ': ['community 27', 'community 27'],\n '6QFBAOK7W': ['community 27', 'community 98', 'community 98'],\n 'TH749UJX1': ['community 28', 'community 28'],\n 'H66AUDKPD': ['community 28', 'community 28'],\n '40V3VXC61': ['community 28', 'community 28'],\n '91EKDHH8W': ['community 28', 'community 28'],\n 'HT6R8TZVN': ['community 28', 'community 28'],\n 'WPP9ZOG5E': ['community 28', 'community 28'],\n '3FTBUMIFB': ['community 28', 'community 28'],\n 'LWJ5KRSFO': ['community 28', 'community 28'],\n 'YN8A37CFR': ['community 28', 'community 28'],\n 'P8FGL0H6D': ['community 28', 'community 28'],\n '5T8X4AEHT': ['community 28', 'community 28'],\n 'C7D87FBF8': ['community 28', 'community 28'],\n '1J2M5GPOX': ['community 28', 'community 28'],\n 'W3B739UFB': ['community 28', 'community 28'],\n 'ILPPF2Q5O': ['community 28', 'community 28'],\n 'INXWQHS6V': ['community 28', 'community 28'],\n '55YYXPY68': ['community 28', 'community 28'],\n 'J0RX9SBDE': ['community 28', 'community 28'],\n 'HX89G50GS': ['community 28', 'community 28'],\n '8LQBCSJW0': ['community 28', 'community 28'],\n 'QG3JVQ9GU': ['community 28', 'community 28'],\n 'KRGP4PXL9': ['community 28', 'community 28'],\n 'H6LGVLQGV': ['community 28', 'community 28'],\n 'WAN2SS5YD': ['community 28', 'community 28'],\n 'XYLU5VLWW': ['community 29'],\n 'BIPK5ZAR1': ['community 30'],\n 'VFUIAWE31': ['community 31', 'community 41'],\n '0P09TUI04': ['community 32'],\n 'FBUQXJ4SJ': ['community 33'],\n 'KYTIFAIAQ': ['community 34', 'community 82'],\n 'GRBZP9AMN': ['community 35'],\n '48G629OPD': ['community 36'],\n 'HEXIYT3HQ': ['community 36', 'community 24'],\n 'TDEV4PXK7': ['community 36'],\n 'WQD8F0OC3': ['community 36'],\n '5Y8J20547': ['community 36'],\n 'FZB0LZY0C': ['community 36'],\n 'E3D8DMUQ8': ['community 36'],\n 'IXX3IKOLV': ['community 36'],\n 'PAIE2YCZJ': ['community 36'],\n 'GKRC20GJD': ['community 36'],\n '52EEXN2DV': ['community 36'],\n 'ZB51RNYDZ': ['community 36'],\n 'ANV3SXQ4P': ['community 36'],\n 'ER2TROSSO': ['community 36'],\n 'OV9SDQUZX': ['community 36'],\n '9HC7101P7': ['community 36'],\n '0TQ8LVL6A': ['community 36'],\n '55DNOTPPG': ['community 36'],\n 'XMG240E95': ['community 36', 'community 24'],\n '8FLYHFAX2': ['community 36'],\n 'ND16QJ4X3': ['community 36'],\n 'SHF4EBY5K': ['community 36'],\n '2RA8MCQPG': ['community 36'],\n 'A7TW4V5CD': ['community 36'],\n 'EJVIWVZ5R': ['community 36'],\n 'M69GV4PBZ': ['community 36'],\n 'SN8IXBGNC': ['community 36'],\n 'E87HE5EWW': ['community 36'],\n '233S4VIJO': ['community 36'],\n 'CQ5MRTVRC': ['community 36'],\n 'YRBTIVKDS': ['community 36'],\n 'S79GK1YW1': ['community 36'],\n 'ZJ3Z5EF6F': ['community 36'],\n '6A808LLJM': ['community 36'],\n 'SXY37C8KJ': ['community 36'],\n 'BABD9B734': ['community 36'],\n 'BKS6SKZYM': ['community 36'],\n 'V26ELUPRX': ['community 36'],\n 'VCUF1DQ0X': ['community 36'],\n '1SIOSK3RQ': ['community 36'],\n 'BEFAMCMBL': ['community 36'],\n 'JQBGKP6W8': ['community 36'],\n '3674XT7SS': ['community 36'],\n 'CYPL6AY9G': ['community 36'],\n 'REM2E9E3X': ['community 36'],\n 'WQ4RMKEH8': ['community 36'],\n '0FZ4NDK1V': ['community 36'],\n 'P72N65WXO': ['community 36'],\n '7WEV0ZEB8': ['community 36'],\n '2IUMVXWR8': ['community 36'],\n 'QDXK2JS22': ['community 36'],\n 'E486I4H0T': ['community 36'],\n '1TIT6QD69': ['community 36'],\n 'PMYWGHUJG': ['community 36'],\n 'NL6GPHWMS': ['community 36'],\n 'GAWBPSFFD': ['community 36'],\n 'AE97CRRAR': ['community 36'],\n 'R2XGPA6X9': ['community 36'],\n 'B6FEXDXUO': ['community 36'],\n '0AI9JIZ2W': ['community 36'],\n 'AMZMVXFW8': ['community 36'],\n 'J20JO79EW': ['community 36'],\n 'P6OD3RGKS': ['community 36'],\n 'UY8PKVPO0': ['community 36'],\n '3ALH6OGW7': ['community 36'],\n '1522ZTYU2': ['community 36'],\n 'YH74W3DOQ': ['community 36'],\n '9WYECR5DV': ['community 36'],\n '4G7VWTPRJ': ['community 36'],\n '45AMGIS8L': ['community 36'],\n 'JWTKF61NC': ['community 36'],\n '100UDECF2': ['community 36'],\n '7MK1U2IF6': ['community 36'],\n 'K4XQI78Z2': ['community 36'],\n 'PYTKK0WJJ': ['community 36'],\n 'R4OO5FKFT': ['community 37'],\n 'VHSHC61I8': ['community 37'],\n '9WM21XO5C': ['community 37'],\n 'ZS91Y46I3': ['community 37'],\n 'P2X3RW4FP': ['community 37'],\n 'UU5Q37C1D': ['community 37'],\n 'WRXGWXBSN': ['community 37', 'community 53'],\n '0GX24IEE5': ['community 37', 'community 53'],\n '4AMC75PTB': ['community 37'],\n 'HFCIK3UXG': ['community 37', 'community 53'],\n '8VXQLFMEW': ['community 37'],\n 'IYMKO9LF4': ['community 37'],\n 'QZ6XT2PKV': ['community 37'],\n 'BNOOK6QGT': ['community 37'],\n 'E0JF2BQ8X': ['community 37'],\n 'PFBYZQV4E': ['community 38', 'community 44', 'community 44'],\n 'Z5LWLCLGQ': ['community 38', 'community 58', 'community 58'],\n '60I7H2B6D': ['community 38', 'community 58', 'community 58'],\n '437HR0O4H': ['community 38', 'community 53', 'community 53'],\n '7L2CBZMMZ': ['community 38', 'community 22', 'community 22'],\n 'YAGWP5YJB': ['community 38', 'community 38'],\n 'PJGEJG64N': ['community 38', 'community 1', 'community 1'],\n 'SZT4TDQDU': ['community 38', 'community 38'],\n 'QUTX8OZW3': ['community 38', 'community 80'],\n 'PVAK1RD6J': ['community 39', 'community 39'],\n 'B3O94VEPH': ['community 40'],\n 'BIAFRGAMC': ['community 40'],\n 'BHGZ9GJ6M': ['community 40', 'community 31', 'community 41'],\n 'DTKH8QTCA': ['community 40'],\n 'FVYHRK21K': ['community 40'],\n 'S112UXT5G': ['community 40', 'community 21'],\n '487Q5O8JW': ['community 40', 'community 21'],\n 'LBXY2XIQG': ['community 40'],\n 'R4G98WU41': ['community 40'],\n 'G32DNATLX': ['community 40'],\n 'VNB5K3HKO': ['community 40'],\n 'RVNP6KNO4': ['community 40'],\n 'FD34W9WKY': ['community 40'],\n 'COVZ4R0CO': ['community 40'],\n 'GTI2GZ6XF': ['community 40', 'community 31', 'community 41'],\n 'KMSV9L2XW': ['community 40', 'community 21'],\n 'TTBELUESF': ['community 40', 'community 21'],\n '5RGGF4TYL': ['community 40'],\n 'UQB9OT0OP': ['community 40'],\n 'M7TRE6B9L': ['community 40'],\n 'LMGZ9KFB9': ['community 40'],\n 'OQNZ7MT3K': ['community 40', 'community 21'],\n 'Q5USF5XSD': ['community 40'],\n '2MCBRC1DJ': ['community 40', 'community 21'],\n 'T500BIM8W': ['community 40'],\n '01L6VT7DN': ['community 40'],\n 'MET0LO2VH': ['community 40'],\n '7B3SHSNF3': ['community 40'],\n 'BVGVZAPY8': ['community 40'],\n 'XISFL3YUG': ['community 40', 'community 21'],\n '1Q3Q90SV2': ['community 40'],\n '2I9I6MHND': ['community 40', 'community 31', 'community 41'],\n 'B5LA7P290': ['community 40'],\n '3ABA286V3': ['community 40', 'community 24'],\n 'GFS6AK0LS': ['community 40'],\n 'O5YRQSNWR': ['community 41', 'community 31'],\n 'MLDCFFL0X': ['community 41'],\n 'LXYEB8KVT': ['community 41', 'community 31'],\n 'VEKCFL5VR': ['community 41', 'community 31'],\n 'N5UOS56KQ': ['community 41', 'community 31'],\n '960H3ORVN': ['community 41', 'community 31'],\n 'MKA8MAKIE': ['community 41', 'community 34', 'community 82'],\n '2Q87KTVG0': ['community 42'],\n 'L4G6AVLHK': ['community 42'],\n 'S1MK0KQ5O': ['community 42'],\n '9JZRKJWQF': ['community 42'],\n 'BZY2PLVEA': ['community 42'],\n 'IEOR1SXLA': ['community 42'],\n 'L08ZG932H': ['community 42'],\n 'S4GLOFWWO': ['community 42'],\n 'OCVZ3I5SI': ['community 42'],\n 'EV8EY8E26': ['community 42'],\n 'RX3AOHSHS': ['community 42'],\n '45JAJQR0T': ['community 42'],\n '7HPYSOOLT': ['community 42'],\n 'SU3FHIVRL': ['community 42'],\n '4N9A32TWT': ['community 42'],\n '4Z3W2RMJG': ['community 42'],\n '1O7GLLIT8': ['community 42'],\n 'RQH6LZ1DN': ['community 42'],\n '1S6ZLSGJS': ['community 42'],\n '184Q1P3KK': ['community 42'],\n 'O893081J5': ['community 42', 'community 1'],\n 'JVE1OMBAJ': ['community 42'],\n 'L2D8CUCVK': ['community 42'],\n '6PNOSRLW5': ['community 42'],\n '5NJUNEM55': ['community 42'],\n 'K0SFSG83G': ['community 42'],\n '5SW2OYSDM': ['community 42'],\n '62E6KTMYD': ['community 42'],\n 'T4H5XJDSA': ['community 42'],\n 'S8P71RGIF': ['community 42'],\n 'HIX8J8CW5': ['community 42'],\n '8WYV44HVQ': ['community 42'],\n 'TXINM8RH6': ['community 43'],\n '2PDBI37G1': ['community 44'],\n 'QW3NRQD61': ['community 45', 'community 34', 'community 82'],\n '0X5BKRSLA': ['community 45', 'community 5', 'community 62'],\n 'ZB4E0WLFM': ['community 45', 'community 5', 'community 62'],\n 'ZFAS23QLR': ['community 45', 'community 5', 'community 62'],\n 'FKOJPWUQE': ['community 45', 'community 5', 'community 62'],\n 'AMM053W06': ['community 45'],\n '7259I6NCQ': ['community 45', 'community 5', 'community 62'],\n '50RTA78XQ': ['community 45', 'community 5', 'community 62'],\n 'QCG6FU21M': ['community 45', 'community 5', 'community 62'],\n 'AKZF7OC2N': ['community 45', 'community 5', 'community 62'],\n 'MSTMHYBD5': ['community 45', 'community 5', 'community 62'],\n 'P89UNXKHE': ['community 45', 'community 5', 'community 62'],\n 'S8JIH40OC': ['community 46'],\n 'P9T3GAF6P': ['community 47', 'community 47'],\n '8R9PYNMQ2': ['community 48'],\n 'MO4PZXJ8Y': ['community 49', 'community 80'],\n 'PAA49EBGO': ['community 49', 'community 80'],\n 'QRJX9T4KM': ['community 49', 'community 101', 'community 113'],\n '5JXUMYW6W': ['community 49', 'community 30', 'community 30'],\n 'LJ3POS60G': ['community 49', 'community 30', 'community 30'],\n '37O1U32LI': ['community 49', 'community 30'],\n '94J6OKYJ2': ['community 49', 'community 30', 'community 30'],\n 'XWK2BVVNJ': ['community 49', 'community 30', 'community 30'],\n 'DHMYPMCDU': ['community 49', 'community 30'],\n 'M3K3G0HHX': ['community 49', 'community 21', 'community 21'],\n 'PIKAQ0438': ['community 49', 'community 30', 'community 30'],\n 'MUF93AH55': ['community 49', 'community 76'],\n '86RUBRW9F': ['community 49', 'community 19', 'community 19', 'community 71'],\n 'VY1IQK701': ['community 49', 'community 80'],\n '1BZG1KE0Y': ['community 50'],\n '4E4S5QF2T': ['community 51', 'community 51'],\n 'ZRE65F504': ['community 51', 'community 51'],\n 'BPS1XI2OD': ['community 52'],\n '0RTFSIQT0': ['community 53'],\n '1USVWBEQM': ['community 53'],\n 'V11DSNP45': ['community 53'],\n 'EOZ9R1YE2': ['community 53'],\n 'AQDRAUC0Y': ['community 53'],\n 'J8ZVMAM1F': ['community 53'],\n '52TXJZGR3': ['community 53'],\n 'KTQQXTMCE': ['community 53'],\n 'JUHO9C7TO': ['community 53'],\n '22SF7NNU2': ['community 53'],\n 'HYHKBYFA8': ['community 53'],\n '5IHJMBG5D': ['community 53'],\n 'V3CIRS933': ['community 53'],\n 'UA9ALMGUE': ['community 53'],\n 'EUG4PK2AG': ['community 53'],\n '93QYQUHI9': ['community 53'],\n 'DZR84R00R': ['community 53'],\n 'PQSETLS5J': ['community 53'],\n '25SR1WIMW': ['community 53', 'community 58'],\n 'RX2001QL6': ['community 53'],\n 'FCEBA6IMH': ['community 54'],\n 'R0OENM5B3': ['community 54'],\n '0WBE8JFIW': ['community 54'],\n 'Q5K7GGHPN': ['community 54'],\n 'NCSKL2DYQ': ['community 54'],\n 'K5PYKHSK7': ['community 54'],\n '5M75UPLYH': ['community 54'],\n 'QFH3715U1': ['community 54'],\n '2K2C2KVHE': ['community 54'],\n 'OSVG1CERG': ['community 54'],\n 'HU5LTUPUB': ['community 54'],\n 'URMJB1TG3': ['community 54'],\n 'HR2U9KPW6': ['community 54'],\n 'F0AKTDLH4': ['community 54'],\n 'DN6XW72NA': ['community 54'],\n 'PEBQG1VOE': ['community 54'],\n 'BTUIX6VOW': ['community 54'],\n 'DPYSN7JLN': ['community 54', 'community 98'],\n 'VELHKTP64': ['community 54'],\n 'MRP5VAJJ0': ['community 54'],\n 'QFRSR06RO': ['community 54'],\n 'TSD65RCZ5': ['community 54'],\n 'FTQS4WZEI': ['community 54'],\n 'IO819H46B': ['community 54'],\n 'GJFNQHU5H': ['community 54'],\n '7F5W3F1OX': ['community 54'],\n 'NGRC0OTK8': ['community 54'],\n 'T2MKQ79FV': ['community 54'],\n '57V1M5M89': ['community 54'],\n 'PCMZEMW5O': ['community 54'],\n 'FUM1OK9W6': ['community 54'],\n 'C9USI74UA': ['community 54'],\n 'JRQANLB7T': ['community 54'],\n 'CG3WLRJAX': ['community 54'],\n 'XKAJ06NMX': ['community 54'],\n '28QNVWHGS': ['community 54'],\n 'FOEYL5VB8': ['community 54'],\n 'FWVCCCNHW': ['community 54'],\n '0EHOVL3F8': ['community 54'],\n 'H10VP2ZJO': ['community 54'],\n 'XE32R4ZCI': ['community 54'],\n 'RDCR8K03W': ['community 54'],\n 'CH1K8ER54': ['community 54'],\n 'Y1ALZ9RCA': ['community 54'],\n 'ZIT8LJPOQ': ['community 54'],\n 'BX48GOZDP': ['community 54'],\n '2OOGRPW7I': ['community 54'],\n '8U6UQDQIY': ['community 54'],\n 'VK0D7KPVG': ['community 54'],\n 'R0JDVT05C': ['community 54'],\n 'VITI6YYG5': ['community 54'],\n 'M5YB4H9ZB': ['community 55', 'community 55'],\n '4R2EL15QS': ['community 56'],\n '3FX5CP8G6': ['community 57'],\n '2DU54AUSC': ['community 57', 'community 51'],\n 'P8P954GXN': ['community 58'],\n 'K1VC9HHNU': ['community 58', 'community 34', 'community 82'],\n '8YROK63YG': ['community 58'],\n 'YGWF8BZ0Q': ['community 58'],\n 'L3NG1JIPA': ['community 58', 'community 34', 'community 82'],\n '455ENEIP0': ['community 58'],\n 'EPKWQTJCD': ['community 59'],\n 'BGUFELJ2L': ['community 60'],\n 'OE8J8D5YU': ['community 61'],\n '37NA61AAI': ['community 62', 'community 5', 'community 45', 'community 5'],\n 'LVMT8UTVW': ['community 63', 'community 5'],\n 'EJGLSR732': ['community 63', 'community 65', 'community 63'],\n '6XP6OZKZ8': ['community 63', 'community 65', 'community 63'],\n 'SQXMNVXC6': ['community 63', 'community 63'],\n 'L2TT1DM9J': ['community 64', 'community 63', 'community 65'],\n 'O3Q8VAY4F': ['community 64'],\n 'J2QRFW5I1': ['community 65', 'community 63'],\n 'M9FLOWVQ1': ['community 66', 'community 44'],\n 'XF2SW6SXA': ['community 66', 'community 44'],\n '71K8MDKF5': ['community 66', 'community 44'],\n 'E0UZQH1FW': ['community 66', 'community 19', 'community 71'],\n '0RETU2IQZ': ['community 66', 'community 19', 'community 71'],\n 'X6YXGOANF': ['community 66', 'community 44'],\n 'LDPU5ODDE': ['community 66', 'community 44'],\n 'CEQXULY5U': ['community 66', 'community 19', 'community 71'],\n 'YQHW5JB3S': ['community 66', 'community 44'],\n 'QKQCHAJWK': ['community 66', 'community 19', 'community 71'],\n '4KNM7U86A': ['community 66', 'community 44'],\n '58QFP6IBB': ['community 66', 'community 44'],\n 'CY6V88Q8U': ['community 66', 'community 44'],\n '79IK65LHE': ['community 66', 'community 44'],\n 'KVI9WUCXC': ['community 66', 'community 19', 'community 71'],\n '2AV2BWNYL': ['community 67'],\n 'LDN37CDIQ': ['community 67'],\n 'SERJEBNAH': ['community 67', 'community 31', 'community 41'],\n 'A9D8K3P9O': ['community 67', 'community 1'],\n 'LF4ZASO36': ['community 67'],\n 'I8IUF9O21': ['community 67'],\n 'GBE0U6T83': ['community 67'],\n 'SF5Z8M52N': ['community 67'],\n '0WVP8I17C': ['community 67'],\n 'W7RKGQI1V': ['community 67'],\n 'N1WEK9H71': ['community 67', 'community 53'],\n 'P2TZRS49C': ['community 68'],\n 'F7O7JP657': ['community 69', 'community 69'],\n 'AU6WSDEUP': ['community 70'],\n 'EC8NO2K6T': ['community 71', 'community 19'],\n '4QOGQBU7G': ['community 71', 'community 19'],\n 'BV2HR57AJ': ['community 71', 'community 19'],\n 'MYI6H8VUT': ['community 71', 'community 19'],\n 'B5SVURC6I': ['community 71', 'community 12'],\n 'ZRMCEEM8Q': ['community 71', 'community 19'],\n '21QW58OKO': ['community 71', 'community 1'],\n 'LUYUP9ZCK': ['community 71', 'community 19'],\n 'L9A2UBMV1': ['community 71', 'community 19'],\n 'ASB70JT03': ['community 71', 'community 19'],\n 'M4DXAGNGQ': ['community 71', 'community 19'],\n 'J8PANKDB0': ['community 71', 'community 19'],\n 'JCOEU04X6': ['community 71', 'community 19'],\n 'GZ8IPL53J': ['community 72'],\n '860H86ITI': ['community 72'],\n '66BZIVHMQ': ['community 72'],\n 'MN78V0SH2': ['community 72'],\n '2CWQPKMAH': ['community 72'],\n 'XF21U000I': ['community 72'],\n 'AGQEHUNRX': ['community 72'],\n 'LN842KM7D': ['community 72'],\n 'Y3GJF5Y41': ['community 72'],\n 'CXMGWAJYV': ['community 72'],\n 'M22UJGYIL': ['community 72'],\n 'V7NKL671S': ['community 72'],\n 'W0IY378IE': ['community 72'],\n 'AZXLPGDE6': ['community 72'],\n 'GXDRJ4TRK': ['community 72'],\n '4JXE6A4NR': ['community 72'],\n '55ZO4CT0N': ['community 72'],\n 'PJ1PMZKCG': ['community 72', 'community 21'],\n 'Z6Q11HCQY': ['community 72'],\n 'O6R9BU1AE': ['community 72'],\n 'GHC4Y3U9D': ['community 72'],\n 'ISJRFYV8V': ['community 72'],\n '8WWQYBOF3': ['community 72'],\n '14DU9AMYQ': ['community 72'],\n 'PSVL9IGP4': ['community 72'],\n '02OAXUDJX': ['community 72'],\n '0SN4HYKQJ': ['community 72'],\n 'R6G3W05BD': ['community 73'],\n 'FMNC45UG6': ['community 74'],\n 'EA87RASFM': ['community 74'],\n 'YPJSQB1NK': ['community 74'],\n 'DWSBVSYS1': ['community 75'],\n 'W4NLROMOW': ['community 76'],\n 'ORTU9035E': ['community 76'],\n 'VXGFRB5WD': ['community 76'],\n '2U1M5T5WK': ['community 76'],\n '1FV2F2834': ['community 76', 'community 98'],\n 'TIEIGUGDF': ['community 76', 'community 98'],\n 'SH5MDSJ4N': ['community 76', 'community 98'],\n '5MROBRYMU': ['community 76'],\n '1GCK8TU9H': ['community 76'],\n 'VSJ3PM8SE': ['community 76', 'community 98'],\n 'U7H3YXT6R': ['community 76'],\n 'TU1SLMR17': ['community 76', 'community 98'],\n 'TINFYIC7L': ['community 76'],\n 'Z0OFIRP1B': ['community 76'],\n 'I4FY2TL2Y': ['community 76'],\n '62J7MXC2B': ['community 76', 'community 21'],\n '4KYDN84EO': ['community 76', 'community 98'],\n '014RTH812': ['community 76', 'community 1'],\n '2C6KNA6EJ': ['community 76'],\n 'EA6BCEMKX': ['community 76'],\n 'BXUZHRY8G': ['community 76', 'community 21'],\n 'JK4AAAKB3': ['community 76'],\n 'WOSNKWG1Y': ['community 76'],\n 'EY3KP5F01': ['community 76'],\n 'EPWNLZUIU': ['community 76', 'community 98'],\n 'G67UHNIAU': ['community 76'],\n '914Y0S91B': ['community 76', 'community 98'],\n 'FGJMKVP9H': ['community 76'],\n '0B82D7G57': ['community 76', 'community 98'],\n '1G7S047H0': ['community 76', 'community 98'],\n '8H70N2069': ['community 76', 'community 98'],\n 'TIYJAIXHO': ['community 76'],\n 'J6T3XR6FN': ['community 76', 'community 98'],\n 'JXYPTWNMF': ['community 76'],\n 'ZU6DIC1W4': ['community 76'],\n 'LBMB0NC3A': ['community 76'],\n '90XHISVT2': ['community 76', 'community 98'],\n '9J8PQZ17Q': ['community 76', 'community 98'],\n 'J4GN0JLOP': ['community 76', 'community 98'],\n 'Q494N6FBH': ['community 76'],\n 'LFZF5Q57M': ['community 76', 'community 98'],\n 'LCAR4C2AC': ['community 76'],\n 'IDCSB0YRL': ['community 76'],\n 'TMV0ASWC5': ['community 77', 'community 51', 'community 51'],\n 'W962SS9B7': ['community 77', 'community 51', 'community 51'],\n 'LD5XLTHUG': ['community 77', 'community 63', 'community 63', 'community 65'],\n '5KJWNAY41': ['community 77', 'community 51', 'community 51'],\n 'ICVX6ORN3': ['community 77', 'community 51', 'community 51'],\n '2NSKJRKBR': ['community 77', 'community 51', 'community 51'],\n '93QRG8MC3': ['community 77', 'community 51', 'community 51'],\n '8G5ES3JED': ['community 77', 'community 51', 'community 51'],\n 'MT2RHGD80': ['community 77', 'community 51'],\n 'USZWE3AUZ': ['community 77', 'community 63', 'community 63', 'community 65'],\n 'E2QJKN6TN': ['community 77', 'community 63'],\n 'Y1THA71IK': ['community 78', 'community 63', 'community 65'],\n 'VVFAM0N2S': ['community 78'],\n 'VTAK1OW52': ['community 78'],\n '7TR6A1MX5': ['community 78'],\n 'CDBZE0LTM': ['community 78', 'community 63', 'community 65'],\n 'Q5MSSH44F': ['community 78', 'community 63', 'community 65'],\n 'KIEBJRDDM': ['community 79'],\n 'JG27BNM5H': ['community 80'],\n 'N53884DUO': ['community 80', 'community 53'],\n '97TTMR49G': ['community 80', 'community 53'],\n 'SRDPEWS6T': ['community 80'],\n '5L4613R0F': ['community 80', 'community 53'],\n 'PRM8V76R3': ['community 80', 'community 53'],\n '2KHI20P5A': ['community 80'],\n 'F6P8CZ5UF': ['community 80'],\n 'B971G4H6S': ['community 80'],\n '52UMYZ0AQ': ['community 80'],\n 'U6QXRAPBY': ['community 80'],\n '6FY7WQAZ0': ['community 80'],\n 'UZFZPNAGD': ['community 80', 'community 53'],\n 'Q6J70EUF3': ['community 80'],\n 'LRV44BD5W': ['community 80', 'community 53'],\n '8SSABDSF2': ['community 80', 'community 25'],\n 'V3Y242ECC': ['community 80', 'community 53'],\n 'SCE3X6T4Z': ['community 80', 'community 53'],\n 'VF0A5M8KL': ['community 80'],\n 'CPDDFKY5G': ['community 80'],\n 'B6QVWTDA9': ['community 80', 'community 98'],\n 'EWT67SH1S': ['community 80'],\n 'QLKMDFD8J': ['community 80', 'community 53'],\n 'KOBD1ACGV': ['community 80'],\n 'C5TY8KO0M': ['community 81', 'community 81'],\n 'RW9XKYP0A': ['community 82', 'community 34'],\n '1UHQXTIZH': ['community 82'],\n 'B1YGO6HY5': ['community 83'],\n 'HYDRDQX13': ['community 84', 'community 60', 'community 60'],\n 'RTAM4EG9S': ['community 84', 'community 84'],\n 'N2YG5HP59': ['community 85'],\n '5CCZ5W2PG': ['community 86', 'community 86'],\n '8A69AAWEV': ['community 87'],\n 'INY4B5OPF': ['community 88'],\n 'V9GHUVRBU': ['community 89'],\n 'UCSE57GD7': ['community 90', 'community 90'],\n 'D8QAFWQOD': ['community 91'],\n 'RW533BDLF': ['community 92'],\n 'VY1DWBJ4I': ['community 93', 'community 96'],\n 'NRKTLCX24': ['community 93', 'community 96'],\n 'WQN2R7MUX': ['community 93', 'community 96'],\n '53SUYI9JV': ['community 93', 'community 96'],\n 'MWX6VP7YQ': ['community 93', 'community 96'],\n '63POERV3P': ['community 93'],\n 'B8RBE7THP': ['community 93', 'community 96'],\n 'GPBMDFOBB': ['community 93'],\n 'JUX1BZ6HY': ['community 93', 'community 96'],\n 'BQ1BYKOC5': ['community 93', 'community 96'],\n 'RN0P2YXM8': ['community 93', 'community 96'],\n 'LUQFI5EOG': ['community 93', 'community 96'],\n '9ICALHNP4': ['community 93', 'community 96'],\n 'J1W8M52IQ': ['community 93', 'community 96'],\n 'K1MBWILKR': ['community 94'],\n 'DXLP0Y284': ['community 95'],\n '438YCL6BW': ['community 96', 'community 31', 'community 41'],\n 'RDCY4GQ21': ['community 96', 'community 93'],\n '1XY85SCY9': ['community 96', 'community 34', 'community 82'],\n 'LKA554BEI': ['community 96', 'community 31', 'community 41'],\n 'RYXCO0OU2': ['community 96', 'community 30'],\n 'J8R1TIFOU': ['community 96', 'community 93'],\n '4BJMEMKZK': ['community 96'],\n 'MN97P3QRD': ['community 96', 'community 93'],\n 'H9Y1CT6IB': ['community 97', 'community 97'],\n 'E2XXBG9SD': ['community 98'],\n '8ZNO8BIHL': ['community 98'],\n 'Q7AE33JY2': ['community 98', 'community 12'],\n 'AGONNB8P1': ['community 98'],\n 'B5N64H8ZF': ['community 98', 'community 12'],\n 'GCP8I5V5Z': ['community 98', 'community 53'],\n 'DTWBKR22K': ['community 98'],\n '2AS1JDWNN': ['community 98', 'community 53'],\n 'HK5RA8VN2': ['community 98'],\n 'C6KG77TQ4': ['community 98'],\n '7J5OVVBUS': ['community 98', 'community 53'],\n 'T6NO95PQV': ['community 98'],\n 'VVVGYCKIM': ['community 98', 'community 12'],\n 'YA54L81JN': ['community 98'],\n 'BUOA5O63N': ['community 98', 'community 53'],\n 'RPSQ8IK5A': ['community 98'],\n 'LFNL8U9MD': ['community 98', 'community 12'],\n 'KU8W4234J': ['community 98'],\n '7PL28AX8V': ['community 98'],\n 'OSMTKUZHP': ['community 98', 'community 22'],\n 'WA7J07X2J': ['community 98', 'community 12'],\n 'ZMG62TFTN': ['community 98'],\n 'AZAQ6AU88': ['community 98'],\n '2FSSRVL3Y': ['community 98'],\n 'Q3YYEHNL1': ['community 98'],\n '7BHS5LCJG': ['community 98', 'community 53'],\n 'SR0LO6B6O': ['community 98'],\n 'H3BSKLPG3': ['community 98', 'community 58'],\n 'JHU69XW38': ['community 98'],\n 'XATC2NQYV': ['community 98'],\n 'HJL9II3CK': ['community 98', 'community 12'],\n 'ZJNR277W0': ['community 98'],\n '4Y9506OEQ': ['community 98'],\n 'XX4GJRQPR': ['community 99', 'community 63', 'community 65'],\n 'AZB66ZE59': ['community 99'],\n 'U5O7QSXSB': ['community 99'],\n 'IJZWVEFQV': ['community 99', 'community 63', 'community 65'],\n 'HF6FBYY47': ['community 99'],\n 'U8EMJ67QR': ['community 99'],\n 'HOGJPGIZZ': ['community 99'],\n '3JU9FAUU3': ['community 99'],\n 'S5PMWAB4V': ['community 100'],\n 'C0GNKM5PH': ['community 101', 'community 21'],\n '7LLKQZUAR': ['community 101'],\n 'X7PXMKK58': ['community 101', 'community 113'],\n 'N07YB249X': ['community 101', 'community 21'],\n '8TPQ9WRR1': ['community 102'],\n '5SXEP0WKI': ['community 103', 'community 103'],\n 'YQSX2SZ4A': ['community 104'],\n '2N3JT554R': ['community 104'],\n 'NZBH2GA0C': ['community 104'],\n 'PT3P8SXJY': ['community 104'],\n 'LEQ02URM2': ['community 104'],\n 'MGVWP8JXP': ['community 104'],\n 'ITHGU8SBT': ['community 105'],\n 'W4EFPUG6F': ['community 106'],\n 'YXSWVY18V': ['community 106', 'community 60'],\n 'LCWGFSO4L': ['community 106'],\n 'TER22Y23C': ['community 106'],\n '1WUGH0AHU': ['community 106'],\n 'HCCKRGJ5X': ['community 106'],\n '29VY3IBY8': ['community 107', 'community 107'],\n '1VULI5G25': ['community 108', 'community 108'],\n 'R2T87O3FO': ['community 109'],\n 'J5XGQ0VWB': ['community 110'],\n 'G4DG2KL3W': ['community 111'],\n 'KCHOBK8DZ': ['community 111'],\n 'H8C8V4AOO': ['community 111'],\n 'XO2IP210Q': ['community 111'],\n 'BI906IJ6Y': ['community 111'],\n '68VVPRF5O': ['community 111'],\n 'NGBS4GB0H': ['community 111'],\n '75RAEPRC3': ['community 111'],\n '0NX5HBGSX': ['community 111'],\n 'IZ2NNPL1R': ['community 111'],\n '854ZOA1HA': ['community 111'],\n 'CFSFIH899': ['community 111', 'community 98'],\n 'CBL5VF3IL': ['community 111'],\n 'KFFYJ83IG': ['community 112'],\n '7CPMP6BDN': ['community 113']}"
     },
     "execution_count": 71,
     "metadata": {},
     "output_type": "execute_result"
    }
   ],
   "source": [
    "community_assignment"
   ],
   "metadata": {
    "collapsed": false,
    "ExecuteTime": {
     "end_time": "2025-03-15T04:48:54.107414Z",
     "start_time": "2025-03-15T04:48:54.058482Z"
    }
   },
   "id": "281cb9395c6aed96"
  },
  {
   "cell_type": "code",
   "execution_count": 72,
   "outputs": [
    {
     "data": {
      "text/plain": "841"
     },
     "execution_count": 72,
     "metadata": {},
     "output_type": "execute_result"
    }
   ],
   "source": [
    "len(community_assignment)"
   ],
   "metadata": {
    "collapsed": false,
    "ExecuteTime": {
     "end_time": "2025-03-15T04:49:00.321322Z",
     "start_time": "2025-03-15T04:49:00.223244Z"
    }
   },
   "id": "a26d61aa322917a3"
  },
  {
   "cell_type": "code",
   "execution_count": 73,
   "outputs": [
    {
     "name": "stdout",
     "output_type": "stream",
     "text": [
      "HXEDAYCK4\n",
      "['community 5', 'community 53']\n",
      "DQGR15TYR\n",
      "['community 5', 'community 89']\n",
      "8P4EDJX9M\n",
      "['community 5', 'community 45', 'community 62']\n",
      "Q5EHPLYEH\n",
      "['community 5', 'community 25']\n",
      "BE7XGNEPB\n",
      "['community 5', 'community 25']\n",
      "20CKF3ZWL\n",
      "['community 5', 'community 89']\n",
      "RNFE2L77J\n",
      "['community 5', 'community 53']\n",
      "9JISZW2D3\n",
      "['community 5', 'community 45', 'community 62']\n",
      "88LHNKT82\n",
      "['community 5', 'community 45', 'community 62']\n",
      "5NWE9939I\n",
      "['community 5', 'community 45', 'community 62']\n",
      "O4UQAQWKH\n",
      "['community 5', 'community 45', 'community 62']\n",
      "ORGS022F3\n",
      "['community 5', 'community 25']\n",
      "B216RPXJ7\n",
      "['community 5', 'community 45', 'community 62']\n",
      "IIO55NSRS\n",
      "['community 5', 'community 25']\n",
      "MEKD7VKBL\n",
      "['community 5', 'community 45', 'community 62']\n",
      "2Z2IKU9RE\n",
      "['community 5', 'community 89']\n",
      "9T5KNHU4E\n",
      "['community 10', 'community 10']\n",
      "6M16PPENP\n",
      "['community 13', 'community 13']\n",
      "ADMQFHZK2\n",
      "['community 16', 'community 16']\n",
      "PNN04VV8I\n",
      "['community 19', 'community 71']\n",
      "E4PALJWI4\n",
      "['community 20', 'community 24']\n",
      "N6ITNW4PA\n",
      "['community 20', 'community 24']\n",
      "QRRN7CSHX\n",
      "['community 20', 'community 22']\n",
      "ATAY2N4IY\n",
      "['community 20', 'community 24']\n",
      "CR4DLZ6DM\n",
      "['community 20', 'community 24']\n",
      "D78KKG0TF\n",
      "['community 20', 'community 24']\n",
      "8DPCQY3O3\n",
      "['community 20', 'community 24']\n",
      "9AR0R3FV9\n",
      "['community 20', 'community 24']\n",
      "GA45I7N1S\n",
      "['community 20', 'community 24']\n",
      "9N7FV77E0\n",
      "['community 20', 'community 21']\n",
      "OSE9JC7KL\n",
      "['community 20', 'community 21']\n",
      "ILCPGBT05\n",
      "['community 20', 'community 21']\n",
      "T273G1Q6I\n",
      "['community 20', 'community 24']\n",
      "K4P9SRW3A\n",
      "['community 20', 'community 21']\n",
      "H9F0NUHZL\n",
      "['community 20', 'community 21']\n",
      "ZEQ0VL9LO\n",
      "['community 20', 'community 21']\n",
      "AY5XSBYCA\n",
      "['community 20', 'community 21']\n",
      "MWXMABNZK\n",
      "['community 20', 'community 24']\n",
      "8M658OJUY\n",
      "['community 20', 'community 24']\n",
      "J5MY1UZCZ\n",
      "['community 20', 'community 24']\n",
      "XHXF5YXJE\n",
      "['community 20', 'community 21']\n",
      "TEADIOMZH\n",
      "['community 20', 'community 24']\n",
      "YAGZ4YXFN\n",
      "['community 20', 'community 21']\n",
      "SHBB7UABV\n",
      "['community 20', 'community 21']\n",
      "QPW71MW7T\n",
      "['community 20', 'community 24']\n",
      "DF65JRUMD\n",
      "['community 20', 'community 24']\n",
      "94Y435G2Q\n",
      "['community 20', 'community 24']\n",
      "AB50GU0I7\n",
      "['community 20', 'community 24']\n",
      "8BIJBG28L\n",
      "['community 20', 'community 24']\n",
      "4NFGG35RI\n",
      "['community 20', 'community 21']\n",
      "JRA8NQELS\n",
      "['community 20', 'community 24']\n",
      "JGE2HRFPU\n",
      "['community 21', 'community 21']\n",
      "CRPUQ97OJ\n",
      "['community 21', 'community 21']\n",
      "4V329RJJQ\n",
      "['community 21', 'community 21']\n",
      "EX3RN5RW3\n",
      "['community 21', 'community 53', 'community 53']\n",
      "QLXZEGRSL\n",
      "['community 21', 'community 21']\n",
      "FJUNS4X8V\n",
      "['community 21', 'community 21']\n",
      "0PMUNN0JV\n",
      "['community 21', 'community 21']\n",
      "FBWRVYJTV\n",
      "['community 21', 'community 21']\n",
      "IORN88PWY\n",
      "['community 21', 'community 21']\n",
      "CMVG1CP88\n",
      "['community 21', 'community 21']\n",
      "TD5GSWE30\n",
      "['community 21', 'community 21']\n",
      "40SNWBK5A\n",
      "['community 21', 'community 21']\n",
      "32XQH8YEQ\n",
      "['community 21', 'community 21']\n",
      "6NISA79S0\n",
      "['community 21', 'community 101', 'community 113']\n",
      "IA09AYWK1\n",
      "['community 21', 'community 21']\n",
      "P92KHSCR9\n",
      "['community 21', 'community 21']\n",
      "ZWOG1G0E4\n",
      "['community 21', 'community 98', 'community 98']\n",
      "0W3X17NT9\n",
      "['community 21', 'community 21']\n",
      "1W6LJ9DT2\n",
      "['community 21', 'community 21']\n",
      "C169GYLI7\n",
      "['community 21', 'community 21']\n",
      "W1VNSW6KX\n",
      "['community 21', 'community 21']\n",
      "RKCT07C4Y\n",
      "['community 22', 'community 21']\n",
      "C4YJ2FZWX\n",
      "['community 25', 'community 21']\n",
      "GPFHLUZOQ\n",
      "['community 27', 'community 27']\n",
      "9GORYNJUQ\n",
      "['community 27', 'community 27']\n",
      "6QFBAOK7W\n",
      "['community 27', 'community 98', 'community 98']\n",
      "TH749UJX1\n",
      "['community 28', 'community 28']\n",
      "H66AUDKPD\n",
      "['community 28', 'community 28']\n",
      "40V3VXC61\n",
      "['community 28', 'community 28']\n",
      "91EKDHH8W\n",
      "['community 28', 'community 28']\n",
      "HT6R8TZVN\n",
      "['community 28', 'community 28']\n",
      "WPP9ZOG5E\n",
      "['community 28', 'community 28']\n",
      "3FTBUMIFB\n",
      "['community 28', 'community 28']\n",
      "LWJ5KRSFO\n",
      "['community 28', 'community 28']\n",
      "YN8A37CFR\n",
      "['community 28', 'community 28']\n",
      "P8FGL0H6D\n",
      "['community 28', 'community 28']\n",
      "5T8X4AEHT\n",
      "['community 28', 'community 28']\n",
      "C7D87FBF8\n",
      "['community 28', 'community 28']\n",
      "1J2M5GPOX\n",
      "['community 28', 'community 28']\n",
      "W3B739UFB\n",
      "['community 28', 'community 28']\n",
      "ILPPF2Q5O\n",
      "['community 28', 'community 28']\n",
      "INXWQHS6V\n",
      "['community 28', 'community 28']\n",
      "55YYXPY68\n",
      "['community 28', 'community 28']\n",
      "J0RX9SBDE\n",
      "['community 28', 'community 28']\n",
      "HX89G50GS\n",
      "['community 28', 'community 28']\n",
      "8LQBCSJW0\n",
      "['community 28', 'community 28']\n",
      "QG3JVQ9GU\n",
      "['community 28', 'community 28']\n",
      "KRGP4PXL9\n",
      "['community 28', 'community 28']\n",
      "H6LGVLQGV\n",
      "['community 28', 'community 28']\n",
      "WAN2SS5YD\n",
      "['community 28', 'community 28']\n",
      "VFUIAWE31\n",
      "['community 31', 'community 41']\n",
      "KYTIFAIAQ\n",
      "['community 34', 'community 82']\n",
      "HEXIYT3HQ\n",
      "['community 36', 'community 24']\n",
      "XMG240E95\n",
      "['community 36', 'community 24']\n",
      "WRXGWXBSN\n",
      "['community 37', 'community 53']\n",
      "0GX24IEE5\n",
      "['community 37', 'community 53']\n",
      "HFCIK3UXG\n",
      "['community 37', 'community 53']\n",
      "PFBYZQV4E\n",
      "['community 38', 'community 44', 'community 44']\n",
      "Z5LWLCLGQ\n",
      "['community 38', 'community 58', 'community 58']\n",
      "60I7H2B6D\n",
      "['community 38', 'community 58', 'community 58']\n",
      "437HR0O4H\n",
      "['community 38', 'community 53', 'community 53']\n",
      "7L2CBZMMZ\n",
      "['community 38', 'community 22', 'community 22']\n",
      "YAGWP5YJB\n",
      "['community 38', 'community 38']\n",
      "PJGEJG64N\n",
      "['community 38', 'community 1', 'community 1']\n",
      "SZT4TDQDU\n",
      "['community 38', 'community 38']\n",
      "QUTX8OZW3\n",
      "['community 38', 'community 80']\n",
      "PVAK1RD6J\n",
      "['community 39', 'community 39']\n",
      "BHGZ9GJ6M\n",
      "['community 40', 'community 31', 'community 41']\n",
      "S112UXT5G\n",
      "['community 40', 'community 21']\n",
      "487Q5O8JW\n",
      "['community 40', 'community 21']\n",
      "GTI2GZ6XF\n",
      "['community 40', 'community 31', 'community 41']\n",
      "KMSV9L2XW\n",
      "['community 40', 'community 21']\n",
      "TTBELUESF\n",
      "['community 40', 'community 21']\n",
      "OQNZ7MT3K\n",
      "['community 40', 'community 21']\n",
      "2MCBRC1DJ\n",
      "['community 40', 'community 21']\n",
      "XISFL3YUG\n",
      "['community 40', 'community 21']\n",
      "2I9I6MHND\n",
      "['community 40', 'community 31', 'community 41']\n",
      "3ABA286V3\n",
      "['community 40', 'community 24']\n",
      "O5YRQSNWR\n",
      "['community 41', 'community 31']\n",
      "LXYEB8KVT\n",
      "['community 41', 'community 31']\n",
      "VEKCFL5VR\n",
      "['community 41', 'community 31']\n",
      "N5UOS56KQ\n",
      "['community 41', 'community 31']\n",
      "960H3ORVN\n",
      "['community 41', 'community 31']\n",
      "MKA8MAKIE\n",
      "['community 41', 'community 34', 'community 82']\n",
      "O893081J5\n",
      "['community 42', 'community 1']\n",
      "QW3NRQD61\n",
      "['community 45', 'community 34', 'community 82']\n",
      "0X5BKRSLA\n",
      "['community 45', 'community 5', 'community 62']\n",
      "ZB4E0WLFM\n",
      "['community 45', 'community 5', 'community 62']\n",
      "ZFAS23QLR\n",
      "['community 45', 'community 5', 'community 62']\n",
      "FKOJPWUQE\n",
      "['community 45', 'community 5', 'community 62']\n",
      "7259I6NCQ\n",
      "['community 45', 'community 5', 'community 62']\n",
      "50RTA78XQ\n",
      "['community 45', 'community 5', 'community 62']\n",
      "QCG6FU21M\n",
      "['community 45', 'community 5', 'community 62']\n",
      "AKZF7OC2N\n",
      "['community 45', 'community 5', 'community 62']\n",
      "MSTMHYBD5\n",
      "['community 45', 'community 5', 'community 62']\n",
      "P89UNXKHE\n",
      "['community 45', 'community 5', 'community 62']\n",
      "P9T3GAF6P\n",
      "['community 47', 'community 47']\n",
      "MO4PZXJ8Y\n",
      "['community 49', 'community 80']\n",
      "PAA49EBGO\n",
      "['community 49', 'community 80']\n",
      "QRJX9T4KM\n",
      "['community 49', 'community 101', 'community 113']\n",
      "5JXUMYW6W\n",
      "['community 49', 'community 30', 'community 30']\n",
      "LJ3POS60G\n",
      "['community 49', 'community 30', 'community 30']\n",
      "37O1U32LI\n",
      "['community 49', 'community 30']\n",
      "94J6OKYJ2\n",
      "['community 49', 'community 30', 'community 30']\n",
      "XWK2BVVNJ\n",
      "['community 49', 'community 30', 'community 30']\n",
      "DHMYPMCDU\n",
      "['community 49', 'community 30']\n",
      "M3K3G0HHX\n",
      "['community 49', 'community 21', 'community 21']\n",
      "PIKAQ0438\n",
      "['community 49', 'community 30', 'community 30']\n",
      "MUF93AH55\n",
      "['community 49', 'community 76']\n",
      "86RUBRW9F\n",
      "['community 49', 'community 19', 'community 19', 'community 71']\n",
      "VY1IQK701\n",
      "['community 49', 'community 80']\n",
      "4E4S5QF2T\n",
      "['community 51', 'community 51']\n",
      "ZRE65F504\n",
      "['community 51', 'community 51']\n",
      "25SR1WIMW\n",
      "['community 53', 'community 58']\n",
      "DPYSN7JLN\n",
      "['community 54', 'community 98']\n",
      "M5YB4H9ZB\n",
      "['community 55', 'community 55']\n",
      "2DU54AUSC\n",
      "['community 57', 'community 51']\n",
      "K1VC9HHNU\n",
      "['community 58', 'community 34', 'community 82']\n",
      "L3NG1JIPA\n",
      "['community 58', 'community 34', 'community 82']\n",
      "37NA61AAI\n",
      "['community 62', 'community 5', 'community 45', 'community 5']\n",
      "LVMT8UTVW\n",
      "['community 63', 'community 5']\n",
      "EJGLSR732\n",
      "['community 63', 'community 65', 'community 63']\n",
      "6XP6OZKZ8\n",
      "['community 63', 'community 65', 'community 63']\n",
      "SQXMNVXC6\n",
      "['community 63', 'community 63']\n",
      "L2TT1DM9J\n",
      "['community 64', 'community 63', 'community 65']\n",
      "J2QRFW5I1\n",
      "['community 65', 'community 63']\n",
      "M9FLOWVQ1\n",
      "['community 66', 'community 44']\n",
      "XF2SW6SXA\n",
      "['community 66', 'community 44']\n",
      "71K8MDKF5\n",
      "['community 66', 'community 44']\n",
      "E0UZQH1FW\n",
      "['community 66', 'community 19', 'community 71']\n",
      "0RETU2IQZ\n",
      "['community 66', 'community 19', 'community 71']\n",
      "X6YXGOANF\n",
      "['community 66', 'community 44']\n",
      "LDPU5ODDE\n",
      "['community 66', 'community 44']\n",
      "CEQXULY5U\n",
      "['community 66', 'community 19', 'community 71']\n",
      "YQHW5JB3S\n",
      "['community 66', 'community 44']\n",
      "QKQCHAJWK\n",
      "['community 66', 'community 19', 'community 71']\n",
      "4KNM7U86A\n",
      "['community 66', 'community 44']\n",
      "58QFP6IBB\n",
      "['community 66', 'community 44']\n",
      "CY6V88Q8U\n",
      "['community 66', 'community 44']\n",
      "79IK65LHE\n",
      "['community 66', 'community 44']\n",
      "KVI9WUCXC\n",
      "['community 66', 'community 19', 'community 71']\n",
      "SERJEBNAH\n",
      "['community 67', 'community 31', 'community 41']\n",
      "A9D8K3P9O\n",
      "['community 67', 'community 1']\n",
      "N1WEK9H71\n",
      "['community 67', 'community 53']\n",
      "F7O7JP657\n",
      "['community 69', 'community 69']\n",
      "EC8NO2K6T\n",
      "['community 71', 'community 19']\n",
      "4QOGQBU7G\n",
      "['community 71', 'community 19']\n",
      "BV2HR57AJ\n",
      "['community 71', 'community 19']\n",
      "MYI6H8VUT\n",
      "['community 71', 'community 19']\n",
      "B5SVURC6I\n",
      "['community 71', 'community 12']\n",
      "ZRMCEEM8Q\n",
      "['community 71', 'community 19']\n",
      "21QW58OKO\n",
      "['community 71', 'community 1']\n",
      "LUYUP9ZCK\n",
      "['community 71', 'community 19']\n",
      "L9A2UBMV1\n",
      "['community 71', 'community 19']\n",
      "ASB70JT03\n",
      "['community 71', 'community 19']\n",
      "M4DXAGNGQ\n",
      "['community 71', 'community 19']\n",
      "J8PANKDB0\n",
      "['community 71', 'community 19']\n",
      "JCOEU04X6\n",
      "['community 71', 'community 19']\n",
      "PJ1PMZKCG\n",
      "['community 72', 'community 21']\n",
      "1FV2F2834\n",
      "['community 76', 'community 98']\n",
      "TIEIGUGDF\n",
      "['community 76', 'community 98']\n",
      "SH5MDSJ4N\n",
      "['community 76', 'community 98']\n",
      "VSJ3PM8SE\n",
      "['community 76', 'community 98']\n",
      "TU1SLMR17\n",
      "['community 76', 'community 98']\n",
      "62J7MXC2B\n",
      "['community 76', 'community 21']\n",
      "4KYDN84EO\n",
      "['community 76', 'community 98']\n",
      "014RTH812\n",
      "['community 76', 'community 1']\n",
      "BXUZHRY8G\n",
      "['community 76', 'community 21']\n",
      "EPWNLZUIU\n",
      "['community 76', 'community 98']\n",
      "914Y0S91B\n",
      "['community 76', 'community 98']\n",
      "0B82D7G57\n",
      "['community 76', 'community 98']\n",
      "1G7S047H0\n",
      "['community 76', 'community 98']\n",
      "8H70N2069\n",
      "['community 76', 'community 98']\n",
      "J6T3XR6FN\n",
      "['community 76', 'community 98']\n",
      "90XHISVT2\n",
      "['community 76', 'community 98']\n",
      "9J8PQZ17Q\n",
      "['community 76', 'community 98']\n",
      "J4GN0JLOP\n",
      "['community 76', 'community 98']\n",
      "LFZF5Q57M\n",
      "['community 76', 'community 98']\n",
      "TMV0ASWC5\n",
      "['community 77', 'community 51', 'community 51']\n",
      "W962SS9B7\n",
      "['community 77', 'community 51', 'community 51']\n",
      "LD5XLTHUG\n",
      "['community 77', 'community 63', 'community 63', 'community 65']\n",
      "5KJWNAY41\n",
      "['community 77', 'community 51', 'community 51']\n",
      "ICVX6ORN3\n",
      "['community 77', 'community 51', 'community 51']\n",
      "2NSKJRKBR\n",
      "['community 77', 'community 51', 'community 51']\n",
      "93QRG8MC3\n",
      "['community 77', 'community 51', 'community 51']\n",
      "8G5ES3JED\n",
      "['community 77', 'community 51', 'community 51']\n",
      "MT2RHGD80\n",
      "['community 77', 'community 51']\n",
      "USZWE3AUZ\n",
      "['community 77', 'community 63', 'community 63', 'community 65']\n",
      "E2QJKN6TN\n",
      "['community 77', 'community 63']\n",
      "Y1THA71IK\n",
      "['community 78', 'community 63', 'community 65']\n",
      "CDBZE0LTM\n",
      "['community 78', 'community 63', 'community 65']\n",
      "Q5MSSH44F\n",
      "['community 78', 'community 63', 'community 65']\n",
      "N53884DUO\n",
      "['community 80', 'community 53']\n",
      "97TTMR49G\n",
      "['community 80', 'community 53']\n",
      "5L4613R0F\n",
      "['community 80', 'community 53']\n",
      "PRM8V76R3\n",
      "['community 80', 'community 53']\n",
      "UZFZPNAGD\n",
      "['community 80', 'community 53']\n",
      "LRV44BD5W\n",
      "['community 80', 'community 53']\n",
      "8SSABDSF2\n",
      "['community 80', 'community 25']\n",
      "V3Y242ECC\n",
      "['community 80', 'community 53']\n",
      "SCE3X6T4Z\n",
      "['community 80', 'community 53']\n",
      "B6QVWTDA9\n",
      "['community 80', 'community 98']\n",
      "QLKMDFD8J\n",
      "['community 80', 'community 53']\n",
      "C5TY8KO0M\n",
      "['community 81', 'community 81']\n",
      "RW9XKYP0A\n",
      "['community 82', 'community 34']\n",
      "HYDRDQX13\n",
      "['community 84', 'community 60', 'community 60']\n",
      "RTAM4EG9S\n",
      "['community 84', 'community 84']\n",
      "5CCZ5W2PG\n",
      "['community 86', 'community 86']\n",
      "UCSE57GD7\n",
      "['community 90', 'community 90']\n",
      "VY1DWBJ4I\n",
      "['community 93', 'community 96']\n",
      "NRKTLCX24\n",
      "['community 93', 'community 96']\n",
      "WQN2R7MUX\n",
      "['community 93', 'community 96']\n",
      "53SUYI9JV\n",
      "['community 93', 'community 96']\n",
      "MWX6VP7YQ\n",
      "['community 93', 'community 96']\n",
      "B8RBE7THP\n",
      "['community 93', 'community 96']\n",
      "JUX1BZ6HY\n",
      "['community 93', 'community 96']\n",
      "BQ1BYKOC5\n",
      "['community 93', 'community 96']\n",
      "RN0P2YXM8\n",
      "['community 93', 'community 96']\n",
      "LUQFI5EOG\n",
      "['community 93', 'community 96']\n",
      "9ICALHNP4\n",
      "['community 93', 'community 96']\n",
      "J1W8M52IQ\n",
      "['community 93', 'community 96']\n",
      "438YCL6BW\n",
      "['community 96', 'community 31', 'community 41']\n",
      "RDCY4GQ21\n",
      "['community 96', 'community 93']\n",
      "1XY85SCY9\n",
      "['community 96', 'community 34', 'community 82']\n",
      "LKA554BEI\n",
      "['community 96', 'community 31', 'community 41']\n",
      "RYXCO0OU2\n",
      "['community 96', 'community 30']\n",
      "J8R1TIFOU\n",
      "['community 96', 'community 93']\n",
      "MN97P3QRD\n",
      "['community 96', 'community 93']\n",
      "H9Y1CT6IB\n",
      "['community 97', 'community 97']\n",
      "Q7AE33JY2\n",
      "['community 98', 'community 12']\n",
      "B5N64H8ZF\n",
      "['community 98', 'community 12']\n",
      "GCP8I5V5Z\n",
      "['community 98', 'community 53']\n",
      "2AS1JDWNN\n",
      "['community 98', 'community 53']\n",
      "7J5OVVBUS\n",
      "['community 98', 'community 53']\n",
      "VVVGYCKIM\n",
      "['community 98', 'community 12']\n",
      "BUOA5O63N\n",
      "['community 98', 'community 53']\n",
      "LFNL8U9MD\n",
      "['community 98', 'community 12']\n",
      "OSMTKUZHP\n",
      "['community 98', 'community 22']\n",
      "WA7J07X2J\n",
      "['community 98', 'community 12']\n",
      "7BHS5LCJG\n",
      "['community 98', 'community 53']\n",
      "H3BSKLPG3\n",
      "['community 98', 'community 58']\n",
      "HJL9II3CK\n",
      "['community 98', 'community 12']\n",
      "XX4GJRQPR\n",
      "['community 99', 'community 63', 'community 65']\n",
      "IJZWVEFQV\n",
      "['community 99', 'community 63', 'community 65']\n",
      "C0GNKM5PH\n",
      "['community 101', 'community 21']\n",
      "X7PXMKK58\n",
      "['community 101', 'community 113']\n",
      "N07YB249X\n",
      "['community 101', 'community 21']\n",
      "5SXEP0WKI\n",
      "['community 103', 'community 103']\n",
      "YXSWVY18V\n",
      "['community 106', 'community 60']\n",
      "29VY3IBY8\n",
      "['community 107', 'community 107']\n",
      "1VULI5G25\n",
      "['community 108', 'community 108']\n",
      "CFSFIH899\n",
      "['community 111', 'community 98']\n"
     ]
    }
   ],
   "source": [
    "com_size = []\n",
    "ones = 0\n",
    "for prn,community in community_assignment.items():\n",
    "    com_size.append(len(community))\n",
    "    if len(community) > 1:\n",
    "        print(prn)\n",
    "        print(community)\n",
    "        ones += 1\n"
   ],
   "metadata": {
    "collapsed": false,
    "ExecuteTime": {
     "end_time": "2025-03-15T04:49:06.183087Z",
     "start_time": "2025-03-15T04:49:06.117422Z"
    }
   },
   "id": "1d45537097a9c959"
  },
  {
   "cell_type": "code",
   "execution_count": 230,
   "outputs": [
    {
     "data": {
      "text/plain": "2"
     },
     "execution_count": 230,
     "metadata": {},
     "output_type": "execute_result"
    }
   ],
   "source": [
    "max(com_size)"
   ],
   "metadata": {
    "collapsed": false,
    "ExecuteTime": {
     "end_time": "2025-03-15T00:53:22.068255Z",
     "start_time": "2025-03-15T00:53:21.991941Z"
    }
   },
   "id": "249b0c02d7b1a8a2"
  },
  {
   "cell_type": "code",
   "execution_count": 93,
   "outputs": [
    {
     "data": {
      "text/plain": "Text(0.5, 1.0, 'ditribution of the number of communities assigned to each node')"
     },
     "execution_count": 93,
     "metadata": {},
     "output_type": "execute_result"
    },
    {
     "data": {
      "text/plain": "<Figure size 640x480 with 1 Axes>",
      "image/png": "[encoded data removed]"
     },
     "metadata": {},
     "output_type": "display_data"
    }
   ],
   "source": [
    "plt.hist(com_size,color=\"green\")\n",
    "plt.xlabel(\"number of community\")\n",
    "plt.ylabel(\"Frequency\")\n",
    "plt.title(\"ditribution of the number of communities assigned to each node\")\n",
    "# this is not community size, its ditribution of how many comms are assigned to each node"
   ],
   "metadata": {
    "collapsed": false,
    "ExecuteTime": {
     "end_time": "2025-03-18T18:55:20.668792Z",
     "start_time": "2025-03-18T18:55:20.482960Z"
    }
   },
   "id": "9de754fe4ea65dbc"
  },
  {
   "cell_type": "code",
   "execution_count": 75,
   "outputs": [],
   "source": [
    "label_list=[]\n",
    "nodes_list=[]\n",
    "\n",
    "for prt,community in community_assignment.items():\n",
    "    while community!=[]:\n",
    "        nodes_list.append(prt)\n",
    "        label_list.append(community[0])\n",
    "        community.pop(0)"
   ],
   "metadata": {
    "collapsed": false,
    "ExecuteTime": {
     "end_time": "2025-03-15T04:50:22.426720Z",
     "start_time": "2025-03-15T04:50:22.351605Z"
    }
   },
   "id": "62821ae4d7419c72"
  },
  {
   "cell_type": "code",
   "execution_count": 76,
   "outputs": [
    {
     "data": {
      "text/plain": "['community 1',\n 'community 1',\n 'community 1',\n 'community 1',\n 'community 1',\n 'community 1',\n 'community 1',\n 'community 1',\n 'community 1',\n 'community 1',\n 'community 1',\n 'community 1',\n 'community 1',\n 'community 1',\n 'community 1',\n 'community 1',\n 'community 1',\n 'community 1',\n 'community 1',\n 'community 1',\n 'community 1',\n 'community 1',\n 'community 1',\n 'community 1',\n 'community 1',\n 'community 1',\n 'community 1',\n 'community 1',\n 'community 1',\n 'community 1',\n 'community 1',\n 'community 1',\n 'community 1',\n 'community 2',\n 'community 3',\n 'community 4',\n 'community 5',\n 'community 53',\n 'community 5',\n 'community 89',\n 'community 5',\n 'community 45',\n 'community 62',\n 'community 5',\n 'community 25',\n 'community 5',\n 'community 5',\n 'community 25',\n 'community 5',\n 'community 89',\n 'community 5',\n 'community 53',\n 'community 5',\n 'community 45',\n 'community 62',\n 'community 5',\n 'community 45',\n 'community 62',\n 'community 5',\n 'community 45',\n 'community 62',\n 'community 5',\n 'community 45',\n 'community 62',\n 'community 5',\n 'community 25',\n 'community 5',\n 'community 45',\n 'community 62',\n 'community 5',\n 'community 25',\n 'community 5',\n 'community 45',\n 'community 62',\n 'community 5',\n 'community 89',\n 'community 6',\n 'community 7',\n 'community 8',\n 'community 9',\n 'community 10',\n 'community 10',\n 'community 11',\n 'community 12',\n 'community 12',\n 'community 12',\n 'community 12',\n 'community 12',\n 'community 12',\n 'community 12',\n 'community 12',\n 'community 12',\n 'community 12',\n 'community 12',\n 'community 12',\n 'community 13',\n 'community 13',\n 'community 14',\n 'community 15',\n 'community 16',\n 'community 16',\n 'community 17',\n 'community 17',\n 'community 18',\n 'community 18',\n 'community 18',\n 'community 18',\n 'community 18',\n 'community 18',\n 'community 18',\n 'community 18',\n 'community 18',\n 'community 18',\n 'community 18',\n 'community 18',\n 'community 18',\n 'community 18',\n 'community 18',\n 'community 18',\n 'community 18',\n 'community 18',\n 'community 18',\n 'community 19',\n 'community 71',\n 'community 20',\n 'community 24',\n 'community 20',\n 'community 20',\n 'community 24',\n 'community 20',\n 'community 20',\n 'community 22',\n 'community 20',\n 'community 20',\n 'community 20',\n 'community 24',\n 'community 20',\n 'community 20',\n 'community 24',\n 'community 20',\n 'community 24',\n 'community 20',\n 'community 24',\n 'community 20',\n 'community 24',\n 'community 20',\n 'community 20',\n 'community 24',\n 'community 20',\n 'community 21',\n 'community 20',\n 'community 21',\n 'community 20',\n 'community 20',\n 'community 20',\n 'community 20',\n 'community 20',\n 'community 20',\n 'community 21',\n 'community 20',\n 'community 24',\n 'community 20',\n 'community 21',\n 'community 20',\n 'community 20',\n 'community 21',\n 'community 20',\n 'community 21',\n 'community 20',\n 'community 20',\n 'community 21',\n 'community 20',\n 'community 24',\n 'community 20',\n 'community 24',\n 'community 20',\n 'community 24',\n 'community 20',\n 'community 21',\n 'community 20',\n 'community 24',\n 'community 20',\n 'community 20',\n 'community 21',\n 'community 20',\n 'community 21',\n 'community 20',\n 'community 20',\n 'community 24',\n 'community 20',\n 'community 24',\n 'community 20',\n 'community 24',\n 'community 20',\n 'community 20',\n 'community 24',\n 'community 20',\n 'community 20',\n 'community 24',\n 'community 20',\n 'community 21',\n 'community 20',\n 'community 24',\n 'community 20',\n 'community 21',\n 'community 21',\n 'community 21',\n 'community 21',\n 'community 21',\n 'community 21',\n 'community 21',\n 'community 53',\n 'community 53',\n 'community 21',\n 'community 21',\n 'community 21',\n 'community 21',\n 'community 21',\n 'community 21',\n 'community 21',\n 'community 21',\n 'community 21',\n 'community 21',\n 'community 21',\n 'community 21',\n 'community 21',\n 'community 21',\n 'community 21',\n 'community 21',\n 'community 21',\n 'community 21',\n 'community 21',\n 'community 101',\n 'community 113',\n 'community 21',\n 'community 21',\n 'community 21',\n 'community 21',\n 'community 21',\n 'community 98',\n 'community 98',\n 'community 21',\n 'community 21',\n 'community 21',\n 'community 21',\n 'community 21',\n 'community 21',\n 'community 21',\n 'community 21',\n 'community 22',\n 'community 22',\n 'community 22',\n 'community 22',\n 'community 21',\n 'community 22',\n 'community 22',\n 'community 22',\n 'community 22',\n 'community 22',\n 'community 22',\n 'community 22',\n 'community 22',\n 'community 22',\n 'community 22',\n 'community 22',\n 'community 22',\n 'community 22',\n 'community 22',\n 'community 23',\n 'community 23',\n 'community 23',\n 'community 23',\n 'community 23',\n 'community 23',\n 'community 23',\n 'community 23',\n 'community 23',\n 'community 23',\n 'community 23',\n 'community 23',\n 'community 23',\n 'community 23',\n 'community 23',\n 'community 23',\n 'community 23',\n 'community 23',\n 'community 23',\n 'community 23',\n 'community 23',\n 'community 23',\n 'community 23',\n 'community 23',\n 'community 23',\n 'community 23',\n 'community 23',\n 'community 24',\n 'community 24',\n 'community 25',\n 'community 25',\n 'community 25',\n 'community 25',\n 'community 25',\n 'community 25',\n 'community 25',\n 'community 25',\n 'community 25',\n 'community 25',\n 'community 25',\n 'community 25',\n 'community 21',\n 'community 25',\n 'community 26',\n 'community 27',\n 'community 27',\n 'community 27',\n 'community 27',\n 'community 27',\n 'community 98',\n 'community 98',\n 'community 28',\n 'community 28',\n 'community 28',\n 'community 28',\n 'community 28',\n 'community 28',\n 'community 28',\n 'community 28',\n 'community 28',\n 'community 28',\n 'community 28',\n 'community 28',\n 'community 28',\n 'community 28',\n 'community 28',\n 'community 28',\n 'community 28',\n 'community 28',\n 'community 28',\n 'community 28',\n 'community 28',\n 'community 28',\n 'community 28',\n 'community 28',\n 'community 28',\n 'community 28',\n 'community 28',\n 'community 28',\n 'community 28',\n 'community 28',\n 'community 28',\n 'community 28',\n 'community 28',\n 'community 28',\n 'community 28',\n 'community 28',\n 'community 28',\n 'community 28',\n 'community 28',\n 'community 28',\n 'community 28',\n 'community 28',\n 'community 28',\n 'community 28',\n 'community 28',\n 'community 28',\n 'community 28',\n 'community 28',\n 'community 29',\n 'community 30',\n 'community 31',\n 'community 41',\n 'community 32',\n 'community 33',\n 'community 34',\n 'community 82',\n 'community 35',\n 'community 36',\n 'community 36',\n 'community 24',\n 'community 36',\n 'community 36',\n 'community 36',\n 'community 36',\n 'community 36',\n 'community 36',\n 'community 36',\n 'community 36',\n 'community 36',\n 'community 36',\n 'community 36',\n 'community 36',\n 'community 36',\n 'community 36',\n 'community 36',\n 'community 36',\n 'community 36',\n 'community 24',\n 'community 36',\n 'community 36',\n 'community 36',\n 'community 36',\n 'community 36',\n 'community 36',\n 'community 36',\n 'community 36',\n 'community 36',\n 'community 36',\n 'community 36',\n 'community 36',\n 'community 36',\n 'community 36',\n 'community 36',\n 'community 36',\n 'community 36',\n 'community 36',\n 'community 36',\n 'community 36',\n 'community 36',\n 'community 36',\n 'community 36',\n 'community 36',\n 'community 36',\n 'community 36',\n 'community 36',\n 'community 36',\n 'community 36',\n 'community 36',\n 'community 36',\n 'community 36',\n 'community 36',\n 'community 36',\n 'community 36',\n 'community 36',\n 'community 36',\n 'community 36',\n 'community 36',\n 'community 36',\n 'community 36',\n 'community 36',\n 'community 36',\n 'community 36',\n 'community 36',\n 'community 36',\n 'community 36',\n 'community 36',\n 'community 36',\n 'community 36',\n 'community 36',\n 'community 36',\n 'community 36',\n 'community 36',\n 'community 36',\n 'community 36',\n 'community 37',\n 'community 37',\n 'community 37',\n 'community 37',\n 'community 37',\n 'community 37',\n 'community 37',\n 'community 53',\n 'community 37',\n 'community 53',\n 'community 37',\n 'community 37',\n 'community 53',\n 'community 37',\n 'community 37',\n 'community 37',\n 'community 37',\n 'community 37',\n 'community 38',\n 'community 44',\n 'community 44',\n 'community 38',\n 'community 58',\n 'community 58',\n 'community 38',\n 'community 58',\n 'community 58',\n 'community 38',\n 'community 53',\n 'community 53',\n 'community 38',\n 'community 22',\n 'community 22',\n 'community 38',\n 'community 38',\n 'community 38',\n 'community 1',\n 'community 1',\n 'community 38',\n 'community 38',\n 'community 38',\n 'community 80',\n 'community 39',\n 'community 39',\n 'community 40',\n 'community 40',\n 'community 40',\n 'community 31',\n 'community 41',\n 'community 40',\n 'community 40',\n 'community 40',\n 'community 21',\n 'community 40',\n 'community 21',\n 'community 40',\n 'community 40',\n 'community 40',\n 'community 40',\n 'community 40',\n 'community 40',\n 'community 40',\n 'community 40',\n 'community 31',\n 'community 41',\n 'community 40',\n 'community 21',\n 'community 40',\n 'community 21',\n 'community 40',\n 'community 40',\n 'community 40',\n 'community 40',\n 'community 40',\n 'community 21',\n 'community 40',\n 'community 40',\n 'community 21',\n 'community 40',\n 'community 40',\n 'community 40',\n 'community 40',\n 'community 40',\n 'community 40',\n 'community 21',\n 'community 40',\n 'community 40',\n 'community 31',\n 'community 41',\n 'community 40',\n 'community 40',\n 'community 24',\n 'community 40',\n 'community 41',\n 'community 31',\n 'community 41',\n 'community 41',\n 'community 31',\n 'community 41',\n 'community 31',\n 'community 41',\n 'community 31',\n 'community 41',\n 'community 31',\n 'community 41',\n 'community 34',\n 'community 82',\n 'community 42',\n 'community 42',\n 'community 42',\n 'community 42',\n 'community 42',\n 'community 42',\n 'community 42',\n 'community 42',\n 'community 42',\n 'community 42',\n 'community 42',\n 'community 42',\n 'community 42',\n 'community 42',\n 'community 42',\n 'community 42',\n 'community 42',\n 'community 42',\n 'community 42',\n 'community 42',\n 'community 42',\n 'community 1',\n 'community 42',\n 'community 42',\n 'community 42',\n 'community 42',\n 'community 42',\n 'community 42',\n 'community 42',\n 'community 42',\n 'community 42',\n 'community 42',\n 'community 42',\n 'community 43',\n 'community 44',\n 'community 45',\n 'community 34',\n 'community 82',\n 'community 45',\n 'community 5',\n 'community 62',\n 'community 45',\n 'community 5',\n 'community 62',\n 'community 45',\n 'community 5',\n 'community 62',\n 'community 45',\n 'community 5',\n 'community 62',\n 'community 45',\n 'community 45',\n 'community 5',\n 'community 62',\n 'community 45',\n 'community 5',\n 'community 62',\n 'community 45',\n 'community 5',\n 'community 62',\n 'community 45',\n 'community 5',\n 'community 62',\n 'community 45',\n 'community 5',\n 'community 62',\n 'community 45',\n 'community 5',\n 'community 62',\n 'community 46',\n 'community 47',\n 'community 47',\n 'community 48',\n 'community 49',\n 'community 80',\n 'community 49',\n 'community 80',\n 'community 49',\n 'community 101',\n 'community 113',\n 'community 49',\n 'community 30',\n 'community 30',\n 'community 49',\n 'community 30',\n 'community 30',\n 'community 49',\n 'community 30',\n 'community 49',\n 'community 30',\n 'community 30',\n 'community 49',\n 'community 30',\n 'community 30',\n 'community 49',\n 'community 30',\n 'community 49',\n 'community 21',\n 'community 21',\n 'community 49',\n 'community 30',\n 'community 30',\n 'community 49',\n 'community 76',\n 'community 49',\n 'community 19',\n 'community 19',\n 'community 71',\n 'community 49',\n 'community 80',\n 'community 50',\n 'community 51',\n 'community 51',\n 'community 51',\n 'community 51',\n 'community 52',\n 'community 53',\n 'community 53',\n 'community 53',\n 'community 53',\n 'community 53',\n 'community 53',\n 'community 53',\n 'community 53',\n 'community 53',\n 'community 53',\n 'community 53',\n 'community 53',\n 'community 53',\n 'community 53',\n 'community 53',\n 'community 53',\n 'community 53',\n 'community 53',\n 'community 53',\n 'community 58',\n 'community 53',\n 'community 54',\n 'community 54',\n 'community 54',\n 'community 54',\n 'community 54',\n 'community 54',\n 'community 54',\n 'community 54',\n 'community 54',\n 'community 54',\n 'community 54',\n 'community 54',\n 'community 54',\n 'community 54',\n 'community 54',\n 'community 54',\n 'community 54',\n 'community 54',\n 'community 98',\n 'community 54',\n 'community 54',\n 'community 54',\n 'community 54',\n 'community 54',\n 'community 54',\n 'community 54',\n 'community 54',\n 'community 54',\n 'community 54',\n 'community 54',\n 'community 54',\n 'community 54',\n 'community 54',\n 'community 54',\n 'community 54',\n 'community 54',\n 'community 54',\n 'community 54',\n 'community 54',\n 'community 54',\n 'community 54',\n 'community 54',\n 'community 54',\n 'community 54',\n 'community 54',\n 'community 54',\n 'community 54',\n 'community 54',\n 'community 54',\n 'community 54',\n 'community 54',\n 'community 54',\n 'community 55',\n 'community 55',\n 'community 56',\n 'community 57',\n 'community 57',\n 'community 51',\n 'community 58',\n 'community 58',\n 'community 34',\n 'community 82',\n 'community 58',\n 'community 58',\n 'community 58',\n 'community 34',\n 'community 82',\n 'community 58',\n 'community 59',\n 'community 60',\n 'community 61',\n 'community 62',\n 'community 5',\n 'community 45',\n 'community 5',\n 'community 63',\n 'community 5',\n 'community 63',\n 'community 65',\n 'community 63',\n 'community 63',\n 'community 65',\n 'community 63',\n 'community 63',\n 'community 63',\n 'community 64',\n 'community 63',\n 'community 65',\n 'community 64',\n 'community 65',\n 'community 63',\n 'community 66',\n 'community 44',\n 'community 66',\n 'community 44',\n 'community 66',\n 'community 44',\n 'community 66',\n 'community 19',\n 'community 71',\n 'community 66',\n 'community 19',\n 'community 71',\n 'community 66',\n 'community 44',\n 'community 66',\n 'community 44',\n 'community 66',\n 'community 19',\n 'community 71',\n 'community 66',\n 'community 44',\n 'community 66',\n 'community 19',\n 'community 71',\n 'community 66',\n 'community 44',\n 'community 66',\n 'community 44',\n 'community 66',\n 'community 44',\n 'community 66',\n 'community 44',\n 'community 66',\n 'community 19',\n 'community 71',\n 'community 67',\n 'community 67',\n 'community 67',\n 'community 31',\n 'community 41',\n 'community 67',\n 'community 1',\n 'community 67',\n 'community 67',\n 'community 67',\n 'community 67',\n 'community 67',\n 'community 67',\n 'community 67',\n 'community 53',\n 'community 68',\n 'community 69',\n 'community 69',\n 'community 70',\n 'community 71',\n 'community 19',\n 'community 71',\n 'community 19',\n 'community 71',\n 'community 19',\n 'community 71',\n 'community 19',\n 'community 71',\n 'community 12',\n 'community 71',\n 'community 19',\n 'community 71',\n 'community 1',\n 'community 71',\n 'community 19',\n 'community 71',\n 'community 19',\n 'community 71',\n 'community 19',\n 'community 71',\n 'community 19',\n 'community 71',\n 'community 19',\n 'community 71',\n 'community 19',\n 'community 72',\n 'community 72',\n 'community 72',\n 'community 72',\n 'community 72',\n 'community 72',\n 'community 72',\n 'community 72',\n 'community 72',\n 'community 72',\n 'community 72',\n 'community 72',\n 'community 72',\n 'community 72',\n 'community 72',\n 'community 72',\n 'community 72',\n 'community 72',\n 'community 21',\n 'community 72',\n 'community 72',\n 'community 72',\n 'community 72',\n 'community 72',\n 'community 72',\n 'community 72',\n 'community 72',\n 'community 72',\n 'community 73',\n 'community 74',\n 'community 74',\n 'community 74',\n 'community 75',\n 'community 76',\n 'community 76',\n 'community 76',\n 'community 76',\n 'community 76',\n 'community 98',\n 'community 76',\n 'community 98',\n 'community 76',\n 'community 98',\n 'community 76',\n 'community 76',\n 'community 76',\n 'community 98',\n 'community 76',\n 'community 76',\n 'community 98',\n 'community 76',\n 'community 76',\n 'community 76',\n 'community 76',\n 'community 21',\n 'community 76',\n 'community 98',\n 'community 76',\n 'community 1',\n 'community 76',\n 'community 76',\n 'community 76',\n 'community 21',\n 'community 76',\n 'community 76',\n 'community 76',\n 'community 76',\n 'community 98',\n 'community 76',\n 'community 76',\n 'community 98',\n 'community 76',\n 'community 76',\n 'community 98',\n 'community 76',\n 'community 98',\n 'community 76',\n 'community 98',\n 'community 76',\n 'community 76',\n 'community 98',\n 'community 76',\n 'community 76',\n 'community 76',\n 'community 76',\n 'community 98',\n 'community 76',\n 'community 98',\n 'community 76',\n 'community 98',\n 'community 76',\n 'community 76',\n 'community 98',\n 'community 76',\n 'community 76',\n 'community 77',\n 'community 51',\n 'community 51',\n 'community 77',\n 'community 51',\n 'community 51',\n 'community 77',\n 'community 63',\n 'community 63',\n 'community 65',\n 'community 77',\n 'community 51',\n 'community 51',\n 'community 77',\n 'community 51',\n 'community 51',\n 'community 77',\n 'community 51',\n 'community 51',\n 'community 77',\n 'community 51',\n 'community 51',\n 'community 77',\n 'community 51',\n 'community 51',\n 'community 77',\n 'community 51',\n 'community 77',\n 'community 63',\n 'community 63',\n 'community 65',\n 'community 77',\n 'community 63',\n 'community 78',\n 'community 63',\n 'community 65',\n 'community 78',\n ...]"
     },
     "execution_count": 76,
     "metadata": {},
     "output_type": "execute_result"
    }
   ],
   "source": [
    "label_list"
   ],
   "metadata": {
    "collapsed": false,
    "ExecuteTime": {
     "end_time": "2025-03-15T04:50:24.467835Z",
     "start_time": "2025-03-15T04:50:24.377192Z"
    }
   },
   "id": "d6fa18312a5781c8"
  },
  {
   "cell_type": "code",
   "execution_count": 77,
   "outputs": [
    {
     "data": {
      "text/plain": "['YWRQWOGXY',\n '7Y4OK6WUE',\n 'AQ69R055Z',\n '6L185X52Y',\n 'DS78QQXGW',\n 'JE80YJ1IN',\n 'VA4SXLLR5',\n '7Q1COC0ZE',\n 'DBP7NP5YE',\n 'Q4JG9LJV1',\n '9IIOSGCMD',\n 'VPGEFD68Q',\n 'OY6QMFL84',\n 'YF41U5FY6',\n '4WK5AWN01',\n 'IXK1CISFX',\n '7HHTPPF4Y',\n '563I60QTS',\n 'ZBLZIXJDM',\n 'U95UK89JI',\n '2TS5RQWDI',\n 'WPCIJLU3N',\n 'JNZ6OMRZO',\n '35N5502MV',\n '5TAREL6KW',\n 'OBT4O2J17',\n 'CSVH2PL9J',\n '4GZKRJA02',\n '5TWG6M09W',\n '53TVZQWLY',\n 'DWW5SV8NM',\n 'ADMGIKK1Z',\n 'HQX7RUCJH',\n 'G1E1VI9PT',\n 'X13HPGM1A',\n 'J9W1YQQVX',\n 'HXEDAYCK4',\n 'HXEDAYCK4',\n 'DQGR15TYR',\n 'DQGR15TYR',\n '8P4EDJX9M',\n '8P4EDJX9M',\n '8P4EDJX9M',\n 'Q5EHPLYEH',\n 'Q5EHPLYEH',\n 'EO4PZE0AL',\n 'BE7XGNEPB',\n 'BE7XGNEPB',\n '20CKF3ZWL',\n '20CKF3ZWL',\n 'RNFE2L77J',\n 'RNFE2L77J',\n '9JISZW2D3',\n '9JISZW2D3',\n '9JISZW2D3',\n '88LHNKT82',\n '88LHNKT82',\n '88LHNKT82',\n '5NWE9939I',\n '5NWE9939I',\n '5NWE9939I',\n 'O4UQAQWKH',\n 'O4UQAQWKH',\n 'O4UQAQWKH',\n 'ORGS022F3',\n 'ORGS022F3',\n 'B216RPXJ7',\n 'B216RPXJ7',\n 'B216RPXJ7',\n 'IIO55NSRS',\n 'IIO55NSRS',\n 'MEKD7VKBL',\n 'MEKD7VKBL',\n 'MEKD7VKBL',\n '2Z2IKU9RE',\n '2Z2IKU9RE',\n '7EOSTUJE2',\n 'EMFURT241',\n '3GJPR4QJK',\n '8NAX0KMZL',\n '9T5KNHU4E',\n '9T5KNHU4E',\n 'C7SAB7SNT',\n 'ILFD302RC',\n 'EUDIR1RMW',\n '85GKX35QF',\n '9DQ2WADQP',\n 'H63E8IF3T',\n 'XBZYWRJI0',\n 'GXETTZVTV',\n '282HYXY0Z',\n '92HJ1N39X',\n 'VQLA6L4E6',\n 'J3B9JRMCQ',\n 'P0AY216J3',\n '6M16PPENP',\n '6M16PPENP',\n 'WDJZYI0Y6',\n 'ZE04CY3OG',\n 'ADMQFHZK2',\n 'ADMQFHZK2',\n '2NSKWGEB8',\n 'IGYQ0TFFJ',\n '0TS3YTURI',\n 'X9T27A6KS',\n '0PS3UG706',\n '356B3X6AX',\n '8M0098QBY',\n 'L8TOW6TNA',\n '3AOMVJBWC',\n 'M79RIKP8D',\n 'OL4DZ8JZR',\n 'A4NUZ22PL',\n 'NRZO6E5PR',\n 'CMUEVJW0P',\n 'BCFIYP6KF',\n '1GOFXT1OV',\n 'WCCA61EH1',\n '5BXYP93AX',\n 'D9RBDIOL0',\n 'LH6DFB5F6',\n 'ZR7S7G4XE',\n 'PNN04VV8I',\n 'PNN04VV8I',\n 'E4PALJWI4',\n 'E4PALJWI4',\n '4B6RV5N8W',\n 'N6ITNW4PA',\n 'N6ITNW4PA',\n 'PZ7V9JAXA',\n 'QRRN7CSHX',\n 'QRRN7CSHX',\n 'A8ZDJ5PDE',\n 'YZ8KWNRK5',\n 'ATAY2N4IY',\n 'ATAY2N4IY',\n 'M9KTG9BP0',\n 'CR4DLZ6DM',\n 'CR4DLZ6DM',\n 'D78KKG0TF',\n 'D78KKG0TF',\n '8DPCQY3O3',\n '8DPCQY3O3',\n '9AR0R3FV9',\n '9AR0R3FV9',\n 'MZV7A5KTQ',\n 'GA45I7N1S',\n 'GA45I7N1S',\n '9N7FV77E0',\n '9N7FV77E0',\n 'OSE9JC7KL',\n 'OSE9JC7KL',\n 'SUO1FNYVL',\n 'GLRGWFBWL',\n 'LHLYUFCTU',\n '3S2B35GDS',\n '80XZVQD55',\n 'ILCPGBT05',\n 'ILCPGBT05',\n 'T273G1Q6I',\n 'T273G1Q6I',\n 'K4P9SRW3A',\n 'K4P9SRW3A',\n 'Y95FQN0II',\n 'H9F0NUHZL',\n 'H9F0NUHZL',\n 'ZEQ0VL9LO',\n 'ZEQ0VL9LO',\n 'HW00BSNH2',\n 'AY5XSBYCA',\n 'AY5XSBYCA',\n 'MWXMABNZK',\n 'MWXMABNZK',\n '8M658OJUY',\n '8M658OJUY',\n 'J5MY1UZCZ',\n 'J5MY1UZCZ',\n 'XHXF5YXJE',\n 'XHXF5YXJE',\n 'TEADIOMZH',\n 'TEADIOMZH',\n 'YGURXOOAR',\n 'YAGZ4YXFN',\n 'YAGZ4YXFN',\n 'SHBB7UABV',\n 'SHBB7UABV',\n '6SGKV8V8U',\n 'QPW71MW7T',\n 'QPW71MW7T',\n 'DF65JRUMD',\n 'DF65JRUMD',\n '94Y435G2Q',\n '94Y435G2Q',\n 'SXSKUMS84',\n 'AB50GU0I7',\n 'AB50GU0I7',\n '81Z5QZ9HC',\n '8BIJBG28L',\n '8BIJBG28L',\n '4NFGG35RI',\n '4NFGG35RI',\n 'JRA8NQELS',\n 'JRA8NQELS',\n 'C1A6VHMXI',\n 'JGE2HRFPU',\n 'JGE2HRFPU',\n 'CRPUQ97OJ',\n 'CRPUQ97OJ',\n '4V329RJJQ',\n '4V329RJJQ',\n 'EX3RN5RW3',\n 'EX3RN5RW3',\n 'EX3RN5RW3',\n 'QLXZEGRSL',\n 'QLXZEGRSL',\n 'FJUNS4X8V',\n 'FJUNS4X8V',\n '0PMUNN0JV',\n '0PMUNN0JV',\n 'FBWRVYJTV',\n 'FBWRVYJTV',\n 'IORN88PWY',\n 'IORN88PWY',\n 'CMVG1CP88',\n 'CMVG1CP88',\n 'TD5GSWE30',\n 'TD5GSWE30',\n '40SNWBK5A',\n '40SNWBK5A',\n '32XQH8YEQ',\n '32XQH8YEQ',\n '6NISA79S0',\n '6NISA79S0',\n '6NISA79S0',\n 'IA09AYWK1',\n 'IA09AYWK1',\n 'P92KHSCR9',\n 'P92KHSCR9',\n 'ZWOG1G0E4',\n 'ZWOG1G0E4',\n 'ZWOG1G0E4',\n '0W3X17NT9',\n '0W3X17NT9',\n '1W6LJ9DT2',\n '1W6LJ9DT2',\n 'C169GYLI7',\n 'C169GYLI7',\n 'W1VNSW6KX',\n 'W1VNSW6KX',\n '3H6LG8I9R',\n '53AYU9YKY',\n 'YV94FB1QZ',\n 'RKCT07C4Y',\n 'RKCT07C4Y',\n '2AD7RUBNV',\n 'AWGC5SU5W',\n 'KE0CSLK6N',\n '2JIU81QBO',\n 'RQCAYNN76',\n '3U3JRVHSM',\n 'PXE0DNS9F',\n '2CXRAOMMR',\n '8OOZT94SC',\n 'QY8VOMWGS',\n '09144M14F',\n 'NPD8NBR6O',\n 'DNHJI3YC7',\n 'TRN942L56',\n '6MXSGOUV1',\n 'L6MHDE4QK',\n 'MJW2G0JDF',\n 'Y5KXCTNCC',\n 'BY6CET79Y',\n 'U20T1HOBI',\n 'H02007F2P',\n 'HZQZC0B4V',\n 'NUGX79UF8',\n 'HB5OY2IT3',\n 'O94KZFED0',\n 'MS0470NPU',\n 'Q4KUCIVNO',\n 'XX3HP5XZH',\n 'MPI6QYLRO',\n 'TRFTF4BO0',\n '2X8WUM7WU',\n 'URKNTTCHQ',\n 'OR8882JPW',\n '0QNEJ6921',\n 'H1P772POB',\n '0E8P6F42T',\n 'FPH47KAPA',\n 'OKKNXFVU3',\n 'GD5JEBNLG',\n '0LOFBXUAD',\n 'TG1JUIHIT',\n '3GRGFIRRE',\n '3BHYBK3PE',\n 'O0P2DXO1D',\n 'LSWIEUH5F',\n 'QV99CFKKN',\n 'NZGS8524L',\n 'W1LDR5U99',\n 'ZNE8CX26J',\n '75K6EWA63',\n 'OWNVFSGEN',\n '8WS3MV0OU',\n 'B5I8ZG5HT',\n 'N7XPCVVBV',\n 'C4YJ2FZWX',\n 'C4YJ2FZWX',\n '2FJH5GHUO',\n 'VAHRUDUJ6',\n 'GPFHLUZOQ',\n 'GPFHLUZOQ',\n '9GORYNJUQ',\n '9GORYNJUQ',\n '6QFBAOK7W',\n '6QFBAOK7W',\n '6QFBAOK7W',\n 'TH749UJX1',\n 'TH749UJX1',\n 'H66AUDKPD',\n 'H66AUDKPD',\n '40V3VXC61',\n '40V3VXC61',\n '91EKDHH8W',\n '91EKDHH8W',\n 'HT6R8TZVN',\n 'HT6R8TZVN',\n 'WPP9ZOG5E',\n 'WPP9ZOG5E',\n '3FTBUMIFB',\n '3FTBUMIFB',\n 'LWJ5KRSFO',\n 'LWJ5KRSFO',\n 'YN8A37CFR',\n 'YN8A37CFR',\n 'P8FGL0H6D',\n 'P8FGL0H6D',\n '5T8X4AEHT',\n '5T8X4AEHT',\n 'C7D87FBF8',\n 'C7D87FBF8',\n '1J2M5GPOX',\n '1J2M5GPOX',\n 'W3B739UFB',\n 'W3B739UFB',\n 'ILPPF2Q5O',\n 'ILPPF2Q5O',\n 'INXWQHS6V',\n 'INXWQHS6V',\n '55YYXPY68',\n '55YYXPY68',\n 'J0RX9SBDE',\n 'J0RX9SBDE',\n 'HX89G50GS',\n 'HX89G50GS',\n '8LQBCSJW0',\n '8LQBCSJW0',\n 'QG3JVQ9GU',\n 'QG3JVQ9GU',\n 'KRGP4PXL9',\n 'KRGP4PXL9',\n 'H6LGVLQGV',\n 'H6LGVLQGV',\n 'WAN2SS5YD',\n 'WAN2SS5YD',\n 'XYLU5VLWW',\n 'BIPK5ZAR1',\n 'VFUIAWE31',\n 'VFUIAWE31',\n '0P09TUI04',\n 'FBUQXJ4SJ',\n 'KYTIFAIAQ',\n 'KYTIFAIAQ',\n 'GRBZP9AMN',\n '48G629OPD',\n 'HEXIYT3HQ',\n 'HEXIYT3HQ',\n 'TDEV4PXK7',\n 'WQD8F0OC3',\n '5Y8J20547',\n 'FZB0LZY0C',\n 'E3D8DMUQ8',\n 'IXX3IKOLV',\n 'PAIE2YCZJ',\n 'GKRC20GJD',\n '52EEXN2DV',\n 'ZB51RNYDZ',\n 'ANV3SXQ4P',\n 'ER2TROSSO',\n 'OV9SDQUZX',\n '9HC7101P7',\n '0TQ8LVL6A',\n '55DNOTPPG',\n 'XMG240E95',\n 'XMG240E95',\n '8FLYHFAX2',\n 'ND16QJ4X3',\n 'SHF4EBY5K',\n '2RA8MCQPG',\n 'A7TW4V5CD',\n 'EJVIWVZ5R',\n 'M69GV4PBZ',\n 'SN8IXBGNC',\n 'E87HE5EWW',\n '233S4VIJO',\n 'CQ5MRTVRC',\n 'YRBTIVKDS',\n 'S79GK1YW1',\n 'ZJ3Z5EF6F',\n '6A808LLJM',\n 'SXY37C8KJ',\n 'BABD9B734',\n 'BKS6SKZYM',\n 'V26ELUPRX',\n 'VCUF1DQ0X',\n '1SIOSK3RQ',\n 'BEFAMCMBL',\n 'JQBGKP6W8',\n '3674XT7SS',\n 'CYPL6AY9G',\n 'REM2E9E3X',\n 'WQ4RMKEH8',\n '0FZ4NDK1V',\n 'P72N65WXO',\n '7WEV0ZEB8',\n '2IUMVXWR8',\n 'QDXK2JS22',\n 'E486I4H0T',\n '1TIT6QD69',\n 'PMYWGHUJG',\n 'NL6GPHWMS',\n 'GAWBPSFFD',\n 'AE97CRRAR',\n 'R2XGPA6X9',\n 'B6FEXDXUO',\n '0AI9JIZ2W',\n 'AMZMVXFW8',\n 'J20JO79EW',\n 'P6OD3RGKS',\n 'UY8PKVPO0',\n '3ALH6OGW7',\n '1522ZTYU2',\n 'YH74W3DOQ',\n '9WYECR5DV',\n '4G7VWTPRJ',\n '45AMGIS8L',\n 'JWTKF61NC',\n '100UDECF2',\n '7MK1U2IF6',\n 'K4XQI78Z2',\n 'PYTKK0WJJ',\n 'R4OO5FKFT',\n 'VHSHC61I8',\n '9WM21XO5C',\n 'ZS91Y46I3',\n 'P2X3RW4FP',\n 'UU5Q37C1D',\n 'WRXGWXBSN',\n 'WRXGWXBSN',\n '0GX24IEE5',\n '0GX24IEE5',\n '4AMC75PTB',\n 'HFCIK3UXG',\n 'HFCIK3UXG',\n '8VXQLFMEW',\n 'IYMKO9LF4',\n 'QZ6XT2PKV',\n 'BNOOK6QGT',\n 'E0JF2BQ8X',\n 'PFBYZQV4E',\n 'PFBYZQV4E',\n 'PFBYZQV4E',\n 'Z5LWLCLGQ',\n 'Z5LWLCLGQ',\n 'Z5LWLCLGQ',\n '60I7H2B6D',\n '60I7H2B6D',\n '60I7H2B6D',\n '437HR0O4H',\n '437HR0O4H',\n '437HR0O4H',\n '7L2CBZMMZ',\n '7L2CBZMMZ',\n '7L2CBZMMZ',\n 'YAGWP5YJB',\n 'YAGWP5YJB',\n 'PJGEJG64N',\n 'PJGEJG64N',\n 'PJGEJG64N',\n 'SZT4TDQDU',\n 'SZT4TDQDU',\n 'QUTX8OZW3',\n 'QUTX8OZW3',\n 'PVAK1RD6J',\n 'PVAK1RD6J',\n 'B3O94VEPH',\n 'BIAFRGAMC',\n 'BHGZ9GJ6M',\n 'BHGZ9GJ6M',\n 'BHGZ9GJ6M',\n 'DTKH8QTCA',\n 'FVYHRK21K',\n 'S112UXT5G',\n 'S112UXT5G',\n '487Q5O8JW',\n '487Q5O8JW',\n 'LBXY2XIQG',\n 'R4G98WU41',\n 'G32DNATLX',\n 'VNB5K3HKO',\n 'RVNP6KNO4',\n 'FD34W9WKY',\n 'COVZ4R0CO',\n 'GTI2GZ6XF',\n 'GTI2GZ6XF',\n 'GTI2GZ6XF',\n 'KMSV9L2XW',\n 'KMSV9L2XW',\n 'TTBELUESF',\n 'TTBELUESF',\n '5RGGF4TYL',\n 'UQB9OT0OP',\n 'M7TRE6B9L',\n 'LMGZ9KFB9',\n 'OQNZ7MT3K',\n 'OQNZ7MT3K',\n 'Q5USF5XSD',\n '2MCBRC1DJ',\n '2MCBRC1DJ',\n 'T500BIM8W',\n '01L6VT7DN',\n 'MET0LO2VH',\n '7B3SHSNF3',\n 'BVGVZAPY8',\n 'XISFL3YUG',\n 'XISFL3YUG',\n '1Q3Q90SV2',\n '2I9I6MHND',\n '2I9I6MHND',\n '2I9I6MHND',\n 'B5LA7P290',\n '3ABA286V3',\n '3ABA286V3',\n 'GFS6AK0LS',\n 'O5YRQSNWR',\n 'O5YRQSNWR',\n 'MLDCFFL0X',\n 'LXYEB8KVT',\n 'LXYEB8KVT',\n 'VEKCFL5VR',\n 'VEKCFL5VR',\n 'N5UOS56KQ',\n 'N5UOS56KQ',\n '960H3ORVN',\n '960H3ORVN',\n 'MKA8MAKIE',\n 'MKA8MAKIE',\n 'MKA8MAKIE',\n '2Q87KTVG0',\n 'L4G6AVLHK',\n 'S1MK0KQ5O',\n '9JZRKJWQF',\n 'BZY2PLVEA',\n 'IEOR1SXLA',\n 'L08ZG932H',\n 'S4GLOFWWO',\n 'OCVZ3I5SI',\n 'EV8EY8E26',\n 'RX3AOHSHS',\n '45JAJQR0T',\n '7HPYSOOLT',\n 'SU3FHIVRL',\n '4N9A32TWT',\n '4Z3W2RMJG',\n '1O7GLLIT8',\n 'RQH6LZ1DN',\n '1S6ZLSGJS',\n '184Q1P3KK',\n 'O893081J5',\n 'O893081J5',\n 'JVE1OMBAJ',\n 'L2D8CUCVK',\n '6PNOSRLW5',\n '5NJUNEM55',\n 'K0SFSG83G',\n '5SW2OYSDM',\n '62E6KTMYD',\n 'T4H5XJDSA',\n 'S8P71RGIF',\n 'HIX8J8CW5',\n '8WYV44HVQ',\n 'TXINM8RH6',\n '2PDBI37G1',\n 'QW3NRQD61',\n 'QW3NRQD61',\n 'QW3NRQD61',\n '0X5BKRSLA',\n '0X5BKRSLA',\n '0X5BKRSLA',\n 'ZB4E0WLFM',\n 'ZB4E0WLFM',\n 'ZB4E0WLFM',\n 'ZFAS23QLR',\n 'ZFAS23QLR',\n 'ZFAS23QLR',\n 'FKOJPWUQE',\n 'FKOJPWUQE',\n 'FKOJPWUQE',\n 'AMM053W06',\n '7259I6NCQ',\n '7259I6NCQ',\n '7259I6NCQ',\n '50RTA78XQ',\n '50RTA78XQ',\n '50RTA78XQ',\n 'QCG6FU21M',\n 'QCG6FU21M',\n 'QCG6FU21M',\n 'AKZF7OC2N',\n 'AKZF7OC2N',\n 'AKZF7OC2N',\n 'MSTMHYBD5',\n 'MSTMHYBD5',\n 'MSTMHYBD5',\n 'P89UNXKHE',\n 'P89UNXKHE',\n 'P89UNXKHE',\n 'S8JIH40OC',\n 'P9T3GAF6P',\n 'P9T3GAF6P',\n '8R9PYNMQ2',\n 'MO4PZXJ8Y',\n 'MO4PZXJ8Y',\n 'PAA49EBGO',\n 'PAA49EBGO',\n 'QRJX9T4KM',\n 'QRJX9T4KM',\n 'QRJX9T4KM',\n '5JXUMYW6W',\n '5JXUMYW6W',\n '5JXUMYW6W',\n 'LJ3POS60G',\n 'LJ3POS60G',\n 'LJ3POS60G',\n '37O1U32LI',\n '37O1U32LI',\n '94J6OKYJ2',\n '94J6OKYJ2',\n '94J6OKYJ2',\n 'XWK2BVVNJ',\n 'XWK2BVVNJ',\n 'XWK2BVVNJ',\n 'DHMYPMCDU',\n 'DHMYPMCDU',\n 'M3K3G0HHX',\n 'M3K3G0HHX',\n 'M3K3G0HHX',\n 'PIKAQ0438',\n 'PIKAQ0438',\n 'PIKAQ0438',\n 'MUF93AH55',\n 'MUF93AH55',\n '86RUBRW9F',\n '86RUBRW9F',\n '86RUBRW9F',\n '86RUBRW9F',\n 'VY1IQK701',\n 'VY1IQK701',\n '1BZG1KE0Y',\n '4E4S5QF2T',\n '4E4S5QF2T',\n 'ZRE65F504',\n 'ZRE65F504',\n 'BPS1XI2OD',\n '0RTFSIQT0',\n '1USVWBEQM',\n 'V11DSNP45',\n 'EOZ9R1YE2',\n 'AQDRAUC0Y',\n 'J8ZVMAM1F',\n '52TXJZGR3',\n 'KTQQXTMCE',\n 'JUHO9C7TO',\n '22SF7NNU2',\n 'HYHKBYFA8',\n '5IHJMBG5D',\n 'V3CIRS933',\n 'UA9ALMGUE',\n 'EUG4PK2AG',\n '93QYQUHI9',\n 'DZR84R00R',\n 'PQSETLS5J',\n '25SR1WIMW',\n '25SR1WIMW',\n 'RX2001QL6',\n 'FCEBA6IMH',\n 'R0OENM5B3',\n '0WBE8JFIW',\n 'Q5K7GGHPN',\n 'NCSKL2DYQ',\n 'K5PYKHSK7',\n '5M75UPLYH',\n 'QFH3715U1',\n '2K2C2KVHE',\n 'OSVG1CERG',\n 'HU5LTUPUB',\n 'URMJB1TG3',\n 'HR2U9KPW6',\n 'F0AKTDLH4',\n 'DN6XW72NA',\n 'PEBQG1VOE',\n 'BTUIX6VOW',\n 'DPYSN7JLN',\n 'DPYSN7JLN',\n 'VELHKTP64',\n 'MRP5VAJJ0',\n 'QFRSR06RO',\n 'TSD65RCZ5',\n 'FTQS4WZEI',\n 'IO819H46B',\n 'GJFNQHU5H',\n '7F5W3F1OX',\n 'NGRC0OTK8',\n 'T2MKQ79FV',\n '57V1M5M89',\n 'PCMZEMW5O',\n 'FUM1OK9W6',\n 'C9USI74UA',\n 'JRQANLB7T',\n 'CG3WLRJAX',\n 'XKAJ06NMX',\n '28QNVWHGS',\n 'FOEYL5VB8',\n 'FWVCCCNHW',\n '0EHOVL3F8',\n 'H10VP2ZJO',\n 'XE32R4ZCI',\n 'RDCR8K03W',\n 'CH1K8ER54',\n 'Y1ALZ9RCA',\n 'ZIT8LJPOQ',\n 'BX48GOZDP',\n '2OOGRPW7I',\n '8U6UQDQIY',\n 'VK0D7KPVG',\n 'R0JDVT05C',\n 'VITI6YYG5',\n 'M5YB4H9ZB',\n 'M5YB4H9ZB',\n '4R2EL15QS',\n '3FX5CP8G6',\n '2DU54AUSC',\n '2DU54AUSC',\n 'P8P954GXN',\n 'K1VC9HHNU',\n 'K1VC9HHNU',\n 'K1VC9HHNU',\n '8YROK63YG',\n 'YGWF8BZ0Q',\n 'L3NG1JIPA',\n 'L3NG1JIPA',\n 'L3NG1JIPA',\n '455ENEIP0',\n 'EPKWQTJCD',\n 'BGUFELJ2L',\n 'OE8J8D5YU',\n '37NA61AAI',\n '37NA61AAI',\n '37NA61AAI',\n '37NA61AAI',\n 'LVMT8UTVW',\n 'LVMT8UTVW',\n 'EJGLSR732',\n 'EJGLSR732',\n 'EJGLSR732',\n '6XP6OZKZ8',\n '6XP6OZKZ8',\n '6XP6OZKZ8',\n 'SQXMNVXC6',\n 'SQXMNVXC6',\n 'L2TT1DM9J',\n 'L2TT1DM9J',\n 'L2TT1DM9J',\n 'O3Q8VAY4F',\n 'J2QRFW5I1',\n 'J2QRFW5I1',\n 'M9FLOWVQ1',\n 'M9FLOWVQ1',\n 'XF2SW6SXA',\n 'XF2SW6SXA',\n '71K8MDKF5',\n '71K8MDKF5',\n 'E0UZQH1FW',\n 'E0UZQH1FW',\n 'E0UZQH1FW',\n '0RETU2IQZ',\n '0RETU2IQZ',\n '0RETU2IQZ',\n 'X6YXGOANF',\n 'X6YXGOANF',\n 'LDPU5ODDE',\n 'LDPU5ODDE',\n 'CEQXULY5U',\n 'CEQXULY5U',\n 'CEQXULY5U',\n 'YQHW5JB3S',\n 'YQHW5JB3S',\n 'QKQCHAJWK',\n 'QKQCHAJWK',\n 'QKQCHAJWK',\n '4KNM7U86A',\n '4KNM7U86A',\n '58QFP6IBB',\n '58QFP6IBB',\n 'CY6V88Q8U',\n 'CY6V88Q8U',\n '79IK65LHE',\n '79IK65LHE',\n 'KVI9WUCXC',\n 'KVI9WUCXC',\n 'KVI9WUCXC',\n '2AV2BWNYL',\n 'LDN37CDIQ',\n 'SERJEBNAH',\n 'SERJEBNAH',\n 'SERJEBNAH',\n 'A9D8K3P9O',\n 'A9D8K3P9O',\n 'LF4ZASO36',\n 'I8IUF9O21',\n 'GBE0U6T83',\n 'SF5Z8M52N',\n '0WVP8I17C',\n 'W7RKGQI1V',\n 'N1WEK9H71',\n 'N1WEK9H71',\n 'P2TZRS49C',\n 'F7O7JP657',\n 'F7O7JP657',\n 'AU6WSDEUP',\n 'EC8NO2K6T',\n 'EC8NO2K6T',\n '4QOGQBU7G',\n '4QOGQBU7G',\n 'BV2HR57AJ',\n 'BV2HR57AJ',\n 'MYI6H8VUT',\n 'MYI6H8VUT',\n 'B5SVURC6I',\n 'B5SVURC6I',\n 'ZRMCEEM8Q',\n 'ZRMCEEM8Q',\n '21QW58OKO',\n '21QW58OKO',\n 'LUYUP9ZCK',\n 'LUYUP9ZCK',\n 'L9A2UBMV1',\n 'L9A2UBMV1',\n 'ASB70JT03',\n 'ASB70JT03',\n 'M4DXAGNGQ',\n 'M4DXAGNGQ',\n 'J8PANKDB0',\n 'J8PANKDB0',\n 'JCOEU04X6',\n 'JCOEU04X6',\n 'GZ8IPL53J',\n '860H86ITI',\n '66BZIVHMQ',\n 'MN78V0SH2',\n '2CWQPKMAH',\n 'XF21U000I',\n 'AGQEHUNRX',\n 'LN842KM7D',\n 'Y3GJF5Y41',\n 'CXMGWAJYV',\n 'M22UJGYIL',\n 'V7NKL671S',\n 'W0IY378IE',\n 'AZXLPGDE6',\n 'GXDRJ4TRK',\n '4JXE6A4NR',\n '55ZO4CT0N',\n 'PJ1PMZKCG',\n 'PJ1PMZKCG',\n 'Z6Q11HCQY',\n 'O6R9BU1AE',\n 'GHC4Y3U9D',\n 'ISJRFYV8V',\n '8WWQYBOF3',\n '14DU9AMYQ',\n 'PSVL9IGP4',\n '02OAXUDJX',\n '0SN4HYKQJ',\n 'R6G3W05BD',\n 'FMNC45UG6',\n 'EA87RASFM',\n 'YPJSQB1NK',\n 'DWSBVSYS1',\n 'W4NLROMOW',\n 'ORTU9035E',\n 'VXGFRB5WD',\n '2U1M5T5WK',\n '1FV2F2834',\n '1FV2F2834',\n 'TIEIGUGDF',\n 'TIEIGUGDF',\n 'SH5MDSJ4N',\n 'SH5MDSJ4N',\n '5MROBRYMU',\n '1GCK8TU9H',\n 'VSJ3PM8SE',\n 'VSJ3PM8SE',\n 'U7H3YXT6R',\n 'TU1SLMR17',\n 'TU1SLMR17',\n 'TINFYIC7L',\n 'Z0OFIRP1B',\n 'I4FY2TL2Y',\n '62J7MXC2B',\n '62J7MXC2B',\n '4KYDN84EO',\n '4KYDN84EO',\n '014RTH812',\n '014RTH812',\n '2C6KNA6EJ',\n 'EA6BCEMKX',\n 'BXUZHRY8G',\n 'BXUZHRY8G',\n 'JK4AAAKB3',\n 'WOSNKWG1Y',\n 'EY3KP5F01',\n 'EPWNLZUIU',\n 'EPWNLZUIU',\n 'G67UHNIAU',\n '914Y0S91B',\n '914Y0S91B',\n 'FGJMKVP9H',\n '0B82D7G57',\n '0B82D7G57',\n '1G7S047H0',\n '1G7S047H0',\n '8H70N2069',\n '8H70N2069',\n 'TIYJAIXHO',\n 'J6T3XR6FN',\n 'J6T3XR6FN',\n 'JXYPTWNMF',\n 'ZU6DIC1W4',\n 'LBMB0NC3A',\n '90XHISVT2',\n '90XHISVT2',\n '9J8PQZ17Q',\n '9J8PQZ17Q',\n 'J4GN0JLOP',\n 'J4GN0JLOP',\n 'Q494N6FBH',\n 'LFZF5Q57M',\n 'LFZF5Q57M',\n 'LCAR4C2AC',\n 'IDCSB0YRL',\n 'TMV0ASWC5',\n 'TMV0ASWC5',\n 'TMV0ASWC5',\n 'W962SS9B7',\n 'W962SS9B7',\n 'W962SS9B7',\n 'LD5XLTHUG',\n 'LD5XLTHUG',\n 'LD5XLTHUG',\n 'LD5XLTHUG',\n '5KJWNAY41',\n '5KJWNAY41',\n '5KJWNAY41',\n 'ICVX6ORN3',\n 'ICVX6ORN3',\n 'ICVX6ORN3',\n '2NSKJRKBR',\n '2NSKJRKBR',\n '2NSKJRKBR',\n '93QRG8MC3',\n '93QRG8MC3',\n '93QRG8MC3',\n '8G5ES3JED',\n '8G5ES3JED',\n '8G5ES3JED',\n 'MT2RHGD80',\n 'MT2RHGD80',\n 'USZWE3AUZ',\n 'USZWE3AUZ',\n 'USZWE3AUZ',\n 'USZWE3AUZ',\n 'E2QJKN6TN',\n 'E2QJKN6TN',\n 'Y1THA71IK',\n 'Y1THA71IK',\n 'Y1THA71IK',\n 'VVFAM0N2S',\n ...]"
     },
     "execution_count": 77,
     "metadata": {},
     "output_type": "execute_result"
    }
   ],
   "source": [
    "nodes_list"
   ],
   "metadata": {
    "collapsed": false,
    "ExecuteTime": {
     "end_time": "2025-03-15T04:50:28.502346Z",
     "start_time": "2025-03-15T04:50:28.436322Z"
    }
   },
   "id": "cc74f139ce3beaef"
  },
  {
   "cell_type": "code",
   "execution_count": 78,
   "outputs": [
    {
     "data": {
      "text/plain": "1218"
     },
     "execution_count": 78,
     "metadata": {},
     "output_type": "execute_result"
    }
   ],
   "source": [
    "len(nodes_list)"
   ],
   "metadata": {
    "collapsed": false,
    "ExecuteTime": {
     "end_time": "2025-03-15T04:50:31.826320Z",
     "start_time": "2025-03-15T04:50:31.769381Z"
    }
   },
   "id": "ba52882926550c15"
  },
  {
   "cell_type": "code",
   "execution_count": 98,
   "outputs": [
    {
     "data": {
      "text/plain": "42"
     },
     "execution_count": 98,
     "metadata": {},
     "output_type": "execute_result"
    },
    {
     "data": {
      "text/plain": "<Figure size 640x480 with 1 Axes>",
      "image/png": "[encoded data removed]"
     },
     "metadata": {},
     "output_type": "display_data"
    }
   ],
   "source": [
    "commu_size=[]\n",
    "for cluster in set(label_list):\n",
    "    commu_size.append(label_list.count(cluster))\n",
    "plt.hist(commu_size )\n",
    "plt.xlabel(\"community size\")\n",
    "plt.ylabel(\"Frequency\")\n",
    "plt.title(\"Communities size distribution for the filtered network\")\n",
    "commu_size.count(1)"
   ],
   "metadata": {
    "collapsed": false,
    "ExecuteTime": {
     "end_time": "2025-03-18T19:05:41.605491Z",
     "start_time": "2025-03-18T19:05:41.454950Z"
    }
   },
   "id": "76e0b73b8e85e2ae"
  },
  {
   "cell_type": "code",
   "execution_count": 80,
   "outputs": [],
   "source": [
    "final_outputMultiple=output_20 = pd.DataFrame({\"id\": range(len(nodes_list)),\n",
    "                             \"xxx\": nodes_list,\n",
    "                             \"prediction\": label_list})\n"
   ],
   "metadata": {
    "collapsed": false,
    "ExecuteTime": {
     "end_time": "2025-03-15T04:53:36.007871Z",
     "start_time": "2025-03-15T04:53:35.933165Z"
    }
   },
   "id": "bc15a2b535c3d2d7"
  },
  {
   "cell_type": "code",
   "execution_count": 81,
   "outputs": [],
   "source": [
    "final_outputMultiple.to_csv(\"output 21.csv\", index=False)\n"
   ],
   "metadata": {
    "collapsed": false,
    "ExecuteTime": {
     "end_time": "2025-03-15T04:53:46.431156Z",
     "start_time": "2025-03-15T04:53:46.360897Z"
    }
   },
   "id": "fa37b848eadf542a"
  },
  {
   "cell_type": "code",
   "execution_count": null,
   "outputs": [],
   "source": [],
   "metadata": {
    "collapsed": false
   },
   "id": "dac59fc00a8ee7e9"
  }
 ],
 "metadata": {
  "kernelspec": {
   "display_name": "Python 3",
   "language": "python",
   "name": "python3"
  },
  "language_info": {
   "codemirror_mode": {
    "name": "ipython",
    "version": 2
   },
   "file_extension": ".py",
   "mimetype": "text/x-python",
   "name": "python",
   "nbconvert_exporter": "python",
   "pygments_lexer": "ipython2",
   "version": "2.7.6"
  }
 },
 "nbformat": 4,
 "nbformat_minor": 5
}
