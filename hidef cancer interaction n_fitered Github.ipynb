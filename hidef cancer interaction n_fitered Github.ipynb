{
 "cells": [
  {
   "cell_type": "code",
   "execution_count": null,
   "id": "initial_id",
   "metadata": {
    "collapsed": true
   },
   "outputs": [],
   "source": [
    "import pandas as pd\n",
    "import matplotlib.pyplot as plt\n",
    "import networkx as nx\n",
    "import ndex2\n",
    "import ndex2.client\n",
    "from ndex2 import cx2\n",
    "import cdapsutil\n",
    "import numpy as np"
   ]
  },
  {
   "cell_type": "code",
   "execution_count": null,
   "outputs": [],
   "source": [
    "network_df = pd.read_table(\"/network_with_weights.edgelist\",\n",
    "                           header=None)\n",
    "network_df"
   ],
   "metadata": {
    "collapsed": false
   },
   "id": "da837ae0a44e1e61"
  },
  {
   "cell_type": "code",
   "execution_count": null,
   "outputs": [],
   "source": [
    "network_df.columns=[\"source\",\"target\",\"weight\"]\n",
    "#network_df"
   ],
   "metadata": {
    "collapsed": false
   },
   "id": "d70434604607d7a2"
  },
  {
   "cell_type": "code",
   "execution_count": null,
   "outputs": [],
   "source": [
    "import networkx as nx\n",
    "\n",
    "# Create a graph \n",
    "\n",
    "nxg = nx.Graph()\n",
    "\n",
    "# Add edges from DataFrame\n",
    "nxg.add_weighted_edges_from(network_df.itertuples(index=False, name=None))\n",
    "nxg\n"
   ],
   "metadata": {
    "collapsed": false
   },
   "id": "ed894f5985a386"
  },
  {
   "cell_type": "code",
   "execution_count": null,
   "outputs": [],
   "source": [
    "#conert nx to nicex\n",
    "###  first convert to ndex\n",
    "\n",
    "G_ndex = ndex2.create_nice_cx_from_networkx(nxg)"
   ],
   "metadata": {
    "collapsed": false
   },
   "id": "96bcc57047b74e47"
  },
  {
   "cell_type": "code",
   "execution_count": null,
   "outputs": [],
   "source": [
    "# Create CommunityDetection object\n",
    "#thi is the step that can take a bit - but not too bad\n",
    "cd = cdapsutil.CommunityDetection()\n",
    "G_hier = cd.run_community_detection(G_ndex, algorithm='hidefv1.1beta',arguments={'--maxres':'300'}) #play around with max res param or other params here\n"
   ],
   "metadata": {
    "collapsed": false
   },
   "id": "5838bb90c11e04de"
  },
  {
   "cell_type": "code",
   "execution_count": null,
   "outputs": [],
   "source": [
    "\n",
    "#back to networkx\n",
    "G_hier_net = G_hier.to_networkx(mode='default')\n"
   ],
   "metadata": {
    "collapsed": false
   },
   "id": "e5eaeb907b41130f"
  },
  {
   "cell_type": "code",
   "execution_count": null,
   "outputs": [],
   "source": [
    "nodes = G_hier_net.nodes()\n",
    "len(nodes)"
   ],
   "metadata": {
    "collapsed": false
   },
   "id": "42dfecd3a547859f"
  },
  {
   "cell_type": "code",
   "execution_count": null,
   "outputs": [],
   "source": [
    "\n",
    "#find which proteins are in which 'node' / community\n",
    "hier_df = pd.DataFrame.from_dict(dict(G_hier_net.nodes(data=True)), orient='index')\n",
    "hier_df['system_ID']=hier_df.index.tolist()\n",
    "hier_df['CD_MemberList_Size']=[int(x) for x in hier_df['CD_MemberList_Size'].tolist()]\n",
    "hier_df['HiDeF_persistence']=[int(x) for x in hier_df['HiDeF_persistence'].tolist()]\n",
    "#hier_df.head()\n"
   ],
   "metadata": {
    "collapsed": false
   },
   "id": "b034a4988f52a730"
  },
  {
   "cell_type": "code",
   "execution_count": null,
   "outputs": [],
   "source": [
    "hier_df"
   ],
   "metadata": {
    "collapsed": false
   },
   "id": "7ae91d3d94cf58da"
  },
  {
   "cell_type": "code",
   "execution_count": null,
   "outputs": [],
   "source": [
    "plt.hist(hier_df['CD_MemberList_Size'])"
   ],
   "metadata": {
    "collapsed": false
   },
   "id": "bed6f967331d303b"
  },
  {
   "cell_type": "code",
   "execution_count": null,
   "outputs": [],
   "source": [
    "trimmed=[]\n",
    "for i in hier_df['CD_MemberList_Size']:\n",
    "    if i<25:\n",
    "        trimmed.append(i)"
   ],
   "metadata": {
    "collapsed": false
   },
   "id": "d1531b056efd1607"
  },
  {
   "cell_type": "code",
   "execution_count": null,
   "outputs": [],
   "source": [
    "plt.hist(trimmed)"
   ],
   "metadata": {
    "collapsed": false
   },
   "id": "d54407733abfd2b8"
  },
  {
   "cell_type": "code",
   "execution_count": null,
   "outputs": [],
   "source": [
    "min(trimmed)"
   ],
   "metadata": {
    "collapsed": false
   },
   "id": "2eba6c603615c1d1"
  },
  {
   "cell_type": "code",
   "execution_count": null,
   "outputs": [],
   "source": [
    "trimmed"
   ],
   "metadata": {
    "collapsed": false
   },
   "id": "9861d2d477612ae9"
  },
  {
   "cell_type": "markdown",
   "source": [
    "# first filter then trim"
   ],
   "metadata": {
    "collapsed": false
   },
   "id": "9d4239afd9931397"
  },
  {
   "cell_type": "code",
   "execution_count": null,
   "outputs": [],
   "source": [
    "onecluster = pd.read_csv(\"/onecluster.csv\", index_col=0)\n",
    "onecluster\n",
    "keep_list = list(onecluster[\"xxx\"])\n",
    "len(keep_list)"
   ],
   "metadata": {
    "collapsed": false
   },
   "id": "80cb3eccdc9f3ed2"
  },
  {
   "cell_type": "code",
   "execution_count": null,
   "outputs": [],
   "source": [
    "filtered_communiities = []\n",
    "for st in hier_df['CD_MemberList']:\n",
    "\n",
    "    i = st.split()\n",
    "    new_i = []\n",
    "    for nod in i:\n",
    "        if nod in keep_list:\n",
    "            new_i.append(nod)\n",
    "    if len(new_i) > 0:\n",
    "        filtered_communiities.append(new_i)\n",
    "\n",
    "len(filtered_communiities)\n"
   ],
   "metadata": {
    "collapsed": false
   },
   "id": "3ebbecfd3bedee8e"
  },
  {
   "cell_type": "code",
   "execution_count": null,
   "outputs": [],
   "source": [
    "com_size = []\n",
    "ones = 0\n",
    "for community in filtered_communiities:\n",
    "    com_size.append(len(community))\n",
    "    if len(community) == 1:\n",
    "        ones += 1\n",
    "\n",
    "plt.hist(com_size)\n",
    "plt.xlabel(\"community size\")\n",
    "plt.ylabel(\"Frequency\")\n",
    "plt.title(\"Communities size distribution before discarding large ones\")"
   ],
   "metadata": {
    "collapsed": false
   },
   "id": "3e4117a12d7d1ca6"
  },
  {
   "cell_type": "code",
   "execution_count": null,
   "outputs": [],
   "source": [
    "label_list = []\n",
    "nodes_list = []\n",
    "label = 1\n",
    "for community in filtered_communiities:\n",
    "    for nod in community:\n",
    "        label_list.append(\"community \" + str(label))\n",
    "        nodes_list.append(nod)\n",
    "        #combined_G.nodes[nod][\"community label\"]=\"community \"+str(label)\n",
    "    label += 1\n",
    "len(nodes_list)"
   ],
   "metadata": {
    "collapsed": false
   },
   "id": "f41f10c4183c1a0"
  },
  {
   "cell_type": "code",
   "execution_count": null,
   "outputs": [],
   "source": [
    "\n",
    "\n",
    "\n",
    "trimmed_filtered_communiities = []\n",
    "for i in filtered_communiities:\n",
    "    #print(\"comm: \" ,i)\n",
    "    if len(i) < 50:\n",
    "        #print(\"len comm: :\", len(i))\n",
    "        trimmed_filtered_communiities.append(i)\n",
    "\n",
    "com_size = []\n",
    "ones = 0\n",
    "for community in trimmed_filtered_communiities:\n",
    "    com_size.append(len(community))\n",
    "    if len(community) == 1:\n",
    "        ones += 1\n",
    "plt.hist(com_size)\n",
    "plt.xlabel(\"community size\")\n",
    "plt.ylabel(\"Frequency\")\n",
    "plt.title(\"Communities size distribution after discarding large ones\")"
   ],
   "metadata": {
    "collapsed": false
   },
   "id": "210165d0f6663aa8"
  },
  {
   "cell_type": "code",
   "execution_count": null,
   "outputs": [],
   "source": [
    "min(com_size)"
   ],
   "metadata": {
    "collapsed": false
   },
   "id": "2147e6a19a12f3bd"
  },
  {
   "cell_type": "code",
   "execution_count": null,
   "outputs": [],
   "source": [
    "label_list = []\n",
    "nodes_list = []\n",
    "label = 1\n",
    "for community in trimmed_filtered_communiities:\n",
    "    for nod in community:\n",
    "        label_list.append(\"community \" + str(label))\n",
    "        nodes_list.append(nod)\n",
    "        #combined_G.nodes[nod][\"community label\"]=\"community \"+str(label)\n",
    "    label += 1\n",
    "len(nodes_list)"
   ],
   "metadata": {
    "collapsed": false
   },
   "id": "58c60b3c975f8da2"
  },
  {
   "cell_type": "code",
   "execution_count": null,
   "outputs": [],
   "source": [
    "\n",
    "output_30 = pd.DataFrame({\"id\": range(len(nodes_list)),\n",
    "                             \"xxx\": nodes_list,\n",
    "                             \"prediction\": label_list})\n"
   ],
   "metadata": {
    "collapsed": false
   },
   "id": "6103aa72416294bf"
  },
  {
   "cell_type": "code",
   "execution_count": null,
   "outputs": [],
   "source": [
    "output_30"
   ],
   "metadata": {
    "collapsed": false
   },
   "id": "aedd2e82200ec40f"
  },
  {
   "cell_type": "code",
   "execution_count": null,
   "outputs": [],
   "source": [
    "\n",
    "output_30.to_csv(\"/output 30.csv\", index=False)"
   ],
   "metadata": {
    "collapsed": false
   },
   "id": "d544c264b3fbd189"
  },
  {
   "cell_type": "code",
   "execution_count": null,
   "outputs": [],
   "source": [
    "#overlap_with_keep list\n",
    "overlap_with_keep_list=[]\n",
    "for prn in keep_list:\n",
    "    if prn in nodes_list:\n",
    "        overlap_with_keep_list.append(prn)"
   ],
   "metadata": {
    "collapsed": false
   },
   "id": "48bdf60ec3aa89a7"
  },
  {
   "cell_type": "code",
   "execution_count": null,
   "outputs": [],
   "source": [
    "len(overlap_with_keep_list)"
   ],
   "metadata": {
    "collapsed": false
   },
   "id": "1225655b5e5bc0a9"
  },
  {
   "cell_type": "code",
   "execution_count": null,
   "outputs": [],
   "source": [
    "len(set(overlap_with_keep_list))"
   ],
   "metadata": {
    "collapsed": false
   },
   "id": "c3dec5e189d57b95"
  },
  {
   "cell_type": "code",
   "execution_count": null,
   "outputs": [],
   "source": [
    "445/881"
   ],
   "metadata": {
    "collapsed": false
   },
   "id": "d65a83cdc8866b23"
  }
 ],
 "metadata": {
  "kernelspec": {
   "display_name": "Python 3",
   "language": "python",
   "name": "python3"
  },
  "language_info": {
   "codemirror_mode": {
    "name": "ipython",
    "version": 2
   },
   "file_extension": ".py",
   "mimetype": "text/x-python",
   "name": "python",
   "nbconvert_exporter": "python",
   "pygments_lexer": "ipython2",
   "version": "2.7.6"
  }
 },
 "nbformat": 4,
 "nbformat_minor": 5
}
